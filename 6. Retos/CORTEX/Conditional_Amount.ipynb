{
  "cells": [
    {
      "cell_type": "markdown",
      "id": "62633f7b",
      "metadata": {
        "id": "62633f7b"
      },
      "source": [
        "![Python_logo](https://www.python.org/static/community_logos/python-logo-master-v3-TM.png)\n",
        "\n",
        "\n",
        " # **Cortex Game: Round2--Conditional Amount**\n",
        "\n",
        "Please note that you need to run this notebook 'Round2--Conditional Amount' first, before running the notebook 'Round2--Probability of Giving'.   "
      ]
    },
    {
      "cell_type": "markdown",
      "id": "c86ee20b-a48f-40e0-a726-ed8d58c063b6",
      "metadata": {
        "id": "c86ee20b-a48f-40e0-a726-ed8d58c063b6"
      },
      "source": [
        "> Before playing the game, you need to connect to SASPy first.\n",
        ">\n",
        ">> If it is your first time, please follow the 4 steps mentioned below!"
      ]
    },
    {
      "cell_type": "markdown",
      "id": "002c4525-7d94-40d5-a71c-cad1c13347fa",
      "metadata": {
        "id": "002c4525-7d94-40d5-a71c-cad1c13347fa"
      },
      "source": [
        "***\n",
        "## **Connect to SASPy**"
      ]
    },
    {
      "cell_type": "markdown",
      "source": [
        "**0- Connect to your Google Drive folder**"
      ],
      "metadata": {
        "id": "o2U8LlKyD2xJ"
      },
      "id": "o2U8LlKyD2xJ"
    },
    {
      "cell_type": "code",
      "source": [
        "my_folder = \"/content/drive/MyDrive/RetoSAS\"\n",
        "\n",
        "from google.colab import drive\n",
        "drive.mount('/content/drive')\n",
        "\n",
        "# Change the following code to set your Drive folder\n",
        "import os\n",
        "os.chdir(my_folder)\n",
        "!pwd"
      ],
      "metadata": {
        "colab": {
          "base_uri": "https://localhost:8080/"
        },
        "id": "g9wt4YQRD2L4",
        "outputId": "ed3875e9-72ad-44af-f9b5-82b3d7cb316e"
      },
      "id": "g9wt4YQRD2L4",
      "execution_count": null,
      "outputs": [
        {
          "output_type": "stream",
          "name": "stdout",
          "text": [
            "Drive already mounted at /content/drive; to attempt to forcibly remount, call drive.mount(\"/content/drive\", force_remount=True).\n",
            "/content/drive/MyDrive/RetoSAS\n"
          ]
        }
      ]
    },
    {
      "cell_type": "markdown",
      "id": "167ab055-0d92-4d45-987f-33c7272b5a41",
      "metadata": {
        "id": "167ab055-0d92-4d45-987f-33c7272b5a41"
      },
      "source": [
        "**1- Make sure that your Python version is 3.3 or higher as well as your Java version is 1.8.0_162 or higher**"
      ]
    },
    {
      "cell_type": "code",
      "execution_count": null,
      "id": "e10e8290-97b0-4166-8576-bdd0e7ccd288",
      "metadata": {
        "collapsed": true,
        "colab": {
          "base_uri": "https://localhost:8080/"
        },
        "id": "e10e8290-97b0-4166-8576-bdd0e7ccd288",
        "outputId": "5c948dab-4514-4912-8b0f-7fd7ec88648f"
      },
      "outputs": [
        {
          "output_type": "stream",
          "name": "stdout",
          "text": [
            "Python is at /usr/local/bin/python\n",
            "Python 3.8.15\n"
          ]
        }
      ],
      "source": [
        "!echo \"Python is at\" $(which python)\n",
        "!python --version"
      ]
    },
    {
      "cell_type": "code",
      "source": [
        "!echo \"Java is at\" $(which java)\n",
        "!/usr/bin/java -version"
      ],
      "metadata": {
        "colab": {
          "base_uri": "https://localhost:8080/"
        },
        "id": "qBZhEsp2D_jF",
        "outputId": "616c2dee-aa37-4223-d798-384574d42bca"
      },
      "id": "qBZhEsp2D_jF",
      "execution_count": null,
      "outputs": [
        {
          "output_type": "stream",
          "name": "stdout",
          "text": [
            "Java is at /usr/bin/java\n",
            "openjdk version \"11.0.17\" 2022-10-18\n",
            "OpenJDK Runtime Environment (build 11.0.17+8-post-Ubuntu-1ubuntu218.04)\n",
            "OpenJDK 64-Bit Server VM (build 11.0.17+8-post-Ubuntu-1ubuntu218.04, mixed mode, sharing)\n"
          ]
        }
      ]
    },
    {
      "cell_type": "markdown",
      "id": "86bdc74f-a047-4782-9737-41e0274fd1f7",
      "metadata": {
        "id": "86bdc74f-a047-4782-9737-41e0274fd1f7"
      },
      "source": [
        "**2- Install SASPy**"
      ]
    },
    {
      "cell_type": "code",
      "execution_count": null,
      "id": "07fc07de-8c34-4d44-be52-fb4cedf9fd6a",
      "metadata": {
        "colab": {
          "base_uri": "https://localhost:8080/"
        },
        "id": "07fc07de-8c34-4d44-be52-fb4cedf9fd6a",
        "outputId": "ddea2c4e-88ea-441b-dd33-f4cd883a6bcb"
      },
      "outputs": [
        {
          "output_type": "stream",
          "name": "stdout",
          "text": [
            "Looking in indexes: https://pypi.org/simple, https://us-python.pkg.dev/colab-wheels/public/simple/\n",
            "Requirement already satisfied: saspy in /usr/local/lib/python3.8/dist-packages (4.4.1)\n"
          ]
        }
      ],
      "source": [
        "pip install saspy"
      ]
    },
    {
      "cell_type": "markdown",
      "id": "9d37f71f-228c-4aa6-b4a2-3b03200bb46a",
      "metadata": {
        "id": "9d37f71f-228c-4aa6-b4a2-3b03200bb46a"
      },
      "source": [
        "**3- Create the configuration file \"sascfg_personal.py\"**\n",
        "Please, check that your Home Region is correct, you can check it at [ODA-SAS](https://welcome.oda.sas.com/home)"
      ]
    },
    {
      "cell_type": "code",
      "execution_count": null,
      "id": "83761b63-3c3f-4e12-b2de-3f39a203986d",
      "metadata": {
        "collapsed": true,
        "tags": [],
        "colab": {
          "base_uri": "https://localhost:8080/"
        },
        "id": "83761b63-3c3f-4e12-b2de-3f39a203986d",
        "outputId": "cc28e7f7-f5ac-48c7-b73a-933cb5ef9198"
      },
      "outputs": [
        {
          "output_type": "stream",
          "name": "stdout",
          "text": [
            "Overwriting sascfg_personal.py\n"
          ]
        }
      ],
      "source": [
        "%%writefile sascfg_personal.py\n",
        "SAS_config_names=['oda']\n",
        "oda = {'java' : '/usr/bin/java',\n",
        "#US Home Region 1\n",
        "#'iomhost' : ['odaws01-usw2.oda.sas.com','odaws02-usw2.oda.sas.com','odaws03-usw2.oda.sas.com','odaws04-usw2.oda.sas.com'],\n",
        "#US Home Region 2\n",
        "'iomhost' : ['odaws01-usw2-2.oda.sas.com','odaws02-usw2-2.oda.sas.com'],\n",
        "#European Home Region 1\n",
        "#'iomhost' : ['odaws01-euw1.oda.sas.com','odaws02-euw1.oda.sas.com'],\n",
        "#Asia Pacific Home Region 1\n",
        "#'iomhost' : ['odaws01-apse1.oda.sas.com','odaws02-apse1.oda.sas.com'],\n",
        "#Asia Pacific Home Region 2\n",
        "#'iomhost' : ['odaws01-apse1-2.oda.sas.com','odaws02-apse1-2.oda.sas.com'],\n",
        "'iomport' : 8591,\n",
        "'authkey' : 'oda',\n",
        "'encoding' : 'utf-8'\n",
        "}"
      ]
    },
    {
      "cell_type": "markdown",
      "source": [
        "**4- Create your .authinfo**"
      ],
      "metadata": {
        "id": "YSM6Rl2zETJk"
      },
      "id": "YSM6Rl2zETJk"
    },
    {
      "cell_type": "markdown",
      "source": [
        "If there is no .authinfo file, you can create this"
      ],
      "metadata": {
        "id": "CSoOqIAgEXoM"
      },
      "id": "CSoOqIAgEXoM"
    },
    {
      "cell_type": "code",
      "source": [
        "#%%writefile .authinfo\n",
        "#oda user USR password PSW"
      ],
      "metadata": {
        "id": "UmLrv6cCETrF"
      },
      "id": "UmLrv6cCETrF",
      "execution_count": null,
      "outputs": []
    },
    {
      "cell_type": "markdown",
      "source": [
        "Copy this file to home"
      ],
      "metadata": {
        "id": "CQey8PS9EYm_"
      },
      "id": "CQey8PS9EYm_"
    },
    {
      "cell_type": "code",
      "source": [
        "!cp .authinfo ~/.authinfo"
      ],
      "metadata": {
        "id": "FM9XvF-GEbPi"
      },
      "id": "FM9XvF-GEbPi",
      "execution_count": null,
      "outputs": []
    },
    {
      "cell_type": "markdown",
      "id": "326e7b08-655d-4b1b-a720-87ba34c63d07",
      "metadata": {
        "id": "326e7b08-655d-4b1b-a720-87ba34c63d07"
      },
      "source": [
        "**5- Establish Connection (Need to do this step each time you use SASPy)**"
      ]
    },
    {
      "cell_type": "code",
      "execution_count": null,
      "id": "f5510764-6263-440e-9b0e-1cac5b1472f8",
      "metadata": {
        "collapsed": true,
        "colab": {
          "base_uri": "https://localhost:8080/"
        },
        "id": "f5510764-6263-440e-9b0e-1cac5b1472f8",
        "outputId": "75ec828f-eeac-4ecd-fdb6-9092f481b9fc"
      },
      "outputs": [
        {
          "output_type": "stream",
          "name": "stdout",
          "text": [
            "Using SAS Config named: oda\n",
            "SAS Connection established. Subprocess id is 1544\n",
            "\n"
          ]
        },
        {
          "output_type": "execute_result",
          "data": {
            "text/plain": [
              "Access Method         = IOM\n",
              "SAS Config name       = oda\n",
              "SAS Config file       = /content/drive/MyDrive/RetoSAS/sascfg_personal.py\n",
              "WORK Path             = /saswork/SAS_work737700012DD4_odaws01-usw2-2.oda.sas.com/SAS_workDDD100012DD4_odaws01-usw2-2.oda.sas.com/\n",
              "SAS Version           = 9.04.01M6P11072018\n",
              "SASPy Version         = 4.4.1\n",
              "Teach me SAS          = False\n",
              "Batch                 = False\n",
              "Results               = Pandas\n",
              "SAS Session Encoding  = utf-8\n",
              "Python Encoding value = utf-8\n",
              "SAS process Pid value = 77268\n"
            ]
          },
          "metadata": {},
          "execution_count": 138
        }
      ],
      "source": [
        "import saspy\n",
        "sas_session = saspy.SASsession(cfgfile=os.path.join(\n",
        "    my_folder,\"sascfg_personal.py\"))\n",
        "sas_session"
      ]
    },
    {
      "cell_type": "markdown",
      "id": "19574f6f-9486-47f1-99e4-ca8141139cd4",
      "metadata": {
        "id": "19574f6f-9486-47f1-99e4-ca8141139cd4"
      },
      "source": [
        "***\n",
        "## Connect to Cortex Data Sets"
      ]
    },
    {
      "cell_type": "markdown",
      "id": "5ffa5b48",
      "metadata": {
        "id": "5ffa5b48"
      },
      "source": [
        "Load Cortex datasets from SAS Studio"
      ]
    },
    {
      "cell_type": "code",
      "source": [
        "ps = sas_session.submit(\"\"\"\n",
        "    libname cortex '~/my_shared_file_links/u39842936/Cortex Data Sets';\n",
        "    \"\"\")\n",
        "print(ps[\"LOG\"])"
      ],
      "metadata": {
        "colab": {
          "base_uri": "https://localhost:8080/"
        },
        "id": "MZppOBBeRYFO",
        "outputId": "48121bd8-e667-47fd-99e9-64c32a27fde9"
      },
      "id": "MZppOBBeRYFO",
      "execution_count": null,
      "outputs": [
        {
          "output_type": "stream",
          "name": "stdout",
          "text": [
            "\n",
            "5                                                          The SAS System                      Friday, December  2, 2022 05:34:00 AM\n",
            "\n",
            "24         ods listing close;ods html5 (id=saspy_internal) file=_tomods1 options(bitmap_mode='inline') device=svg style=HTMLBlue;\n",
            "24       ! ods graphics on / outputfmt=png;\n",
            "25         \n",
            "26         \n",
            "27             libname cortex '~/my_shared_file_links/u39842936/Cortex Data Sets';\n",
            "28         \n",
            "29         \n",
            "30         \n",
            "31         ods html5 (id=saspy_internal) close;ods listing;\n",
            "32         \n",
            "\n",
            "6                                                          The SAS System                      Friday, December  2, 2022 05:34:00 AM\n",
            "\n",
            "33         \n"
          ]
        }
      ]
    },
    {
      "cell_type": "markdown",
      "source": [
        "For local Jupyter"
      ],
      "metadata": {
        "id": "ib1jUAN5Enkz"
      },
      "id": "ib1jUAN5Enkz"
    },
    {
      "cell_type": "code",
      "execution_count": null,
      "id": "d4204cf9",
      "metadata": {
        "collapsed": true,
        "id": "d4204cf9"
      },
      "outputs": [],
      "source": [
        "#%%SAS sas_session\n",
        "#libname cortex '~/my_shared_file_links/u39842936/Cortex Data Sets';"
      ]
    },
    {
      "cell_type": "markdown",
      "id": "bb730ee9",
      "metadata": {
        "id": "bb730ee9"
      },
      "source": [
        "### Transform cloud SAS dataset to Python dataframe (pandas)\n",
        "\n",
        "> For reference: \n",
        "\n",
        "> 1- [Pandas library](https://pandas.pydata.org/docs/user_guide/index.html)\n",
        "\n",
        "> 2- [sklearn.model_selection for data partition](https://scikit-learn.org/stable/modules/generated/sklearn.model_selection.train_test_split.html)"
      ]
    },
    {
      "cell_type": "code",
      "execution_count": null,
      "id": "f298efcc",
      "metadata": {
        "id": "f298efcc"
      },
      "outputs": [],
      "source": [
        "import pandas as pd\n",
        "import numpy as np\n",
        "\n",
        "#comment: Transform cloud sas dataset to python dataframe(pandas) ==> might take some time.\n",
        "\n",
        "data1 = sas_session.sasdata2dataframe(\n",
        "table='hist',\n",
        "libref='cortex'\n",
        ")\n",
        "\n",
        "data2 = sas_session.sasdata2dataframe(\n",
        "table='target_rd2',\n",
        "libref='cortex'\n",
        ")"
      ]
    },
    {
      "cell_type": "markdown",
      "id": "5d6a7d11-cd31-452e-a62b-b74479b86898",
      "metadata": {
        "id": "5d6a7d11-cd31-452e-a62b-b74479b86898"
      },
      "source": [
        "## Merge the Data"
      ]
    },
    {
      "cell_type": "code",
      "execution_count": null,
      "id": "419ef624",
      "metadata": {
        "collapsed": true,
        "colab": {
          "base_uri": "https://localhost:8080/"
        },
        "id": "419ef624",
        "outputId": "3d9cb30f-ad3d-47bf-e439-7e898679e105"
      },
      "outputs": [
        {
          "output_type": "execute_result",
          "data": {
            "text/plain": [
              "Index(['ID', 'LastName', 'FirstName', 'Woman', 'Age', 'Salary', 'Education',\n",
              "       'City', 'SeniorList', 'NbActivities', 'Referrals', 'Recency',\n",
              "       'Frequency', 'Seniority', 'TotalGift', 'MinGift', 'MaxGift',\n",
              "       'GaveLastYear', 'AmtLastYear', 'Contact', 'GaveThisYear',\n",
              "       'AmtThisYear'],\n",
              "      dtype='object')"
            ]
          },
          "metadata": {},
          "execution_count": 142
        }
      ],
      "source": [
        "#Step1 Merge the Data\n",
        "data_merge = pd.merge(data1, data2, on=[\"ID\"],how=\"right\")\n",
        "data_merge.columns"
      ]
    },
    {
      "cell_type": "code",
      "source": [
        "data_merge.to_csv('data_merge.csv', index=False)"
      ],
      "metadata": {
        "id": "2dt2d8eX-3qn"
      },
      "id": "2dt2d8eX-3qn",
      "execution_count": null,
      "outputs": []
    },
    {
      "cell_type": "code",
      "source": [
        "cualitativas = [\"Woman\", \"Education\", \"City\",\"SeniorList\",\"GaveLastYear\",\"GaveThisYear\"]\n",
        "cuantitativas = [\"Age\", \"Salary\", \"NbActivities\", \"Referrals\", \"Recency\", \"Frequency\", \"Seniority\", \"TotalGift\", \"MinGift\", \"MaxGift\",\"AmtLastYear\",\"AmtThisYear\"]\n",
        "cuantitativas_sin_y = [\"Age\", \"Salary\", \"NbActivities\", \"Referrals\", \"Recency\", \"Frequency\", \"Seniority\", \"TotalGift\", \"MinGift\", \"MaxGift\",\"AmtLastYear\"]"
      ],
      "metadata": {
        "id": "fCpzsQIybnXG"
      },
      "id": "fCpzsQIybnXG",
      "execution_count": null,
      "outputs": []
    },
    {
      "cell_type": "markdown",
      "metadata": {
        "id": "11f80a12-8482-4d72-8c10-656f5d1fe657"
      },
      "source": [
        "## Treat Missing Values\n",
        "\n",
        "> Please be aware that deleting all missing values can induce a selection bias. \n",
        "Some missing values are very informative. For example, when MinGift is missing, it means that the donor never gave in the past 10 years (leading to but excluding last year). Instead of deleting this information, replacing it by 0 is more appropriate!\n",
        "\n",
        "> A good understanding of the business case and the data can help you come up with more appropriate strategies to deal with missing values.\n"
      ],
      "id": "11f80a12-8482-4d72-8c10-656f5d1fe657"
    },
    {
      "cell_type": "code",
      "execution_count": null,
      "metadata": {
        "collapsed": true,
        "id": "9342cca8"
      },
      "outputs": [],
      "source": [
        "# In this case, we are replacing MinGift by 0.\n",
        "# You can do the same for what you think is reasonable for dealing with the other variables.\n",
        "def deal_missing_values(data): \n",
        "  contarLastYear = False\n",
        "  if contarLastYear:\n",
        "    # Contando LastYear\n",
        "    # MinGift\n",
        "    data.loc[data[\"GaveLastYear\"] == 1 & (data[\"AmtLastYear\"] < data[\"MinGift\"]), \"MinGift\"] = data[\"AmtLastYear\"]\n",
        "    data.loc[(data[\"GaveLastYear\"] == 1) & (np.isnan(data[\"MinGift\"])), \"MinGift\"] = data[\"AmtLastYear\"]\n",
        "    data[['MinGift']] = data[['MinGift']].fillna(value=0)\n",
        "\n",
        "    # Recency\n",
        "    data.loc[data[\"GaveLastYear\"] == 0,\"Recency\"] += 1\n",
        "    data.loc[np.isnan(data[\"Recency\"]) & (data[\"GaveLastYear\"] == 0),\"Recency\"] = 12.0\n",
        "    data.loc[data[\"GaveLastYear\"] == 1,\"Recency\"] = 1.0\n",
        "\n",
        "    # Frequency\n",
        "    data.loc[data[\"GaveLastYear\"] == 1,\"Frequency\"] += 1\n",
        "    data.loc[np.isnan(data[\"Frequency\"]) & (data[\"GaveLastYear\"] == 1),\"Frequency\"] = 1\n",
        "    data[['Frequency']] = data[['Frequency']].fillna(value=0)\n",
        "\n",
        "    # Seniority\n",
        "    data[['Seniority']] = data[['Seniority']].fillna(round(data['Seniority'].mean()))\n",
        "\n",
        "    # TotalGift\n",
        "    data.loc[data[\"GaveLastYear\"] == 1,\"TotalGift\"] += data[\"AmtLastYear\"]\n",
        "    data.loc[np.isnan(data[\"TotalGift\"]) & (data[\"GaveLastYear\"] == 1),\"TotalGift\"] = data[\"AmtLastYear\"]\n",
        "    data[['TotalGift']] = data[['TotalGift']].fillna(value=0)\n",
        "\n",
        "    # MaxGift\n",
        "    data.loc[data[\"GaveLastYear\"] == 1 & (data[\"AmtLastYear\"] > data[\"MaxGift\"]), \"MaxGift\"] = data[\"AmtLastYear\"]\n",
        "    # data.loc[(data[\"GaveLastYear\"] == 1) & (np.isnan(data[\"MaxGift\"])), \"MaxGift\"] = data.loc[(data[\"GaveLastYear\"] == 1) & (np.isnan(data[\"MaxGift\"])),\"AmtLastYear\"]\n",
        "    data.loc[(data[\"GaveLastYear\"] == 1) & (np.isnan(data[\"MaxGift\"])), \"MaxGift\"] = data[\"AmtLastYear\"]\n",
        "    data[['MaxGift']] = data[['MaxGift']].fillna(value=0)\n",
        "\n",
        "  else:\n",
        "\n",
        "    #Sin Contar LastYear\n",
        "    data[['MinGift']] = data[['MinGift']].fillna(value=0)\n",
        "    data[['Recency']] = data[['Recency']].fillna(value=0)\n",
        "    data[['Frequency']] = data[['Frequency']].fillna(value=0)\n",
        "    data[['Seniority']] = data[['Seniority']].fillna(value=0)\n",
        "    data[['TotalGift']] = data[['TotalGift']].fillna(value=0)\n",
        "    data[['MaxGift']] = data[['MaxGift']].fillna(value=0)\n",
        "\n",
        "  return data\n",
        "\n",
        "# data.sample(3)"
      ],
      "id": "9342cca8"
    },
    {
      "cell_type": "markdown",
      "source": [
        "## Data normalize"
      ],
      "metadata": {
        "id": "Jtx-JVNhdrOe"
      },
      "id": "Jtx-JVNhdrOe"
    },
    {
      "cell_type": "code",
      "source": [
        "from sklearn.preprocessing import normalize"
      ],
      "metadata": {
        "id": "XVkhqkwUdqwN"
      },
      "id": "XVkhqkwUdqwN",
      "execution_count": null,
      "outputs": []
    },
    {
      "cell_type": "code",
      "source": [
        "def normalize_data(data):\n",
        "  data[cuantitativas_sin_y] = normalize(data[cuantitativas_sin_y], norm='l2')\n",
        "\n",
        "  return data"
      ],
      "metadata": {
        "id": "MsRCJP00dymd"
      },
      "id": "MsRCJP00dymd",
      "execution_count": null,
      "outputs": []
    },
    {
      "cell_type": "markdown",
      "source": [
        "## Data standardize"
      ],
      "metadata": {
        "id": "_aqwFJ0FS-cz"
      },
      "id": "_aqwFJ0FS-cz"
    },
    {
      "cell_type": "code",
      "source": [
        "from sklearn.preprocessing import StandardScaler\n",
        "\n",
        "def standardize_data(data): \n",
        "  scaler = StandardScaler()\n",
        "  scaler.fit(data[cuantitativas_sin_y])\n",
        "  transformed = scaler.transform(data[cuantitativas_sin_y])\n",
        "\n",
        "  data[cuantitativas_sin_y] =  pd.DataFrame(transformed, columns = data[cuantitativas_sin_y].columns)\n",
        "\n",
        "  return data\n",
        "# data.head(10)"
      ],
      "metadata": {
        "id": "ptin7kaHS-Kw"
      },
      "execution_count": null,
      "outputs": [],
      "id": "ptin7kaHS-Kw"
    },
    {
      "cell_type": "code",
      "source": [
        "from sklearn.preprocessing import MinMaxScaler\n",
        "\n",
        "def min_max_data(data): \n",
        "  scaler = MinMaxScaler()\n",
        "  scaler.fit(data[cuantitativas_sin_y])\n",
        "  transformed = scaler.transform(data[cuantitativas_sin_y])\n",
        "\n",
        "  data[cuantitativas_sin_y] =  pd.DataFrame(transformed, columns = data[cuantitativas_sin_y].columns)\n",
        "\n",
        "  return data\n",
        "# data.head(10)"
      ],
      "metadata": {
        "id": "TciABMZ8YIRv"
      },
      "id": "TciABMZ8YIRv",
      "execution_count": null,
      "outputs": []
    },
    {
      "cell_type": "markdown",
      "source": [
        "## One Hot Encoding"
      ],
      "metadata": {
        "id": "sMNG6CApTb2q"
      },
      "id": "sMNG6CApTb2q"
    },
    {
      "cell_type": "code",
      "source": [
        "def one_hot_function(data): \n",
        "\n",
        "  data = pd.get_dummies(data, columns = ['Education', 'City'])\n",
        "  return data\n",
        "\n",
        "# data.head(5)"
      ],
      "metadata": {
        "id": "ipXuAFa1TbM1"
      },
      "execution_count": null,
      "outputs": [],
      "id": "ipXuAFa1TbM1"
    },
    {
      "cell_type": "code",
      "source": [
        "data_merge = deal_missing_values(data_merge)\n",
        "data_merge = standardize_data(data_merge)\n",
        "# data_merge = min_max_data(data_merge)\n",
        "data_merge = one_hot_function(data_merge)\n",
        "\n"
      ],
      "metadata": {
        "id": "HH8akKUzXb3z"
      },
      "execution_count": null,
      "outputs": [],
      "id": "HH8akKUzXb3z"
    },
    {
      "cell_type": "code",
      "source": [
        "data_merge.loc[np.isnan(data_merge['Age'])]"
      ],
      "metadata": {
        "colab": {
          "base_uri": "https://localhost:8080/",
          "height": 160
        },
        "id": "-R0Mtzh7buA-",
        "outputId": "7195818e-be53-4b0e-f582-6801f76b6aea"
      },
      "id": "-R0Mtzh7buA-",
      "execution_count": null,
      "outputs": [
        {
          "output_type": "execute_result",
          "data": {
            "text/plain": [
              "Empty DataFrame\n",
              "Columns: [ID, LastName, FirstName, Woman, Age, Salary, SeniorList, NbActivities, Referrals, Recency, Frequency, Seniority, TotalGift, MinGift, MaxGift, GaveLastYear, AmtLastYear, Contact, GaveThisYear, AmtThisYear, Education_Elementary, Education_High School, Education_University / College, City_City, City_Downtown, City_Rural, City_Suburban]\n",
              "Index: []\n",
              "\n",
              "[0 rows x 27 columns]"
            ],
            "text/html": [
              "\n",
              "  <div id=\"df-2b883755-21b2-460d-84d8-b93c9be184af\">\n",
              "    <div class=\"colab-df-container\">\n",
              "      <div>\n",
              "<style scoped>\n",
              "    .dataframe tbody tr th:only-of-type {\n",
              "        vertical-align: middle;\n",
              "    }\n",
              "\n",
              "    .dataframe tbody tr th {\n",
              "        vertical-align: top;\n",
              "    }\n",
              "\n",
              "    .dataframe thead th {\n",
              "        text-align: right;\n",
              "    }\n",
              "</style>\n",
              "<table border=\"1\" class=\"dataframe\">\n",
              "  <thead>\n",
              "    <tr style=\"text-align: right;\">\n",
              "      <th></th>\n",
              "      <th>ID</th>\n",
              "      <th>LastName</th>\n",
              "      <th>FirstName</th>\n",
              "      <th>Woman</th>\n",
              "      <th>Age</th>\n",
              "      <th>Salary</th>\n",
              "      <th>SeniorList</th>\n",
              "      <th>NbActivities</th>\n",
              "      <th>Referrals</th>\n",
              "      <th>Recency</th>\n",
              "      <th>...</th>\n",
              "      <th>Contact</th>\n",
              "      <th>GaveThisYear</th>\n",
              "      <th>AmtThisYear</th>\n",
              "      <th>Education_Elementary</th>\n",
              "      <th>Education_High School</th>\n",
              "      <th>Education_University / College</th>\n",
              "      <th>City_City</th>\n",
              "      <th>City_Downtown</th>\n",
              "      <th>City_Rural</th>\n",
              "      <th>City_Suburban</th>\n",
              "    </tr>\n",
              "  </thead>\n",
              "  <tbody>\n",
              "  </tbody>\n",
              "</table>\n",
              "<p>0 rows × 27 columns</p>\n",
              "</div>\n",
              "      <button class=\"colab-df-convert\" onclick=\"convertToInteractive('df-2b883755-21b2-460d-84d8-b93c9be184af')\"\n",
              "              title=\"Convert this dataframe to an interactive table.\"\n",
              "              style=\"display:none;\">\n",
              "        \n",
              "  <svg xmlns=\"http://www.w3.org/2000/svg\" height=\"24px\"viewBox=\"0 0 24 24\"\n",
              "       width=\"24px\">\n",
              "    <path d=\"M0 0h24v24H0V0z\" fill=\"none\"/>\n",
              "    <path d=\"M18.56 5.44l.94 2.06.94-2.06 2.06-.94-2.06-.94-.94-2.06-.94 2.06-2.06.94zm-11 1L8.5 8.5l.94-2.06 2.06-.94-2.06-.94L8.5 2.5l-.94 2.06-2.06.94zm10 10l.94 2.06.94-2.06 2.06-.94-2.06-.94-.94-2.06-.94 2.06-2.06.94z\"/><path d=\"M17.41 7.96l-1.37-1.37c-.4-.4-.92-.59-1.43-.59-.52 0-1.04.2-1.43.59L10.3 9.45l-7.72 7.72c-.78.78-.78 2.05 0 2.83L4 21.41c.39.39.9.59 1.41.59.51 0 1.02-.2 1.41-.59l7.78-7.78 2.81-2.81c.8-.78.8-2.07 0-2.86zM5.41 20L4 18.59l7.72-7.72 1.47 1.35L5.41 20z\"/>\n",
              "  </svg>\n",
              "      </button>\n",
              "      \n",
              "  <style>\n",
              "    .colab-df-container {\n",
              "      display:flex;\n",
              "      flex-wrap:wrap;\n",
              "      gap: 12px;\n",
              "    }\n",
              "\n",
              "    .colab-df-convert {\n",
              "      background-color: #E8F0FE;\n",
              "      border: none;\n",
              "      border-radius: 50%;\n",
              "      cursor: pointer;\n",
              "      display: none;\n",
              "      fill: #1967D2;\n",
              "      height: 32px;\n",
              "      padding: 0 0 0 0;\n",
              "      width: 32px;\n",
              "    }\n",
              "\n",
              "    .colab-df-convert:hover {\n",
              "      background-color: #E2EBFA;\n",
              "      box-shadow: 0px 1px 2px rgba(60, 64, 67, 0.3), 0px 1px 3px 1px rgba(60, 64, 67, 0.15);\n",
              "      fill: #174EA6;\n",
              "    }\n",
              "\n",
              "    [theme=dark] .colab-df-convert {\n",
              "      background-color: #3B4455;\n",
              "      fill: #D2E3FC;\n",
              "    }\n",
              "\n",
              "    [theme=dark] .colab-df-convert:hover {\n",
              "      background-color: #434B5C;\n",
              "      box-shadow: 0px 1px 3px 1px rgba(0, 0, 0, 0.15);\n",
              "      filter: drop-shadow(0px 1px 2px rgba(0, 0, 0, 0.3));\n",
              "      fill: #FFFFFF;\n",
              "    }\n",
              "  </style>\n",
              "\n",
              "      <script>\n",
              "        const buttonEl =\n",
              "          document.querySelector('#df-2b883755-21b2-460d-84d8-b93c9be184af button.colab-df-convert');\n",
              "        buttonEl.style.display =\n",
              "          google.colab.kernel.accessAllowed ? 'block' : 'none';\n",
              "\n",
              "        async function convertToInteractive(key) {\n",
              "          const element = document.querySelector('#df-2b883755-21b2-460d-84d8-b93c9be184af');\n",
              "          const dataTable =\n",
              "            await google.colab.kernel.invokeFunction('convertToInteractive',\n",
              "                                                     [key], {});\n",
              "          if (!dataTable) return;\n",
              "\n",
              "          const docLinkHtml = 'Like what you see? Visit the ' +\n",
              "            '<a target=\"_blank\" href=https://colab.research.google.com/notebooks/data_table.ipynb>data table notebook</a>'\n",
              "            + ' to learn more about interactive tables.';\n",
              "          element.innerHTML = '';\n",
              "          dataTable['output_type'] = 'display_data';\n",
              "          await google.colab.output.renderOutput(dataTable, element);\n",
              "          const docLink = document.createElement('div');\n",
              "          docLink.innerHTML = docLinkHtml;\n",
              "          element.appendChild(docLink);\n",
              "        }\n",
              "      </script>\n",
              "    </div>\n",
              "  </div>\n",
              "  "
            ]
          },
          "metadata": {},
          "execution_count": 152
        }
      ]
    },
    {
      "cell_type": "code",
      "source": [
        "# data_merge = data_merge.loc[(data_merge['GaveThisYear'] ==1)]"
      ],
      "metadata": {
        "id": "2uta48ahszFj"
      },
      "id": "2uta48ahszFj",
      "execution_count": null,
      "outputs": []
    },
    {
      "cell_type": "code",
      "source": [
        "data_merge.tail()"
      ],
      "metadata": {
        "colab": {
          "base_uri": "https://localhost:8080/",
          "height": 317
        },
        "id": "SlrSOrrPs16o",
        "outputId": "8a19d329-e93f-42bb-c0be-1e1f4062efa4"
      },
      "id": "SlrSOrrPs16o",
      "execution_count": null,
      "outputs": [
        {
          "output_type": "execute_result",
          "data": {
            "text/plain": [
              "               ID  LastName FirstName  Woman       Age    Salary  SeniorList  \\\n",
              "999995  2999996.0  SCHUBERT   FRANCES    1.0 -0.916647 -0.826057         8.0   \n",
              "999996  2999997.0     LUGGE      MARY    1.0 -1.286132 -0.958732        10.0   \n",
              "999997  2999998.0       ROY  REGINALD    0.0 -1.550049 -1.057011        10.0   \n",
              "999998  2999999.0   LIBERTI    PAMELA    1.0 -0.758297 -0.354321         0.0   \n",
              "999999  3000000.0      BELL     SYBIL    1.0  0.191806 -0.215093         4.0   \n",
              "\n",
              "        NbActivities  Referrals   Recency  ...  Contact  GaveThisYear  \\\n",
              "999995      2.446410   1.365663  2.103732  ...      0.0           0.0   \n",
              "999996     -0.563214  -0.531824 -0.540697  ...      0.0           0.0   \n",
              "999997      0.439994   0.416919 -0.011812  ...      0.0           0.0   \n",
              "999998     -0.563214  -0.531824 -0.540697  ...      0.0           1.0   \n",
              "999999     -0.563214  -0.531824 -0.540697  ...      0.0           0.0   \n",
              "\n",
              "        AmtThisYear  Education_Elementary  Education_High School  \\\n",
              "999995          0.0                     0                      1   \n",
              "999996          0.0                     0                      1   \n",
              "999997          0.0                     0                      1   \n",
              "999998         20.0                     0                      0   \n",
              "999999          0.0                     0                      0   \n",
              "\n",
              "        Education_University / College  City_City  City_Downtown  City_Rural  \\\n",
              "999995                               0          0              0           0   \n",
              "999996                               0          0              0           0   \n",
              "999997                               0          1              0           0   \n",
              "999998                               1          0              0           1   \n",
              "999999                               1          0              0           0   \n",
              "\n",
              "        City_Suburban  \n",
              "999995              1  \n",
              "999996              1  \n",
              "999997              0  \n",
              "999998              0  \n",
              "999999              1  \n",
              "\n",
              "[5 rows x 27 columns]"
            ],
            "text/html": [
              "\n",
              "  <div id=\"df-5c68d204-7932-4ce6-b583-3d6a92b02561\">\n",
              "    <div class=\"colab-df-container\">\n",
              "      <div>\n",
              "<style scoped>\n",
              "    .dataframe tbody tr th:only-of-type {\n",
              "        vertical-align: middle;\n",
              "    }\n",
              "\n",
              "    .dataframe tbody tr th {\n",
              "        vertical-align: top;\n",
              "    }\n",
              "\n",
              "    .dataframe thead th {\n",
              "        text-align: right;\n",
              "    }\n",
              "</style>\n",
              "<table border=\"1\" class=\"dataframe\">\n",
              "  <thead>\n",
              "    <tr style=\"text-align: right;\">\n",
              "      <th></th>\n",
              "      <th>ID</th>\n",
              "      <th>LastName</th>\n",
              "      <th>FirstName</th>\n",
              "      <th>Woman</th>\n",
              "      <th>Age</th>\n",
              "      <th>Salary</th>\n",
              "      <th>SeniorList</th>\n",
              "      <th>NbActivities</th>\n",
              "      <th>Referrals</th>\n",
              "      <th>Recency</th>\n",
              "      <th>...</th>\n",
              "      <th>Contact</th>\n",
              "      <th>GaveThisYear</th>\n",
              "      <th>AmtThisYear</th>\n",
              "      <th>Education_Elementary</th>\n",
              "      <th>Education_High School</th>\n",
              "      <th>Education_University / College</th>\n",
              "      <th>City_City</th>\n",
              "      <th>City_Downtown</th>\n",
              "      <th>City_Rural</th>\n",
              "      <th>City_Suburban</th>\n",
              "    </tr>\n",
              "  </thead>\n",
              "  <tbody>\n",
              "    <tr>\n",
              "      <th>999995</th>\n",
              "      <td>2999996.0</td>\n",
              "      <td>SCHUBERT</td>\n",
              "      <td>FRANCES</td>\n",
              "      <td>1.0</td>\n",
              "      <td>-0.916647</td>\n",
              "      <td>-0.826057</td>\n",
              "      <td>8.0</td>\n",
              "      <td>2.446410</td>\n",
              "      <td>1.365663</td>\n",
              "      <td>2.103732</td>\n",
              "      <td>...</td>\n",
              "      <td>0.0</td>\n",
              "      <td>0.0</td>\n",
              "      <td>0.0</td>\n",
              "      <td>0</td>\n",
              "      <td>1</td>\n",
              "      <td>0</td>\n",
              "      <td>0</td>\n",
              "      <td>0</td>\n",
              "      <td>0</td>\n",
              "      <td>1</td>\n",
              "    </tr>\n",
              "    <tr>\n",
              "      <th>999996</th>\n",
              "      <td>2999997.0</td>\n",
              "      <td>LUGGE</td>\n",
              "      <td>MARY</td>\n",
              "      <td>1.0</td>\n",
              "      <td>-1.286132</td>\n",
              "      <td>-0.958732</td>\n",
              "      <td>10.0</td>\n",
              "      <td>-0.563214</td>\n",
              "      <td>-0.531824</td>\n",
              "      <td>-0.540697</td>\n",
              "      <td>...</td>\n",
              "      <td>0.0</td>\n",
              "      <td>0.0</td>\n",
              "      <td>0.0</td>\n",
              "      <td>0</td>\n",
              "      <td>1</td>\n",
              "      <td>0</td>\n",
              "      <td>0</td>\n",
              "      <td>0</td>\n",
              "      <td>0</td>\n",
              "      <td>1</td>\n",
              "    </tr>\n",
              "    <tr>\n",
              "      <th>999997</th>\n",
              "      <td>2999998.0</td>\n",
              "      <td>ROY</td>\n",
              "      <td>REGINALD</td>\n",
              "      <td>0.0</td>\n",
              "      <td>-1.550049</td>\n",
              "      <td>-1.057011</td>\n",
              "      <td>10.0</td>\n",
              "      <td>0.439994</td>\n",
              "      <td>0.416919</td>\n",
              "      <td>-0.011812</td>\n",
              "      <td>...</td>\n",
              "      <td>0.0</td>\n",
              "      <td>0.0</td>\n",
              "      <td>0.0</td>\n",
              "      <td>0</td>\n",
              "      <td>1</td>\n",
              "      <td>0</td>\n",
              "      <td>1</td>\n",
              "      <td>0</td>\n",
              "      <td>0</td>\n",
              "      <td>0</td>\n",
              "    </tr>\n",
              "    <tr>\n",
              "      <th>999998</th>\n",
              "      <td>2999999.0</td>\n",
              "      <td>LIBERTI</td>\n",
              "      <td>PAMELA</td>\n",
              "      <td>1.0</td>\n",
              "      <td>-0.758297</td>\n",
              "      <td>-0.354321</td>\n",
              "      <td>0.0</td>\n",
              "      <td>-0.563214</td>\n",
              "      <td>-0.531824</td>\n",
              "      <td>-0.540697</td>\n",
              "      <td>...</td>\n",
              "      <td>0.0</td>\n",
              "      <td>1.0</td>\n",
              "      <td>20.0</td>\n",
              "      <td>0</td>\n",
              "      <td>0</td>\n",
              "      <td>1</td>\n",
              "      <td>0</td>\n",
              "      <td>0</td>\n",
              "      <td>1</td>\n",
              "      <td>0</td>\n",
              "    </tr>\n",
              "    <tr>\n",
              "      <th>999999</th>\n",
              "      <td>3000000.0</td>\n",
              "      <td>BELL</td>\n",
              "      <td>SYBIL</td>\n",
              "      <td>1.0</td>\n",
              "      <td>0.191806</td>\n",
              "      <td>-0.215093</td>\n",
              "      <td>4.0</td>\n",
              "      <td>-0.563214</td>\n",
              "      <td>-0.531824</td>\n",
              "      <td>-0.540697</td>\n",
              "      <td>...</td>\n",
              "      <td>0.0</td>\n",
              "      <td>0.0</td>\n",
              "      <td>0.0</td>\n",
              "      <td>0</td>\n",
              "      <td>0</td>\n",
              "      <td>1</td>\n",
              "      <td>0</td>\n",
              "      <td>0</td>\n",
              "      <td>0</td>\n",
              "      <td>1</td>\n",
              "    </tr>\n",
              "  </tbody>\n",
              "</table>\n",
              "<p>5 rows × 27 columns</p>\n",
              "</div>\n",
              "      <button class=\"colab-df-convert\" onclick=\"convertToInteractive('df-5c68d204-7932-4ce6-b583-3d6a92b02561')\"\n",
              "              title=\"Convert this dataframe to an interactive table.\"\n",
              "              style=\"display:none;\">\n",
              "        \n",
              "  <svg xmlns=\"http://www.w3.org/2000/svg\" height=\"24px\"viewBox=\"0 0 24 24\"\n",
              "       width=\"24px\">\n",
              "    <path d=\"M0 0h24v24H0V0z\" fill=\"none\"/>\n",
              "    <path d=\"M18.56 5.44l.94 2.06.94-2.06 2.06-.94-2.06-.94-.94-2.06-.94 2.06-2.06.94zm-11 1L8.5 8.5l.94-2.06 2.06-.94-2.06-.94L8.5 2.5l-.94 2.06-2.06.94zm10 10l.94 2.06.94-2.06 2.06-.94-2.06-.94-.94-2.06-.94 2.06-2.06.94z\"/><path d=\"M17.41 7.96l-1.37-1.37c-.4-.4-.92-.59-1.43-.59-.52 0-1.04.2-1.43.59L10.3 9.45l-7.72 7.72c-.78.78-.78 2.05 0 2.83L4 21.41c.39.39.9.59 1.41.59.51 0 1.02-.2 1.41-.59l7.78-7.78 2.81-2.81c.8-.78.8-2.07 0-2.86zM5.41 20L4 18.59l7.72-7.72 1.47 1.35L5.41 20z\"/>\n",
              "  </svg>\n",
              "      </button>\n",
              "      \n",
              "  <style>\n",
              "    .colab-df-container {\n",
              "      display:flex;\n",
              "      flex-wrap:wrap;\n",
              "      gap: 12px;\n",
              "    }\n",
              "\n",
              "    .colab-df-convert {\n",
              "      background-color: #E8F0FE;\n",
              "      border: none;\n",
              "      border-radius: 50%;\n",
              "      cursor: pointer;\n",
              "      display: none;\n",
              "      fill: #1967D2;\n",
              "      height: 32px;\n",
              "      padding: 0 0 0 0;\n",
              "      width: 32px;\n",
              "    }\n",
              "\n",
              "    .colab-df-convert:hover {\n",
              "      background-color: #E2EBFA;\n",
              "      box-shadow: 0px 1px 2px rgba(60, 64, 67, 0.3), 0px 1px 3px 1px rgba(60, 64, 67, 0.15);\n",
              "      fill: #174EA6;\n",
              "    }\n",
              "\n",
              "    [theme=dark] .colab-df-convert {\n",
              "      background-color: #3B4455;\n",
              "      fill: #D2E3FC;\n",
              "    }\n",
              "\n",
              "    [theme=dark] .colab-df-convert:hover {\n",
              "      background-color: #434B5C;\n",
              "      box-shadow: 0px 1px 3px 1px rgba(0, 0, 0, 0.15);\n",
              "      filter: drop-shadow(0px 1px 2px rgba(0, 0, 0, 0.3));\n",
              "      fill: #FFFFFF;\n",
              "    }\n",
              "  </style>\n",
              "\n",
              "      <script>\n",
              "        const buttonEl =\n",
              "          document.querySelector('#df-5c68d204-7932-4ce6-b583-3d6a92b02561 button.colab-df-convert');\n",
              "        buttonEl.style.display =\n",
              "          google.colab.kernel.accessAllowed ? 'block' : 'none';\n",
              "\n",
              "        async function convertToInteractive(key) {\n",
              "          const element = document.querySelector('#df-5c68d204-7932-4ce6-b583-3d6a92b02561');\n",
              "          const dataTable =\n",
              "            await google.colab.kernel.invokeFunction('convertToInteractive',\n",
              "                                                     [key], {});\n",
              "          if (!dataTable) return;\n",
              "\n",
              "          const docLinkHtml = 'Like what you see? Visit the ' +\n",
              "            '<a target=\"_blank\" href=https://colab.research.google.com/notebooks/data_table.ipynb>data table notebook</a>'\n",
              "            + ' to learn more about interactive tables.';\n",
              "          element.innerHTML = '';\n",
              "          dataTable['output_type'] = 'display_data';\n",
              "          await google.colab.output.renderOutput(dataTable, element);\n",
              "          const docLink = document.createElement('div');\n",
              "          docLink.innerHTML = docLinkHtml;\n",
              "          element.appendChild(docLink);\n",
              "        }\n",
              "      </script>\n",
              "    </div>\n",
              "  </div>\n",
              "  "
            ]
          },
          "metadata": {},
          "execution_count": 154
        }
      ]
    },
    {
      "cell_type": "markdown",
      "metadata": {
        "id": "9b861046-5968-4601-bd4b-b6510f1bf5b9"
      },
      "source": [
        "## Data Partition"
      ],
      "id": "9b861046-5968-4601-bd4b-b6510f1bf5b9"
    },
    {
      "cell_type": "code",
      "execution_count": null,
      "metadata": {
        "collapsed": true,
        "id": "f4bf6498-b18c-400d-9202-bb466d1272df",
        "outputId": "81841ff5-159d-4186-8b33-42231d7cc83c",
        "colab": {
          "base_uri": "https://localhost:8080/",
          "height": 223
        }
      },
      "outputs": [
        {
          "output_type": "execute_result",
          "data": {
            "text/plain": [
              "               ID LastName FirstName  Woman       Age    Salary  SeniorList  \\\n",
              "99896   2099897.0  CAMACHO   FRANCIS    0.0 -0.811080 -0.860454         7.0   \n",
              "366444  2366445.0   PRITTS     DORIS    1.0  0.139023  1.942117         0.0   \n",
              "\n",
              "        NbActivities  Referrals   Recency  ...  Contact  GaveThisYear  \\\n",
              "99896      -0.563214  -0.531824 -0.540697  ...      0.0           0.0   \n",
              "366444     -0.563214  -0.531824 -0.540697  ...      0.0           0.0   \n",
              "\n",
              "        AmtThisYear  Education_Elementary  Education_High School  \\\n",
              "99896           0.0                     0                      0   \n",
              "366444          0.0                     0                      0   \n",
              "\n",
              "        Education_University / College  City_City  City_Downtown  City_Rural  \\\n",
              "99896                                1          0              0           1   \n",
              "366444                               1          0              1           0   \n",
              "\n",
              "        City_Suburban  \n",
              "99896               0  \n",
              "366444              0  \n",
              "\n",
              "[2 rows x 27 columns]"
            ],
            "text/html": [
              "\n",
              "  <div id=\"df-cd460fde-f77e-4163-b3de-ce212ba102fd\">\n",
              "    <div class=\"colab-df-container\">\n",
              "      <div>\n",
              "<style scoped>\n",
              "    .dataframe tbody tr th:only-of-type {\n",
              "        vertical-align: middle;\n",
              "    }\n",
              "\n",
              "    .dataframe tbody tr th {\n",
              "        vertical-align: top;\n",
              "    }\n",
              "\n",
              "    .dataframe thead th {\n",
              "        text-align: right;\n",
              "    }\n",
              "</style>\n",
              "<table border=\"1\" class=\"dataframe\">\n",
              "  <thead>\n",
              "    <tr style=\"text-align: right;\">\n",
              "      <th></th>\n",
              "      <th>ID</th>\n",
              "      <th>LastName</th>\n",
              "      <th>FirstName</th>\n",
              "      <th>Woman</th>\n",
              "      <th>Age</th>\n",
              "      <th>Salary</th>\n",
              "      <th>SeniorList</th>\n",
              "      <th>NbActivities</th>\n",
              "      <th>Referrals</th>\n",
              "      <th>Recency</th>\n",
              "      <th>...</th>\n",
              "      <th>Contact</th>\n",
              "      <th>GaveThisYear</th>\n",
              "      <th>AmtThisYear</th>\n",
              "      <th>Education_Elementary</th>\n",
              "      <th>Education_High School</th>\n",
              "      <th>Education_University / College</th>\n",
              "      <th>City_City</th>\n",
              "      <th>City_Downtown</th>\n",
              "      <th>City_Rural</th>\n",
              "      <th>City_Suburban</th>\n",
              "    </tr>\n",
              "  </thead>\n",
              "  <tbody>\n",
              "    <tr>\n",
              "      <th>99896</th>\n",
              "      <td>2099897.0</td>\n",
              "      <td>CAMACHO</td>\n",
              "      <td>FRANCIS</td>\n",
              "      <td>0.0</td>\n",
              "      <td>-0.811080</td>\n",
              "      <td>-0.860454</td>\n",
              "      <td>7.0</td>\n",
              "      <td>-0.563214</td>\n",
              "      <td>-0.531824</td>\n",
              "      <td>-0.540697</td>\n",
              "      <td>...</td>\n",
              "      <td>0.0</td>\n",
              "      <td>0.0</td>\n",
              "      <td>0.0</td>\n",
              "      <td>0</td>\n",
              "      <td>0</td>\n",
              "      <td>1</td>\n",
              "      <td>0</td>\n",
              "      <td>0</td>\n",
              "      <td>1</td>\n",
              "      <td>0</td>\n",
              "    </tr>\n",
              "    <tr>\n",
              "      <th>366444</th>\n",
              "      <td>2366445.0</td>\n",
              "      <td>PRITTS</td>\n",
              "      <td>DORIS</td>\n",
              "      <td>1.0</td>\n",
              "      <td>0.139023</td>\n",
              "      <td>1.942117</td>\n",
              "      <td>0.0</td>\n",
              "      <td>-0.563214</td>\n",
              "      <td>-0.531824</td>\n",
              "      <td>-0.540697</td>\n",
              "      <td>...</td>\n",
              "      <td>0.0</td>\n",
              "      <td>0.0</td>\n",
              "      <td>0.0</td>\n",
              "      <td>0</td>\n",
              "      <td>0</td>\n",
              "      <td>1</td>\n",
              "      <td>0</td>\n",
              "      <td>1</td>\n",
              "      <td>0</td>\n",
              "      <td>0</td>\n",
              "    </tr>\n",
              "  </tbody>\n",
              "</table>\n",
              "<p>2 rows × 27 columns</p>\n",
              "</div>\n",
              "      <button class=\"colab-df-convert\" onclick=\"convertToInteractive('df-cd460fde-f77e-4163-b3de-ce212ba102fd')\"\n",
              "              title=\"Convert this dataframe to an interactive table.\"\n",
              "              style=\"display:none;\">\n",
              "        \n",
              "  <svg xmlns=\"http://www.w3.org/2000/svg\" height=\"24px\"viewBox=\"0 0 24 24\"\n",
              "       width=\"24px\">\n",
              "    <path d=\"M0 0h24v24H0V0z\" fill=\"none\"/>\n",
              "    <path d=\"M18.56 5.44l.94 2.06.94-2.06 2.06-.94-2.06-.94-.94-2.06-.94 2.06-2.06.94zm-11 1L8.5 8.5l.94-2.06 2.06-.94-2.06-.94L8.5 2.5l-.94 2.06-2.06.94zm10 10l.94 2.06.94-2.06 2.06-.94-2.06-.94-.94-2.06-.94 2.06-2.06.94z\"/><path d=\"M17.41 7.96l-1.37-1.37c-.4-.4-.92-.59-1.43-.59-.52 0-1.04.2-1.43.59L10.3 9.45l-7.72 7.72c-.78.78-.78 2.05 0 2.83L4 21.41c.39.39.9.59 1.41.59.51 0 1.02-.2 1.41-.59l7.78-7.78 2.81-2.81c.8-.78.8-2.07 0-2.86zM5.41 20L4 18.59l7.72-7.72 1.47 1.35L5.41 20z\"/>\n",
              "  </svg>\n",
              "      </button>\n",
              "      \n",
              "  <style>\n",
              "    .colab-df-container {\n",
              "      display:flex;\n",
              "      flex-wrap:wrap;\n",
              "      gap: 12px;\n",
              "    }\n",
              "\n",
              "    .colab-df-convert {\n",
              "      background-color: #E8F0FE;\n",
              "      border: none;\n",
              "      border-radius: 50%;\n",
              "      cursor: pointer;\n",
              "      display: none;\n",
              "      fill: #1967D2;\n",
              "      height: 32px;\n",
              "      padding: 0 0 0 0;\n",
              "      width: 32px;\n",
              "    }\n",
              "\n",
              "    .colab-df-convert:hover {\n",
              "      background-color: #E2EBFA;\n",
              "      box-shadow: 0px 1px 2px rgba(60, 64, 67, 0.3), 0px 1px 3px 1px rgba(60, 64, 67, 0.15);\n",
              "      fill: #174EA6;\n",
              "    }\n",
              "\n",
              "    [theme=dark] .colab-df-convert {\n",
              "      background-color: #3B4455;\n",
              "      fill: #D2E3FC;\n",
              "    }\n",
              "\n",
              "    [theme=dark] .colab-df-convert:hover {\n",
              "      background-color: #434B5C;\n",
              "      box-shadow: 0px 1px 3px 1px rgba(0, 0, 0, 0.15);\n",
              "      filter: drop-shadow(0px 1px 2px rgba(0, 0, 0, 0.3));\n",
              "      fill: #FFFFFF;\n",
              "    }\n",
              "  </style>\n",
              "\n",
              "      <script>\n",
              "        const buttonEl =\n",
              "          document.querySelector('#df-cd460fde-f77e-4163-b3de-ce212ba102fd button.colab-df-convert');\n",
              "        buttonEl.style.display =\n",
              "          google.colab.kernel.accessAllowed ? 'block' : 'none';\n",
              "\n",
              "        async function convertToInteractive(key) {\n",
              "          const element = document.querySelector('#df-cd460fde-f77e-4163-b3de-ce212ba102fd');\n",
              "          const dataTable =\n",
              "            await google.colab.kernel.invokeFunction('convertToInteractive',\n",
              "                                                     [key], {});\n",
              "          if (!dataTable) return;\n",
              "\n",
              "          const docLinkHtml = 'Like what you see? Visit the ' +\n",
              "            '<a target=\"_blank\" href=https://colab.research.google.com/notebooks/data_table.ipynb>data table notebook</a>'\n",
              "            + ' to learn more about interactive tables.';\n",
              "          element.innerHTML = '';\n",
              "          dataTable['output_type'] = 'display_data';\n",
              "          await google.colab.output.renderOutput(dataTable, element);\n",
              "          const docLink = document.createElement('div');\n",
              "          docLink.innerHTML = docLinkHtml;\n",
              "          element.appendChild(docLink);\n",
              "        }\n",
              "      </script>\n",
              "    </div>\n",
              "  </div>\n",
              "  "
            ]
          },
          "metadata": {},
          "execution_count": 155
        }
      ],
      "source": [
        "# The code below is an illustration on how to sample data on train and validation samples.\n",
        "# You could use another library or a built-in function to perform sampling.\n",
        "\n",
        "from sklearn.model_selection import train_test_split\n",
        "train, validation = train_test_split(data_merge, test_size=0.2, random_state=12345) \n",
        "\n",
        "train.sample(2)"
      ],
      "id": "f4bf6498-b18c-400d-9202-bb466d1272df"
    },
    {
      "cell_type": "markdown",
      "metadata": {
        "id": "3396591b"
      },
      "source": [
        "## Prebuilt Models\n",
        "***\n",
        "\n",
        "### **Linear Regression Model**\n",
        "\n",
        "\n",
        "> The [sk-learn library](https://scikit-learn.org/stable/index.html ) offers more advanced models.\n"
      ],
      "id": "3396591b"
    },
    {
      "cell_type": "code",
      "execution_count": null,
      "metadata": {
        "collapsed": true,
        "id": "0833fb2d-554c-4e3b-933c-9a35828fd912"
      },
      "outputs": [],
      "source": [
        "from sklearn import linear_model\n",
        "dummies_name = ['Education_Elementary', 'Education_High School', 'Education_University / College', 'City_City', 'City_Downtown', 'City_Rural', 'City_Suburban']\n",
        "# train_columns = ['Age', 'Salary','Contact','MinGift', 'GaveLastYear', 'AmtLastYear','Woman', 'NbActivities'] + dummies_name\n",
        "train_columns = ['Age', 'Salary','Contact','MinGift', 'GaveLastYear', 'AmtLastYear','Woman','Referrals', 'NbActivities','Frequency', 'Seniority','TotalGift'] + dummies_name\n",
        "#comment: it's numpy array\n",
        "X_train = train[train_columns] \n",
        "Y_train = train['AmtThisYear']\n",
        "X_valid = validation[train_columns] \n",
        "Y_valid = validation['AmtThisYear']\n",
        "\n",
        "regr = linear_model.LinearRegression()\n",
        "regr.fit(X_train,Y_train)\n",
        "regr_predict=regr.predict(X_valid)"
      ],
      "id": "0833fb2d-554c-4e3b-933c-9a35828fd912"
    },
    {
      "cell_type": "code",
      "execution_count": null,
      "metadata": {
        "id": "d47987df",
        "outputId": "b5714915-9079-44c7-b303-ff00b237fdb7",
        "colab": {
          "base_uri": "https://localhost:8080/"
        }
      },
      "outputs": [
        {
          "output_type": "stream",
          "name": "stdout",
          "text": [
            "15.194719171598805\n",
            "8624.014801321697\n",
            "92.86557382217426\n"
          ]
        }
      ],
      "source": [
        "#you can change the criteria\n",
        "\n",
        "import numpy as np\n",
        "from sklearn import metrics\n",
        "#MAE\n",
        "print(metrics.mean_absolute_error(Y_valid,regr_predict))\n",
        "#MSE\n",
        "print(metrics.mean_squared_error(Y_valid,regr_predict))\n",
        "#RMSE\n",
        "print(np.sqrt(metrics.mean_squared_error(Y_valid,regr_predict)))"
      ],
      "id": "d47987df"
    },
    {
      "cell_type": "markdown",
      "metadata": {
        "id": "12c58819"
      },
      "source": [
        "## **Regression Tree Model**"
      ],
      "id": "12c58819"
    },
    {
      "cell_type": "code",
      "execution_count": null,
      "metadata": {
        "id": "7fa631af"
      },
      "outputs": [],
      "source": [
        "from sklearn.tree import DecisionTreeRegressor\n",
        "\n",
        "X_train = train[train_columns]\n",
        "Y_train = train['AmtThisYear']\n",
        "X_valid = validation[train_columns] \n",
        "Y_valid = validation['AmtThisYear']\n",
        "\n",
        "DT_model = DecisionTreeRegressor(max_depth=5).fit(X_train,Y_train)\n",
        "\n",
        "DT_predict = DT_model.predict(X_valid) #Predictions on Testing data\n"
      ],
      "id": "7fa631af"
    },
    {
      "cell_type": "code",
      "source": [
        "#you can change the criteria\n",
        "#MAE\n",
        "print(metrics.mean_absolute_error(Y_valid,DT_predict))\n",
        "#MSE\n",
        "print(metrics.mean_squared_error(Y_valid,DT_predict))\n",
        "#RMSE\n",
        "print(np.sqrt(metrics.mean_squared_error(Y_valid,DT_predict)))"
      ],
      "metadata": {
        "colab": {
          "base_uri": "https://localhost:8080/"
        },
        "id": "NS80Kz63pj_C",
        "outputId": "ab700bca-55d8-4d73-d865-06bb58de2a94"
      },
      "execution_count": null,
      "outputs": [
        {
          "output_type": "stream",
          "name": "stdout",
          "text": [
            "15.218083339077687\n",
            "9118.443100920722\n",
            "95.49053932678736\n"
          ]
        }
      ],
      "id": "NS80Kz63pj_C"
    },
    {
      "cell_type": "code",
      "source": [
        "import xgboost as xgb"
      ],
      "metadata": {
        "id": "7TY8ip5v_epw"
      },
      "execution_count": null,
      "outputs": [],
      "id": "7TY8ip5v_epw"
    },
    {
      "cell_type": "code",
      "source": [
        "xgb_model = xgb.XGBRegressor(objective=\"reg:linear\", random_state=42)\n",
        "\n",
        "xgb_model.fit(X_train,Y_train)\n",
        "\n",
        "xgb_predict = xgb_model.predict(X_valid)"
      ],
      "metadata": {
        "colab": {
          "base_uri": "https://localhost:8080/"
        },
        "id": "jmIjaHMS_g-K",
        "outputId": "d3b1b9de-9f10-4e84-c3b6-c0f6f16c7f00"
      },
      "execution_count": null,
      "outputs": [
        {
          "output_type": "stream",
          "name": "stdout",
          "text": [
            "[05:35:41] WARNING: /workspace/src/objective/regression_obj.cu:152: reg:linear is now deprecated in favor of reg:squarederror.\n"
          ]
        }
      ],
      "id": "jmIjaHMS_g-K"
    },
    {
      "cell_type": "code",
      "source": [
        "#MAE\n",
        "print(metrics.mean_absolute_error(Y_valid,xgb_predict))\n",
        "#MSE\n",
        "print(metrics.mean_squared_error(Y_valid,xgb_predict))\n",
        "#RMSE\n",
        "print(np.sqrt(metrics.mean_squared_error(Y_valid,xgb_predict)))"
      ],
      "metadata": {
        "colab": {
          "base_uri": "https://localhost:8080/"
        },
        "id": "E1h5C2OggCJc",
        "outputId": "532ef727-ba55-4db7-d331-4c66584dc56d"
      },
      "id": "E1h5C2OggCJc",
      "execution_count": null,
      "outputs": [
        {
          "output_type": "stream",
          "name": "stdout",
          "text": [
            "15.083373716273158\n",
            "8598.766048310381\n",
            "92.72953169465691\n"
          ]
        }
      ]
    },
    {
      "cell_type": "code",
      "source": [
        "from sklearn.ensemble import AdaBoostRegressor"
      ],
      "metadata": {
        "id": "AHDUCmQYH7v-"
      },
      "execution_count": null,
      "outputs": [],
      "id": "AHDUCmQYH7v-"
    },
    {
      "cell_type": "code",
      "source": [
        "ada_reg = AdaBoostRegressor(base_estimator=None, learning_rate=1.0, loss='linear',\n",
        "         n_estimators=100, random_state=42) \n",
        "\n",
        "ada_reg.fit(X_train,Y_train)\n",
        "\n",
        "ada_reg_predict = ada_reg.predict(X_valid)"
      ],
      "metadata": {
        "id": "roS-OE_nH_aF"
      },
      "execution_count": null,
      "outputs": [],
      "id": "roS-OE_nH_aF"
    },
    {
      "cell_type": "code",
      "source": [
        "#MAE\n",
        "print(metrics.mean_absolute_error(Y_valid,ada_reg_predict))\n",
        "#MSE\n",
        "print(metrics.mean_squared_error(Y_valid,ada_reg_predict))\n",
        "#RMSE\n",
        "print(np.sqrt(metrics.mean_squared_error(Y_valid,ada_reg_predict)))"
      ],
      "metadata": {
        "id": "0bVQqTybJjLj",
        "colab": {
          "base_uri": "https://localhost:8080/"
        },
        "outputId": "9cd5e5b4-0633-4b5e-ce2d-4aa16d5e9ba6"
      },
      "execution_count": null,
      "outputs": [
        {
          "output_type": "stream",
          "name": "stdout",
          "text": [
            "79.97855666880527\n",
            "22404.8982100548\n",
            "149.68265834776852\n"
          ]
        }
      ],
      "id": "0bVQqTybJjLj"
    },
    {
      "cell_type": "code",
      "source": [
        "from sklearn.ensemble import RandomForestRegressor"
      ],
      "metadata": {
        "id": "OH80MgFhJtvE"
      },
      "execution_count": null,
      "outputs": [],
      "id": "OH80MgFhJtvE"
    },
    {
      "cell_type": "code",
      "source": [
        "rfr = RandomForestRegressor(max_depth = 10) \n",
        "\n",
        "rfr.fit(X_train,Y_train)\n",
        "\n",
        "rfr_predict = rfr.predict(X_valid)"
      ],
      "metadata": {
        "id": "3kuArl8RJv-W"
      },
      "execution_count": null,
      "outputs": [],
      "id": "3kuArl8RJv-W"
    },
    {
      "cell_type": "code",
      "source": [
        "#MAE\n",
        "print(metrics.mean_absolute_error(Y_valid,rfr_predict))\n",
        "#MSE\n",
        "print(metrics.mean_squared_error(Y_valid,rfr_predict))\n",
        "#RMSE\n",
        "print(np.sqrt(metrics.mean_squared_error(Y_valid,rfr_predict)))"
      ],
      "metadata": {
        "colab": {
          "base_uri": "https://localhost:8080/"
        },
        "id": "etKV5CHejJtJ",
        "outputId": "4d0cea80-3791-4333-8770-fc9868245720"
      },
      "execution_count": null,
      "outputs": [
        {
          "output_type": "stream",
          "name": "stdout",
          "text": [
            "15.31392657588809\n",
            "8992.515359936762\n",
            "94.82887408346026\n"
          ]
        }
      ],
      "id": "etKV5CHejJtJ"
    },
    {
      "cell_type": "markdown",
      "id": "95983c35",
      "metadata": {
        "id": "95983c35"
      },
      "source": [
        "## Scoring New Data\n",
        "\n",
        "### Prepare data for scoring"
      ]
    },
    {
      "cell_type": "code",
      "execution_count": null,
      "id": "d1639b73",
      "metadata": {
        "id": "d1639b73"
      },
      "outputs": [],
      "source": [
        "data3 = sas_session.sasdata2dataframe(\n",
        "table='score',\n",
        "libref='cortex'\n",
        ")\n",
        "data4 = sas_session.sasdata2dataframe(\n",
        "table='score_rd2_contact',\n",
        "libref='cortex'\n",
        ")\n",
        "data5 = sas_session.sasdata2dataframe(\n",
        "table='score_rd2_nocontact',\n",
        "libref='cortex'\n",
        ")"
      ]
    },
    {
      "cell_type": "markdown",
      "id": "47f7d483-c503-4da1-accf-8c080a7b81b0",
      "metadata": {
        "id": "47f7d483-c503-4da1-accf-8c080a7b81b0"
      },
      "source": [
        " ### Score new data based on your champion model\n",
        " \n",
        " Pick your champion model from previous steps and use it to predict next year donations. \n",
        " \n",
        " In this case, the linear regression model performed better than the regression tree based on the MSE criteria."
      ]
    },
    {
      "cell_type": "markdown",
      "id": "5bdb9c23-03d9-4dfe-82ca-667b44e99603",
      "metadata": {
        "id": "5bdb9c23-03d9-4dfe-82ca-667b44e99603"
      },
      "source": [
        "### Predict 'amount given' for members who were contacted"
      ]
    },
    {
      "cell_type": "code",
      "execution_count": null,
      "id": "09ec1430",
      "metadata": {
        "colab": {
          "base_uri": "https://localhost:8080/",
          "height": 206
        },
        "id": "09ec1430",
        "outputId": "dd8fb7c1-b1b8-4bd6-f57f-d47902570884"
      },
      "outputs": [
        {
          "output_type": "execute_result",
          "data": {
            "text/plain": [
              "          ID  AmtContact\n",
              "0  2000001.0   25.788204\n",
              "1  2000002.0   40.930889\n",
              "2  2000003.0   46.240509\n",
              "3  2000004.0   13.315942\n",
              "4  2000005.0   47.628304"
            ],
            "text/html": [
              "\n",
              "  <div id=\"df-8abebf10-2105-4cc7-8d25-e205b9c3ef95\">\n",
              "    <div class=\"colab-df-container\">\n",
              "      <div>\n",
              "<style scoped>\n",
              "    .dataframe tbody tr th:only-of-type {\n",
              "        vertical-align: middle;\n",
              "    }\n",
              "\n",
              "    .dataframe tbody tr th {\n",
              "        vertical-align: top;\n",
              "    }\n",
              "\n",
              "    .dataframe thead th {\n",
              "        text-align: right;\n",
              "    }\n",
              "</style>\n",
              "<table border=\"1\" class=\"dataframe\">\n",
              "  <thead>\n",
              "    <tr style=\"text-align: right;\">\n",
              "      <th></th>\n",
              "      <th>ID</th>\n",
              "      <th>AmtContact</th>\n",
              "    </tr>\n",
              "  </thead>\n",
              "  <tbody>\n",
              "    <tr>\n",
              "      <th>0</th>\n",
              "      <td>2000001.0</td>\n",
              "      <td>25.788204</td>\n",
              "    </tr>\n",
              "    <tr>\n",
              "      <th>1</th>\n",
              "      <td>2000002.0</td>\n",
              "      <td>40.930889</td>\n",
              "    </tr>\n",
              "    <tr>\n",
              "      <th>2</th>\n",
              "      <td>2000003.0</td>\n",
              "      <td>46.240509</td>\n",
              "    </tr>\n",
              "    <tr>\n",
              "      <th>3</th>\n",
              "      <td>2000004.0</td>\n",
              "      <td>13.315942</td>\n",
              "    </tr>\n",
              "    <tr>\n",
              "      <th>4</th>\n",
              "      <td>2000005.0</td>\n",
              "      <td>47.628304</td>\n",
              "    </tr>\n",
              "  </tbody>\n",
              "</table>\n",
              "</div>\n",
              "      <button class=\"colab-df-convert\" onclick=\"convertToInteractive('df-8abebf10-2105-4cc7-8d25-e205b9c3ef95')\"\n",
              "              title=\"Convert this dataframe to an interactive table.\"\n",
              "              style=\"display:none;\">\n",
              "        \n",
              "  <svg xmlns=\"http://www.w3.org/2000/svg\" height=\"24px\"viewBox=\"0 0 24 24\"\n",
              "       width=\"24px\">\n",
              "    <path d=\"M0 0h24v24H0V0z\" fill=\"none\"/>\n",
              "    <path d=\"M18.56 5.44l.94 2.06.94-2.06 2.06-.94-2.06-.94-.94-2.06-.94 2.06-2.06.94zm-11 1L8.5 8.5l.94-2.06 2.06-.94-2.06-.94L8.5 2.5l-.94 2.06-2.06.94zm10 10l.94 2.06.94-2.06 2.06-.94-2.06-.94-.94-2.06-.94 2.06-2.06.94z\"/><path d=\"M17.41 7.96l-1.37-1.37c-.4-.4-.92-.59-1.43-.59-.52 0-1.04.2-1.43.59L10.3 9.45l-7.72 7.72c-.78.78-.78 2.05 0 2.83L4 21.41c.39.39.9.59 1.41.59.51 0 1.02-.2 1.41-.59l7.78-7.78 2.81-2.81c.8-.78.8-2.07 0-2.86zM5.41 20L4 18.59l7.72-7.72 1.47 1.35L5.41 20z\"/>\n",
              "  </svg>\n",
              "      </button>\n",
              "      \n",
              "  <style>\n",
              "    .colab-df-container {\n",
              "      display:flex;\n",
              "      flex-wrap:wrap;\n",
              "      gap: 12px;\n",
              "    }\n",
              "\n",
              "    .colab-df-convert {\n",
              "      background-color: #E8F0FE;\n",
              "      border: none;\n",
              "      border-radius: 50%;\n",
              "      cursor: pointer;\n",
              "      display: none;\n",
              "      fill: #1967D2;\n",
              "      height: 32px;\n",
              "      padding: 0 0 0 0;\n",
              "      width: 32px;\n",
              "    }\n",
              "\n",
              "    .colab-df-convert:hover {\n",
              "      background-color: #E2EBFA;\n",
              "      box-shadow: 0px 1px 2px rgba(60, 64, 67, 0.3), 0px 1px 3px 1px rgba(60, 64, 67, 0.15);\n",
              "      fill: #174EA6;\n",
              "    }\n",
              "\n",
              "    [theme=dark] .colab-df-convert {\n",
              "      background-color: #3B4455;\n",
              "      fill: #D2E3FC;\n",
              "    }\n",
              "\n",
              "    [theme=dark] .colab-df-convert:hover {\n",
              "      background-color: #434B5C;\n",
              "      box-shadow: 0px 1px 3px 1px rgba(0, 0, 0, 0.15);\n",
              "      filter: drop-shadow(0px 1px 2px rgba(0, 0, 0, 0.3));\n",
              "      fill: #FFFFFF;\n",
              "    }\n",
              "  </style>\n",
              "\n",
              "      <script>\n",
              "        const buttonEl =\n",
              "          document.querySelector('#df-8abebf10-2105-4cc7-8d25-e205b9c3ef95 button.colab-df-convert');\n",
              "        buttonEl.style.display =\n",
              "          google.colab.kernel.accessAllowed ? 'block' : 'none';\n",
              "\n",
              "        async function convertToInteractive(key) {\n",
              "          const element = document.querySelector('#df-8abebf10-2105-4cc7-8d25-e205b9c3ef95');\n",
              "          const dataTable =\n",
              "            await google.colab.kernel.invokeFunction('convertToInteractive',\n",
              "                                                     [key], {});\n",
              "          if (!dataTable) return;\n",
              "\n",
              "          const docLinkHtml = 'Like what you see? Visit the ' +\n",
              "            '<a target=\"_blank\" href=https://colab.research.google.com/notebooks/data_table.ipynb>data table notebook</a>'\n",
              "            + ' to learn more about interactive tables.';\n",
              "          element.innerHTML = '';\n",
              "          dataTable['output_type'] = 'display_data';\n",
              "          await google.colab.output.renderOutput(dataTable, element);\n",
              "          const docLink = document.createElement('div');\n",
              "          docLink.innerHTML = docLinkHtml;\n",
              "          element.appendChild(docLink);\n",
              "        }\n",
              "      </script>\n",
              "    </div>\n",
              "  </div>\n",
              "  "
            ]
          },
          "metadata": {},
          "execution_count": 168
        }
      ],
      "source": [
        "scoring_data_contact = pd.merge(data3, data4, on=[\"ID\"],how=\"right\")\n",
        "\n",
        "# Perform the same strategy for handling missing values for the score dataset.\n",
        "\n",
        "scoring_data_contact = deal_missing_values(scoring_data_contact)\n",
        "scoring_data_contact = standardize_data(scoring_data_contact)\n",
        "scoring_data_contact = one_hot_function(scoring_data_contact)\n",
        "\n",
        "#scoring_data_contact.head()\n",
        "\n",
        "X = scoring_data_contact[train_columns] \n",
        "\n",
        "# regr_predict_contact=regr.predict(X)\n",
        "# DT_predict_contact = DT_model.predict(X) #Predictions on Testing data\n",
        "xgb_predict_contact = xgb_model.predict(X) #Predictions on Testing data\n",
        "\n",
        "# scoring_data_contact['Prediction'] = DT_predict_contact\n",
        "# scoring_data_contact['Prediction'] = regr_predict_contact\n",
        "scoring_data_contact['Prediction'] = xgb_predict_contact\n",
        "\n",
        "scoring_data_contact= scoring_data_contact[['ID','Prediction']]\n",
        "scoring_data_contact = scoring_data_contact.rename({'Prediction': 'AmtContact'}, axis=1) \n",
        "scoring_data_contact.head()"
      ]
    },
    {
      "cell_type": "markdown",
      "id": "f3fa6e3f-da9c-4121-b896-f5ba52f8d4f3",
      "metadata": {
        "id": "f3fa6e3f-da9c-4121-b896-f5ba52f8d4f3"
      },
      "source": [
        "### Predict 'amount given' for members who were not contacted"
      ]
    },
    {
      "cell_type": "code",
      "execution_count": null,
      "id": "9c0f1c5b",
      "metadata": {
        "collapsed": true,
        "colab": {
          "base_uri": "https://localhost:8080/",
          "height": 206
        },
        "id": "9c0f1c5b",
        "outputId": "e1d8456c-5cc6-45a8-a8bd-b325e1912add"
      },
      "outputs": [
        {
          "output_type": "execute_result",
          "data": {
            "text/plain": [
              "          ID  AmtNoContact\n",
              "0  2000001.0     11.739753\n",
              "1  2000002.0      6.587717\n",
              "2  2000003.0      6.737335\n",
              "3  2000004.0      1.580060\n",
              "4  2000005.0      8.412212"
            ],
            "text/html": [
              "\n",
              "  <div id=\"df-66f05bbd-886d-4cd7-b49c-a49def1f0dd1\">\n",
              "    <div class=\"colab-df-container\">\n",
              "      <div>\n",
              "<style scoped>\n",
              "    .dataframe tbody tr th:only-of-type {\n",
              "        vertical-align: middle;\n",
              "    }\n",
              "\n",
              "    .dataframe tbody tr th {\n",
              "        vertical-align: top;\n",
              "    }\n",
              "\n",
              "    .dataframe thead th {\n",
              "        text-align: right;\n",
              "    }\n",
              "</style>\n",
              "<table border=\"1\" class=\"dataframe\">\n",
              "  <thead>\n",
              "    <tr style=\"text-align: right;\">\n",
              "      <th></th>\n",
              "      <th>ID</th>\n",
              "      <th>AmtNoContact</th>\n",
              "    </tr>\n",
              "  </thead>\n",
              "  <tbody>\n",
              "    <tr>\n",
              "      <th>0</th>\n",
              "      <td>2000001.0</td>\n",
              "      <td>11.739753</td>\n",
              "    </tr>\n",
              "    <tr>\n",
              "      <th>1</th>\n",
              "      <td>2000002.0</td>\n",
              "      <td>6.587717</td>\n",
              "    </tr>\n",
              "    <tr>\n",
              "      <th>2</th>\n",
              "      <td>2000003.0</td>\n",
              "      <td>6.737335</td>\n",
              "    </tr>\n",
              "    <tr>\n",
              "      <th>3</th>\n",
              "      <td>2000004.0</td>\n",
              "      <td>1.580060</td>\n",
              "    </tr>\n",
              "    <tr>\n",
              "      <th>4</th>\n",
              "      <td>2000005.0</td>\n",
              "      <td>8.412212</td>\n",
              "    </tr>\n",
              "  </tbody>\n",
              "</table>\n",
              "</div>\n",
              "      <button class=\"colab-df-convert\" onclick=\"convertToInteractive('df-66f05bbd-886d-4cd7-b49c-a49def1f0dd1')\"\n",
              "              title=\"Convert this dataframe to an interactive table.\"\n",
              "              style=\"display:none;\">\n",
              "        \n",
              "  <svg xmlns=\"http://www.w3.org/2000/svg\" height=\"24px\"viewBox=\"0 0 24 24\"\n",
              "       width=\"24px\">\n",
              "    <path d=\"M0 0h24v24H0V0z\" fill=\"none\"/>\n",
              "    <path d=\"M18.56 5.44l.94 2.06.94-2.06 2.06-.94-2.06-.94-.94-2.06-.94 2.06-2.06.94zm-11 1L8.5 8.5l.94-2.06 2.06-.94-2.06-.94L8.5 2.5l-.94 2.06-2.06.94zm10 10l.94 2.06.94-2.06 2.06-.94-2.06-.94-.94-2.06-.94 2.06-2.06.94z\"/><path d=\"M17.41 7.96l-1.37-1.37c-.4-.4-.92-.59-1.43-.59-.52 0-1.04.2-1.43.59L10.3 9.45l-7.72 7.72c-.78.78-.78 2.05 0 2.83L4 21.41c.39.39.9.59 1.41.59.51 0 1.02-.2 1.41-.59l7.78-7.78 2.81-2.81c.8-.78.8-2.07 0-2.86zM5.41 20L4 18.59l7.72-7.72 1.47 1.35L5.41 20z\"/>\n",
              "  </svg>\n",
              "      </button>\n",
              "      \n",
              "  <style>\n",
              "    .colab-df-container {\n",
              "      display:flex;\n",
              "      flex-wrap:wrap;\n",
              "      gap: 12px;\n",
              "    }\n",
              "\n",
              "    .colab-df-convert {\n",
              "      background-color: #E8F0FE;\n",
              "      border: none;\n",
              "      border-radius: 50%;\n",
              "      cursor: pointer;\n",
              "      display: none;\n",
              "      fill: #1967D2;\n",
              "      height: 32px;\n",
              "      padding: 0 0 0 0;\n",
              "      width: 32px;\n",
              "    }\n",
              "\n",
              "    .colab-df-convert:hover {\n",
              "      background-color: #E2EBFA;\n",
              "      box-shadow: 0px 1px 2px rgba(60, 64, 67, 0.3), 0px 1px 3px 1px rgba(60, 64, 67, 0.15);\n",
              "      fill: #174EA6;\n",
              "    }\n",
              "\n",
              "    [theme=dark] .colab-df-convert {\n",
              "      background-color: #3B4455;\n",
              "      fill: #D2E3FC;\n",
              "    }\n",
              "\n",
              "    [theme=dark] .colab-df-convert:hover {\n",
              "      background-color: #434B5C;\n",
              "      box-shadow: 0px 1px 3px 1px rgba(0, 0, 0, 0.15);\n",
              "      filter: drop-shadow(0px 1px 2px rgba(0, 0, 0, 0.3));\n",
              "      fill: #FFFFFF;\n",
              "    }\n",
              "  </style>\n",
              "\n",
              "      <script>\n",
              "        const buttonEl =\n",
              "          document.querySelector('#df-66f05bbd-886d-4cd7-b49c-a49def1f0dd1 button.colab-df-convert');\n",
              "        buttonEl.style.display =\n",
              "          google.colab.kernel.accessAllowed ? 'block' : 'none';\n",
              "\n",
              "        async function convertToInteractive(key) {\n",
              "          const element = document.querySelector('#df-66f05bbd-886d-4cd7-b49c-a49def1f0dd1');\n",
              "          const dataTable =\n",
              "            await google.colab.kernel.invokeFunction('convertToInteractive',\n",
              "                                                     [key], {});\n",
              "          if (!dataTable) return;\n",
              "\n",
              "          const docLinkHtml = 'Like what you see? Visit the ' +\n",
              "            '<a target=\"_blank\" href=https://colab.research.google.com/notebooks/data_table.ipynb>data table notebook</a>'\n",
              "            + ' to learn more about interactive tables.';\n",
              "          element.innerHTML = '';\n",
              "          dataTable['output_type'] = 'display_data';\n",
              "          await google.colab.output.renderOutput(dataTable, element);\n",
              "          const docLink = document.createElement('div');\n",
              "          docLink.innerHTML = docLinkHtml;\n",
              "          element.appendChild(docLink);\n",
              "        }\n",
              "      </script>\n",
              "    </div>\n",
              "  </div>\n",
              "  "
            ]
          },
          "metadata": {},
          "execution_count": 169
        }
      ],
      "source": [
        "scoring_data_nocontact = pd.merge(data3, data5, on=[\"ID\"],how=\"right\")\n",
        "\n",
        "# Perform the same strategy for handling missing values for the score dataset.\n",
        "\n",
        "scoring_data_nocontact = deal_missing_values(scoring_data_nocontact)\n",
        "scoring_data_nocontact = standardize_data(scoring_data_nocontact)\n",
        "scoring_data_nocontact = one_hot_function(scoring_data_nocontact)\n",
        "\n",
        "#scoring_data_nocontact.head()\n",
        "\n",
        "X = scoring_data_nocontact[train_columns] \n",
        "\n",
        "# regr_predict_nocontact=regr.predict(X)\n",
        "# DT_predict_nocontact = DT_model.predict(X) #Predictions on Testing data\n",
        "xgb_predict_nocontact = xgb_model.predict(X) #Predictions on Testing data\n",
        "\n",
        "# scoring_data_nocontact['Prediction'] = DT_predict_nocontact\n",
        "# scoring_data_nocontact['Prediction'] = regr_predict_nocontact\n",
        "scoring_data_nocontact['Prediction'] = xgb_predict_nocontact\n",
        "\n",
        "scoring_data_nocontact= scoring_data_nocontact[['ID','Prediction']]\n",
        "scoring_data_nocontact = scoring_data_nocontact.rename({'Prediction': 'AmtNoContact'}, axis=1) \n",
        "scoring_data_nocontact.head()"
      ]
    },
    {
      "cell_type": "code",
      "execution_count": null,
      "id": "5036d69c",
      "metadata": {
        "colab": {
          "base_uri": "https://localhost:8080/",
          "height": 143
        },
        "id": "5036d69c",
        "outputId": "f60f76d4-42e8-4411-f29d-b392ee6c268a"
      },
      "outputs": [
        {
          "output_type": "execute_result",
          "data": {
            "text/plain": [
              "          ID  AmtContact  AmtNoContact\n",
              "0  2000001.0   25.788204     11.739753\n",
              "1  2000002.0   40.930889      6.587717\n",
              "2  2000003.0   46.240509      6.737335"
            ],
            "text/html": [
              "\n",
              "  <div id=\"df-53aa92f8-f392-48c2-b4e6-e23fc162d398\">\n",
              "    <div class=\"colab-df-container\">\n",
              "      <div>\n",
              "<style scoped>\n",
              "    .dataframe tbody tr th:only-of-type {\n",
              "        vertical-align: middle;\n",
              "    }\n",
              "\n",
              "    .dataframe tbody tr th {\n",
              "        vertical-align: top;\n",
              "    }\n",
              "\n",
              "    .dataframe thead th {\n",
              "        text-align: right;\n",
              "    }\n",
              "</style>\n",
              "<table border=\"1\" class=\"dataframe\">\n",
              "  <thead>\n",
              "    <tr style=\"text-align: right;\">\n",
              "      <th></th>\n",
              "      <th>ID</th>\n",
              "      <th>AmtContact</th>\n",
              "      <th>AmtNoContact</th>\n",
              "    </tr>\n",
              "  </thead>\n",
              "  <tbody>\n",
              "    <tr>\n",
              "      <th>0</th>\n",
              "      <td>2000001.0</td>\n",
              "      <td>25.788204</td>\n",
              "      <td>11.739753</td>\n",
              "    </tr>\n",
              "    <tr>\n",
              "      <th>1</th>\n",
              "      <td>2000002.0</td>\n",
              "      <td>40.930889</td>\n",
              "      <td>6.587717</td>\n",
              "    </tr>\n",
              "    <tr>\n",
              "      <th>2</th>\n",
              "      <td>2000003.0</td>\n",
              "      <td>46.240509</td>\n",
              "      <td>6.737335</td>\n",
              "    </tr>\n",
              "  </tbody>\n",
              "</table>\n",
              "</div>\n",
              "      <button class=\"colab-df-convert\" onclick=\"convertToInteractive('df-53aa92f8-f392-48c2-b4e6-e23fc162d398')\"\n",
              "              title=\"Convert this dataframe to an interactive table.\"\n",
              "              style=\"display:none;\">\n",
              "        \n",
              "  <svg xmlns=\"http://www.w3.org/2000/svg\" height=\"24px\"viewBox=\"0 0 24 24\"\n",
              "       width=\"24px\">\n",
              "    <path d=\"M0 0h24v24H0V0z\" fill=\"none\"/>\n",
              "    <path d=\"M18.56 5.44l.94 2.06.94-2.06 2.06-.94-2.06-.94-.94-2.06-.94 2.06-2.06.94zm-11 1L8.5 8.5l.94-2.06 2.06-.94-2.06-.94L8.5 2.5l-.94 2.06-2.06.94zm10 10l.94 2.06.94-2.06 2.06-.94-2.06-.94-.94-2.06-.94 2.06-2.06.94z\"/><path d=\"M17.41 7.96l-1.37-1.37c-.4-.4-.92-.59-1.43-.59-.52 0-1.04.2-1.43.59L10.3 9.45l-7.72 7.72c-.78.78-.78 2.05 0 2.83L4 21.41c.39.39.9.59 1.41.59.51 0 1.02-.2 1.41-.59l7.78-7.78 2.81-2.81c.8-.78.8-2.07 0-2.86zM5.41 20L4 18.59l7.72-7.72 1.47 1.35L5.41 20z\"/>\n",
              "  </svg>\n",
              "      </button>\n",
              "      \n",
              "  <style>\n",
              "    .colab-df-container {\n",
              "      display:flex;\n",
              "      flex-wrap:wrap;\n",
              "      gap: 12px;\n",
              "    }\n",
              "\n",
              "    .colab-df-convert {\n",
              "      background-color: #E8F0FE;\n",
              "      border: none;\n",
              "      border-radius: 50%;\n",
              "      cursor: pointer;\n",
              "      display: none;\n",
              "      fill: #1967D2;\n",
              "      height: 32px;\n",
              "      padding: 0 0 0 0;\n",
              "      width: 32px;\n",
              "    }\n",
              "\n",
              "    .colab-df-convert:hover {\n",
              "      background-color: #E2EBFA;\n",
              "      box-shadow: 0px 1px 2px rgba(60, 64, 67, 0.3), 0px 1px 3px 1px rgba(60, 64, 67, 0.15);\n",
              "      fill: #174EA6;\n",
              "    }\n",
              "\n",
              "    [theme=dark] .colab-df-convert {\n",
              "      background-color: #3B4455;\n",
              "      fill: #D2E3FC;\n",
              "    }\n",
              "\n",
              "    [theme=dark] .colab-df-convert:hover {\n",
              "      background-color: #434B5C;\n",
              "      box-shadow: 0px 1px 3px 1px rgba(0, 0, 0, 0.15);\n",
              "      filter: drop-shadow(0px 1px 2px rgba(0, 0, 0, 0.3));\n",
              "      fill: #FFFFFF;\n",
              "    }\n",
              "  </style>\n",
              "\n",
              "      <script>\n",
              "        const buttonEl =\n",
              "          document.querySelector('#df-53aa92f8-f392-48c2-b4e6-e23fc162d398 button.colab-df-convert');\n",
              "        buttonEl.style.display =\n",
              "          google.colab.kernel.accessAllowed ? 'block' : 'none';\n",
              "\n",
              "        async function convertToInteractive(key) {\n",
              "          const element = document.querySelector('#df-53aa92f8-f392-48c2-b4e6-e23fc162d398');\n",
              "          const dataTable =\n",
              "            await google.colab.kernel.invokeFunction('convertToInteractive',\n",
              "                                                     [key], {});\n",
              "          if (!dataTable) return;\n",
              "\n",
              "          const docLinkHtml = 'Like what you see? Visit the ' +\n",
              "            '<a target=\"_blank\" href=https://colab.research.google.com/notebooks/data_table.ipynb>data table notebook</a>'\n",
              "            + ' to learn more about interactive tables.';\n",
              "          element.innerHTML = '';\n",
              "          dataTable['output_type'] = 'display_data';\n",
              "          await google.colab.output.renderOutput(dataTable, element);\n",
              "          const docLink = document.createElement('div');\n",
              "          docLink.innerHTML = docLinkHtml;\n",
              "          element.appendChild(docLink);\n",
              "        }\n",
              "      </script>\n",
              "    </div>\n",
              "  </div>\n",
              "  "
            ]
          },
          "metadata": {},
          "execution_count": 170
        }
      ],
      "source": [
        "result_Amt = pd.merge(scoring_data_contact, scoring_data_nocontact, on=[\"ID\"],how=\"right\")\n",
        "result_Amt.sort_values(by=['ID'], inplace=True)\n",
        "result_Amt.head(3)"
      ]
    },
    {
      "cell_type": "markdown",
      "id": "f09bf90d",
      "metadata": {
        "id": "f09bf90d"
      },
      "source": [
        "## Exporting Results to a CSV File"
      ]
    },
    {
      "cell_type": "code",
      "execution_count": null,
      "id": "606bf0a9",
      "metadata": {
        "id": "606bf0a9"
      },
      "outputs": [],
      "source": [
        "result_Amt.to_csv('Round2_Output_amt2.csv', index=False)"
      ]
    },
    {
      "cell_type": "code",
      "execution_count": null,
      "id": "ccce0857",
      "metadata": {
        "id": "ccce0857"
      },
      "outputs": [],
      "source": [
        "# Reminder: You are now done with step 1 of Round 2 on predicting the conditional amount.\n",
        "# Next, to complete Round2, you need to perform step 2 to predict the probability of giving, calculate the uplift and prepare your decision."
      ]
    },
    {
      "cell_type": "code",
      "source": [
        "!head Round2_Output_amt3.csv"
      ],
      "metadata": {
        "colab": {
          "base_uri": "https://localhost:8080/"
        },
        "id": "cJXIon3nFSHJ",
        "outputId": "d955cb20-8a50-4477-e62e-6ae147bd1874"
      },
      "id": "cJXIon3nFSHJ",
      "execution_count": null,
      "outputs": [
        {
          "output_type": "stream",
          "name": "stdout",
          "text": [
            "ID,AmtContact,AmtNoContact\n",
            "2000001.0,26.445272,13.579352\n",
            "2000002.0,39.3725,6.443135\n",
            "2000003.0,44.90819,6.564531\n",
            "2000004.0,12.135225,0.94903636\n",
            "2000005.0,44.90819,6.7758517\n",
            "2000006.0,9.930719,0.7023297\n",
            "2000007.0,9.718065,1.735418\n",
            "2000008.0,19.682007,4.6494465\n",
            "2000009.0,13.652765,2.8555055\n"
          ]
        }
      ]
    }
  ],
  "metadata": {
    "kernelspec": {
      "display_name": "Python 3",
      "language": "python",
      "name": "python3"
    },
    "language_info": {
      "codemirror_mode": {
        "name": "ipython",
        "version": 3
      },
      "file_extension": ".py",
      "mimetype": "text/x-python",
      "name": "python",
      "nbconvert_exporter": "python",
      "pygments_lexer": "ipython3",
      "version": "3.8.8"
    },
    "colab": {
      "provenance": []
    }
  },
  "nbformat": 4,
  "nbformat_minor": 5
}