{
  "cells": [
    {
      "cell_type": "markdown",
      "id": "44509e0a",
      "metadata": {
        "id": "44509e0a"
      },
      "source": [
        "![Python_logo](https://www.python.org/static/community_logos/python-logo-master-v3-TM.png)\n",
        "\n",
        "\n",
        "   # **Cortex Game: Round1--Amount**"
      ]
    },
    {
      "cell_type": "markdown",
      "id": "e6bf1264-7b5f-4f0e-a622-c308e40cb8be",
      "metadata": {
        "id": "e6bf1264-7b5f-4f0e-a622-c308e40cb8be"
      },
      "source": [
        "> Before playing the game, you need to connect to SASPy first.\n",
        ">\n",
        ">> If it is your first time, please follow the 4 steps mentioned below!"
      ]
    },
    {
      "cell_type": "markdown",
      "id": "d1a48e10-b624-4430-9cd1-25869d600d71",
      "metadata": {
        "id": "d1a48e10-b624-4430-9cd1-25869d600d71"
      },
      "source": [
        "***\n",
        "## **Connect to SASPy**"
      ]
    },
    {
      "cell_type": "markdown",
      "source": [
        "**0- Connect to your Google Drive folder**"
      ],
      "metadata": {
        "id": "wgW_D1kOY6d6"
      },
      "id": "wgW_D1kOY6d6"
    },
    {
      "cell_type": "code",
      "source": [
        "my_folder = \"/content/drive/MyDrive/RetoSAS\"\n",
        "\n",
        "from google.colab import drive\n",
        "drive.mount('/content/drive')\n",
        "\n",
        "# Change the following code to set your Drive folder\n",
        "import os\n",
        "os.chdir(my_folder)\n",
        "!pwd"
      ],
      "metadata": {
        "colab": {
          "base_uri": "https://localhost:8080/"
        },
        "id": "EqAV8e1WY45k",
        "outputId": "e62be71c-b33e-45b2-8319-279d8a998eaf"
      },
      "id": "EqAV8e1WY45k",
      "execution_count": null,
      "outputs": [
        {
          "output_type": "stream",
          "name": "stdout",
          "text": [
            "Drive already mounted at /content/drive; to attempt to forcibly remount, call drive.mount(\"/content/drive\", force_remount=True).\n",
            "/content/drive/MyDrive/RetoSAS\n"
          ]
        }
      ]
    },
    {
      "cell_type": "markdown",
      "id": "ec889f32",
      "metadata": {
        "id": "ec889f32"
      },
      "source": [
        "**1- Make sure that your Python version is 3.3 or higher as well as your Java version is 1.8.0_162 or higher**"
      ]
    },
    {
      "cell_type": "code",
      "execution_count": null,
      "id": "6d369a1a",
      "metadata": {
        "collapsed": true,
        "colab": {
          "base_uri": "https://localhost:8080/"
        },
        "id": "6d369a1a",
        "outputId": "a2e8bdc5-e437-4efd-ceec-6e8243105a84"
      },
      "outputs": [
        {
          "output_type": "stream",
          "name": "stdout",
          "text": [
            "Python is at /usr/local/bin/python\n",
            "Python 3.7.15\n"
          ]
        }
      ],
      "source": [
        "!echo \"Python is at\" $(which python)\n",
        "!python --version"
      ]
    },
    {
      "cell_type": "code",
      "source": [
        "!echo \"Java is at\" $(which java)\n",
        "!/usr/bin/java -version"
      ],
      "metadata": {
        "colab": {
          "base_uri": "https://localhost:8080/"
        },
        "id": "iNG5tchbZn5m",
        "outputId": "833a033f-13b4-4884-d5ee-09e05dd538cc"
      },
      "id": "iNG5tchbZn5m",
      "execution_count": null,
      "outputs": [
        {
          "output_type": "stream",
          "name": "stdout",
          "text": [
            "Java is at /usr/bin/java\n",
            "openjdk version \"11.0.17\" 2022-10-18\n",
            "OpenJDK Runtime Environment (build 11.0.17+8-post-Ubuntu-1ubuntu218.04)\n",
            "OpenJDK 64-Bit Server VM (build 11.0.17+8-post-Ubuntu-1ubuntu218.04, mixed mode, sharing)\n"
          ]
        }
      ]
    },
    {
      "cell_type": "markdown",
      "id": "10e73c6f",
      "metadata": {
        "id": "10e73c6f"
      },
      "source": [
        "**2- Install SASPy**"
      ]
    },
    {
      "cell_type": "code",
      "execution_count": null,
      "id": "1c053af0",
      "metadata": {
        "collapsed": true,
        "colab": {
          "base_uri": "https://localhost:8080/"
        },
        "id": "1c053af0",
        "outputId": "7120fde8-5257-44e7-e637-45d7e726bec7"
      },
      "outputs": [
        {
          "output_type": "stream",
          "name": "stdout",
          "text": [
            "Looking in indexes: https://pypi.org/simple, https://us-python.pkg.dev/colab-wheels/public/simple/\n",
            "Requirement already satisfied: saspy in /usr/local/lib/python3.7/dist-packages (4.4.0)\n"
          ]
        }
      ],
      "source": [
        "!pip install saspy"
      ]
    },
    {
      "cell_type": "markdown",
      "id": "9fb501a5",
      "metadata": {
        "id": "9fb501a5"
      },
      "source": [
        "**3- Create the configuration file \"sascfg_personal.py\"**\n",
        "Please, check that your Home Region is correct, you can check it at [ODA-SAS](https://welcome.oda.sas.com/home)"
      ]
    },
    {
      "cell_type": "code",
      "execution_count": null,
      "id": "c1a441c5-17c6-4818-841a-b87cf9a864f8",
      "metadata": {
        "collapsed": true,
        "tags": [],
        "colab": {
          "base_uri": "https://localhost:8080/"
        },
        "id": "c1a441c5-17c6-4818-841a-b87cf9a864f8",
        "outputId": "a3d1c187-47cf-4e33-bd5e-24a5f579eb4f"
      },
      "outputs": [
        {
          "output_type": "stream",
          "name": "stdout",
          "text": [
            "Overwriting sascfg_personal.py\n"
          ]
        }
      ],
      "source": [
        "%%writefile sascfg_personal.py\n",
        "SAS_config_names=['oda']\n",
        "oda = {'java' : '/usr/bin/java',\n",
        "#US Home Region 1\n",
        "#'iomhost' : ['odaws01-usw2.oda.sas.com','odaws02-usw2.oda.sas.com','odaws03-usw2.oda.sas.com','odaws04-usw2.oda.sas.com'],\n",
        "#US Home Region 2\n",
        "'iomhost' : ['odaws01-usw2-2.oda.sas.com','odaws02-usw2-2.oda.sas.com'],\n",
        "#European Home Region 1\n",
        "#'iomhost' : ['odaws01-euw1.oda.sas.com','odaws02-euw1.oda.sas.com'],\n",
        "#Asia Pacific Home Region 1\n",
        "#'iomhost' : ['odaws01-apse1.oda.sas.com','odaws02-apse1.oda.sas.com'],\n",
        "#Asia Pacific Home Region 2\n",
        "#'iomhost' : ['odaws01-apse1-2.oda.sas.com','odaws02-apse1-2.oda.sas.com'],\n",
        "'iomport' : 8591,\n",
        "'authkey' : 'oda',\n",
        "'encoding' : 'utf-8'\n",
        "}"
      ]
    },
    {
      "cell_type": "markdown",
      "source": [
        "**4- Create your .authinfo**"
      ],
      "metadata": {
        "id": "nQ_YzHeRaWH8"
      },
      "id": "nQ_YzHeRaWH8"
    },
    {
      "cell_type": "markdown",
      "source": [
        "If there is no .authinfo file, you can create this"
      ],
      "metadata": {
        "id": "-RZAKpvL_eFC"
      },
      "id": "-RZAKpvL_eFC"
    },
    {
      "cell_type": "code",
      "source": [
        "# %%writefile .authinfo\n",
        "# oda user correoinstituchional password contraseñahacker"
      ],
      "metadata": {
        "id": "XZ4wlGJ2aT71"
      },
      "id": "XZ4wlGJ2aT71",
      "execution_count": null,
      "outputs": []
    },
    {
      "cell_type": "markdown",
      "source": [
        "Copy this file to home"
      ],
      "metadata": {
        "id": "001tNy2D_gA0"
      },
      "id": "001tNy2D_gA0"
    },
    {
      "cell_type": "code",
      "source": [
        "!cp .authinfo ~/.authinfo"
      ],
      "metadata": {
        "id": "KeduVWzNSoLr"
      },
      "id": "KeduVWzNSoLr",
      "execution_count": null,
      "outputs": []
    },
    {
      "cell_type": "markdown",
      "id": "11efebd8",
      "metadata": {
        "id": "11efebd8"
      },
      "source": [
        "**5- Establish Connection (Need to do this step each time you use SASPy)**"
      ]
    },
    {
      "cell_type": "code",
      "execution_count": null,
      "id": "413ecaba",
      "metadata": {
        "collapsed": true,
        "colab": {
          "base_uri": "https://localhost:8080/"
        },
        "id": "413ecaba",
        "outputId": "1d77103b-3fc4-4db9-c4ad-265b5a8c7eb0"
      },
      "outputs": [
        {
          "output_type": "stream",
          "name": "stdout",
          "text": [
            "Using SAS Config named: oda\n",
            "SAS Connection established. Subprocess id is 547\n",
            "\n"
          ]
        },
        {
          "output_type": "execute_result",
          "data": {
            "text/plain": [
              "Access Method         = IOM\n",
              "SAS Config name       = oda\n",
              "SAS Config file       = /content/drive/MyDrive/RetoSAS/sascfg_personal.py\n",
              "WORK Path             = /saswork/SAS_workF3CB0000F9C3_odaws01-usw2-2.oda.sas.com/SAS_work71A90000F9C3_odaws01-usw2-2.oda.sas.com/\n",
              "SAS Version           = 9.04.01M6P11072018\n",
              "SASPy Version         = 4.4.0\n",
              "Teach me SAS          = False\n",
              "Batch                 = False\n",
              "Results               = Pandas\n",
              "SAS Session Encoding  = utf-8\n",
              "Python Encoding value = utf-8\n",
              "SAS process Pid value = 63939\n"
            ]
          },
          "metadata": {},
          "execution_count": 7
        }
      ],
      "source": [
        "import saspy\n",
        "sas_session = saspy.SASsession(cfgfile=\"/content/drive/MyDrive/RetoSAS/sascfg_personal.py\")\n",
        "sas_session"
      ]
    },
    {
      "cell_type": "markdown",
      "id": "719fb2db-4238-4892-aab6-757f696ccd57",
      "metadata": {
        "id": "719fb2db-4238-4892-aab6-757f696ccd57"
      },
      "source": [
        "***\n",
        "## Connect to Cortex Data Sets"
      ]
    },
    {
      "cell_type": "markdown",
      "id": "a9e40645",
      "metadata": {
        "id": "a9e40645"
      },
      "source": [
        "Load Cortex datasets from SAS Studio"
      ]
    },
    {
      "cell_type": "code",
      "source": [
        "ps = sas_session.submit(\"\"\"\n",
        "    libname cortex '~/my_shared_file_links/u39842936/Cortex Data Sets';\n",
        "    \"\"\")\n",
        "print(ps[\"LOG\"])"
      ],
      "metadata": {
        "colab": {
          "base_uri": "https://localhost:8080/"
        },
        "id": "e0OUk4FSX32H",
        "outputId": "277f581d-24a7-4394-ec0e-54a275abe157"
      },
      "id": "e0OUk4FSX32H",
      "execution_count": null,
      "outputs": [
        {
          "output_type": "stream",
          "name": "stdout",
          "text": [
            "\n",
            "5                                                          The SAS System                   Wednesday, November 30, 2022 02:10:00 AM\n",
            "\n",
            "24         ods listing close;ods html5 (id=saspy_internal) file=_tomods1 options(bitmap_mode='inline') device=svg style=HTMLBlue;\n",
            "24       ! ods graphics on / outputfmt=png;\n",
            "25         \n",
            "26         \n",
            "27             libname cortex '~/my_shared_file_links/u39842936/Cortex Data Sets';\n",
            "28         \n",
            "29         \n",
            "30         \n",
            "31         ods html5 (id=saspy_internal) close;ods listing;\n",
            "32         \n",
            "\n",
            "6                                                          The SAS System                   Wednesday, November 30, 2022 02:10:00 AM\n",
            "\n",
            "33         \n"
          ]
        }
      ]
    },
    {
      "cell_type": "markdown",
      "source": [
        "For local Jupyter"
      ],
      "metadata": {
        "id": "CuFNXAEFYgyK"
      },
      "id": "CuFNXAEFYgyK"
    },
    {
      "cell_type": "code",
      "execution_count": null,
      "id": "5a99acdd",
      "metadata": {
        "collapsed": true,
        "id": "5a99acdd"
      },
      "outputs": [],
      "source": [
        "#%%SAS sas_session\n",
        "#libname cortex '~/my_shared_file_links/u39842936/Cortex Data Sets';"
      ]
    },
    {
      "cell_type": "markdown",
      "id": "907b9c04",
      "metadata": {
        "id": "907b9c04"
      },
      "source": [
        "## Transform cloud SAS dataset to Python dataframe (pandas)\n",
        "\n",
        "\n",
        "> **For reference**:\n",
        "\n",
        "> 1. [Pandas library](https://pandas.pydata.org/docs/user_guide/index.html)\n",
        "\n",
        "> 2. [sklearn.model_selection for data partition](https://scikit-learn.org/stable/modules/generated/sklearn.model_selection.train_test_split.html)\n"
      ]
    },
    {
      "cell_type": "code",
      "execution_count": null,
      "id": "9ee94088",
      "metadata": {
        "id": "9ee94088"
      },
      "outputs": [],
      "source": [
        "import pandas as pd\n",
        "\n",
        "data1 = sas_session.sasdata2dataframe(\n",
        "table='hist',\n",
        "libref='cortex'\n",
        ")\n",
        "\n",
        "data2 = sas_session.sasdata2dataframe(\n",
        "table='target_rd1',\n",
        "libref='cortex'\n",
        ")"
      ]
    },
    {
      "cell_type": "markdown",
      "id": "a776622a-bd69-46fe-a704-f84e750baae9",
      "metadata": {
        "id": "a776622a-bd69-46fe-a704-f84e750baae9"
      },
      "source": [
        "## Merge the Data"
      ]
    },
    {
      "cell_type": "code",
      "source": [
        "import numpy as np\n",
        "import seaborn as sns\n",
        "import matplotlib.pyplot as plt"
      ],
      "metadata": {
        "id": "7tT2McmJkm5h"
      },
      "id": "7tT2McmJkm5h",
      "execution_count": null,
      "outputs": []
    },
    {
      "cell_type": "code",
      "execution_count": null,
      "id": "ee3751bb-a1e1-4287-ad3a-625e9140302f",
      "metadata": {
        "collapsed": true,
        "id": "ee3751bb-a1e1-4287-ad3a-625e9140302f",
        "outputId": "243a982f-c4d7-49f9-a2ff-8c94261eb879",
        "colab": {
          "base_uri": "https://localhost:8080/",
          "height": 386
        }
      },
      "outputs": [
        {
          "output_type": "execute_result",
          "data": {
            "text/plain": [
              "               ID    LastName FirstName  Woman   Age   Salary  \\\n",
              "832018  2832019.0        CRUZ     BETTY    1.0  72.0  19900.0   \n",
              "665637  2665638.0    ROBINSON      JOSE    0.0  46.0  11500.0   \n",
              "909199  2909200.0     CORDARO   NERISSA    1.0  20.0  14600.0   \n",
              "961799  2961800.0      FISHER      GLEN    0.0  19.0   3600.0   \n",
              "706380  2706381.0  MCLAUGHLIN      NINA    1.0  35.0  16100.0   \n",
              "\n",
              "                   Education      City  SeniorList  NbActivities  ...  \\\n",
              "832018  University / College      City         1.0           0.0  ...   \n",
              "665637           High School  Suburban         1.0           1.0  ...   \n",
              "909199  University / College     Rural         8.0           0.0  ...   \n",
              "961799  University / College      City         4.0           0.0  ...   \n",
              "706380  University / College  Suburban         6.0           4.0  ...   \n",
              "\n",
              "        Recency  Frequency  Seniority  TotalGift  MinGift  MaxGift  \\\n",
              "832018      NaN        NaN        NaN        NaN      NaN      NaN   \n",
              "665637      NaN        NaN        NaN        NaN      NaN      NaN   \n",
              "909199      NaN        NaN        NaN        NaN      NaN      NaN   \n",
              "961799      4.0        1.0        4.0       20.0     20.0     20.0   \n",
              "706380      1.0        1.0        1.0       25.0     25.0     25.0   \n",
              "\n",
              "        GaveLastYear  AmtLastYear  GaveThisYear  AmtThisYear  \n",
              "832018           0.0          0.0           1.0         25.0  \n",
              "665637           0.0          0.0           1.0         30.0  \n",
              "909199           0.0          0.0           0.0          0.0  \n",
              "961799           0.0          0.0           0.0          0.0  \n",
              "706380           0.0          0.0           1.0        150.0  \n",
              "\n",
              "[5 rows x 21 columns]"
            ],
            "text/html": [
              "\n",
              "  <div id=\"df-43b1b639-1d49-4823-9da4-cd159a047435\">\n",
              "    <div class=\"colab-df-container\">\n",
              "      <div>\n",
              "<style scoped>\n",
              "    .dataframe tbody tr th:only-of-type {\n",
              "        vertical-align: middle;\n",
              "    }\n",
              "\n",
              "    .dataframe tbody tr th {\n",
              "        vertical-align: top;\n",
              "    }\n",
              "\n",
              "    .dataframe thead th {\n",
              "        text-align: right;\n",
              "    }\n",
              "</style>\n",
              "<table border=\"1\" class=\"dataframe\">\n",
              "  <thead>\n",
              "    <tr style=\"text-align: right;\">\n",
              "      <th></th>\n",
              "      <th>ID</th>\n",
              "      <th>LastName</th>\n",
              "      <th>FirstName</th>\n",
              "      <th>Woman</th>\n",
              "      <th>Age</th>\n",
              "      <th>Salary</th>\n",
              "      <th>Education</th>\n",
              "      <th>City</th>\n",
              "      <th>SeniorList</th>\n",
              "      <th>NbActivities</th>\n",
              "      <th>...</th>\n",
              "      <th>Recency</th>\n",
              "      <th>Frequency</th>\n",
              "      <th>Seniority</th>\n",
              "      <th>TotalGift</th>\n",
              "      <th>MinGift</th>\n",
              "      <th>MaxGift</th>\n",
              "      <th>GaveLastYear</th>\n",
              "      <th>AmtLastYear</th>\n",
              "      <th>GaveThisYear</th>\n",
              "      <th>AmtThisYear</th>\n",
              "    </tr>\n",
              "  </thead>\n",
              "  <tbody>\n",
              "    <tr>\n",
              "      <th>832018</th>\n",
              "      <td>2832019.0</td>\n",
              "      <td>CRUZ</td>\n",
              "      <td>BETTY</td>\n",
              "      <td>1.0</td>\n",
              "      <td>72.0</td>\n",
              "      <td>19900.0</td>\n",
              "      <td>University / College</td>\n",
              "      <td>City</td>\n",
              "      <td>1.0</td>\n",
              "      <td>0.0</td>\n",
              "      <td>...</td>\n",
              "      <td>NaN</td>\n",
              "      <td>NaN</td>\n",
              "      <td>NaN</td>\n",
              "      <td>NaN</td>\n",
              "      <td>NaN</td>\n",
              "      <td>NaN</td>\n",
              "      <td>0.0</td>\n",
              "      <td>0.0</td>\n",
              "      <td>1.0</td>\n",
              "      <td>25.0</td>\n",
              "    </tr>\n",
              "    <tr>\n",
              "      <th>665637</th>\n",
              "      <td>2665638.0</td>\n",
              "      <td>ROBINSON</td>\n",
              "      <td>JOSE</td>\n",
              "      <td>0.0</td>\n",
              "      <td>46.0</td>\n",
              "      <td>11500.0</td>\n",
              "      <td>High School</td>\n",
              "      <td>Suburban</td>\n",
              "      <td>1.0</td>\n",
              "      <td>1.0</td>\n",
              "      <td>...</td>\n",
              "      <td>NaN</td>\n",
              "      <td>NaN</td>\n",
              "      <td>NaN</td>\n",
              "      <td>NaN</td>\n",
              "      <td>NaN</td>\n",
              "      <td>NaN</td>\n",
              "      <td>0.0</td>\n",
              "      <td>0.0</td>\n",
              "      <td>1.0</td>\n",
              "      <td>30.0</td>\n",
              "    </tr>\n",
              "    <tr>\n",
              "      <th>909199</th>\n",
              "      <td>2909200.0</td>\n",
              "      <td>CORDARO</td>\n",
              "      <td>NERISSA</td>\n",
              "      <td>1.0</td>\n",
              "      <td>20.0</td>\n",
              "      <td>14600.0</td>\n",
              "      <td>University / College</td>\n",
              "      <td>Rural</td>\n",
              "      <td>8.0</td>\n",
              "      <td>0.0</td>\n",
              "      <td>...</td>\n",
              "      <td>NaN</td>\n",
              "      <td>NaN</td>\n",
              "      <td>NaN</td>\n",
              "      <td>NaN</td>\n",
              "      <td>NaN</td>\n",
              "      <td>NaN</td>\n",
              "      <td>0.0</td>\n",
              "      <td>0.0</td>\n",
              "      <td>0.0</td>\n",
              "      <td>0.0</td>\n",
              "    </tr>\n",
              "    <tr>\n",
              "      <th>961799</th>\n",
              "      <td>2961800.0</td>\n",
              "      <td>FISHER</td>\n",
              "      <td>GLEN</td>\n",
              "      <td>0.0</td>\n",
              "      <td>19.0</td>\n",
              "      <td>3600.0</td>\n",
              "      <td>University / College</td>\n",
              "      <td>City</td>\n",
              "      <td>4.0</td>\n",
              "      <td>0.0</td>\n",
              "      <td>...</td>\n",
              "      <td>4.0</td>\n",
              "      <td>1.0</td>\n",
              "      <td>4.0</td>\n",
              "      <td>20.0</td>\n",
              "      <td>20.0</td>\n",
              "      <td>20.0</td>\n",
              "      <td>0.0</td>\n",
              "      <td>0.0</td>\n",
              "      <td>0.0</td>\n",
              "      <td>0.0</td>\n",
              "    </tr>\n",
              "    <tr>\n",
              "      <th>706380</th>\n",
              "      <td>2706381.0</td>\n",
              "      <td>MCLAUGHLIN</td>\n",
              "      <td>NINA</td>\n",
              "      <td>1.0</td>\n",
              "      <td>35.0</td>\n",
              "      <td>16100.0</td>\n",
              "      <td>University / College</td>\n",
              "      <td>Suburban</td>\n",
              "      <td>6.0</td>\n",
              "      <td>4.0</td>\n",
              "      <td>...</td>\n",
              "      <td>1.0</td>\n",
              "      <td>1.0</td>\n",
              "      <td>1.0</td>\n",
              "      <td>25.0</td>\n",
              "      <td>25.0</td>\n",
              "      <td>25.0</td>\n",
              "      <td>0.0</td>\n",
              "      <td>0.0</td>\n",
              "      <td>1.0</td>\n",
              "      <td>150.0</td>\n",
              "    </tr>\n",
              "  </tbody>\n",
              "</table>\n",
              "<p>5 rows × 21 columns</p>\n",
              "</div>\n",
              "      <button class=\"colab-df-convert\" onclick=\"convertToInteractive('df-43b1b639-1d49-4823-9da4-cd159a047435')\"\n",
              "              title=\"Convert this dataframe to an interactive table.\"\n",
              "              style=\"display:none;\">\n",
              "        \n",
              "  <svg xmlns=\"http://www.w3.org/2000/svg\" height=\"24px\"viewBox=\"0 0 24 24\"\n",
              "       width=\"24px\">\n",
              "    <path d=\"M0 0h24v24H0V0z\" fill=\"none\"/>\n",
              "    <path d=\"M18.56 5.44l.94 2.06.94-2.06 2.06-.94-2.06-.94-.94-2.06-.94 2.06-2.06.94zm-11 1L8.5 8.5l.94-2.06 2.06-.94-2.06-.94L8.5 2.5l-.94 2.06-2.06.94zm10 10l.94 2.06.94-2.06 2.06-.94-2.06-.94-.94-2.06-.94 2.06-2.06.94z\"/><path d=\"M17.41 7.96l-1.37-1.37c-.4-.4-.92-.59-1.43-.59-.52 0-1.04.2-1.43.59L10.3 9.45l-7.72 7.72c-.78.78-.78 2.05 0 2.83L4 21.41c.39.39.9.59 1.41.59.51 0 1.02-.2 1.41-.59l7.78-7.78 2.81-2.81c.8-.78.8-2.07 0-2.86zM5.41 20L4 18.59l7.72-7.72 1.47 1.35L5.41 20z\"/>\n",
              "  </svg>\n",
              "      </button>\n",
              "      \n",
              "  <style>\n",
              "    .colab-df-container {\n",
              "      display:flex;\n",
              "      flex-wrap:wrap;\n",
              "      gap: 12px;\n",
              "    }\n",
              "\n",
              "    .colab-df-convert {\n",
              "      background-color: #E8F0FE;\n",
              "      border: none;\n",
              "      border-radius: 50%;\n",
              "      cursor: pointer;\n",
              "      display: none;\n",
              "      fill: #1967D2;\n",
              "      height: 32px;\n",
              "      padding: 0 0 0 0;\n",
              "      width: 32px;\n",
              "    }\n",
              "\n",
              "    .colab-df-convert:hover {\n",
              "      background-color: #E2EBFA;\n",
              "      box-shadow: 0px 1px 2px rgba(60, 64, 67, 0.3), 0px 1px 3px 1px rgba(60, 64, 67, 0.15);\n",
              "      fill: #174EA6;\n",
              "    }\n",
              "\n",
              "    [theme=dark] .colab-df-convert {\n",
              "      background-color: #3B4455;\n",
              "      fill: #D2E3FC;\n",
              "    }\n",
              "\n",
              "    [theme=dark] .colab-df-convert:hover {\n",
              "      background-color: #434B5C;\n",
              "      box-shadow: 0px 1px 3px 1px rgba(0, 0, 0, 0.15);\n",
              "      filter: drop-shadow(0px 1px 2px rgba(0, 0, 0, 0.3));\n",
              "      fill: #FFFFFF;\n",
              "    }\n",
              "  </style>\n",
              "\n",
              "      <script>\n",
              "        const buttonEl =\n",
              "          document.querySelector('#df-43b1b639-1d49-4823-9da4-cd159a047435 button.colab-df-convert');\n",
              "        buttonEl.style.display =\n",
              "          google.colab.kernel.accessAllowed ? 'block' : 'none';\n",
              "\n",
              "        async function convertToInteractive(key) {\n",
              "          const element = document.querySelector('#df-43b1b639-1d49-4823-9da4-cd159a047435');\n",
              "          const dataTable =\n",
              "            await google.colab.kernel.invokeFunction('convertToInteractive',\n",
              "                                                     [key], {});\n",
              "          if (!dataTable) return;\n",
              "\n",
              "          const docLinkHtml = 'Like what you see? Visit the ' +\n",
              "            '<a target=\"_blank\" href=https://colab.research.google.com/notebooks/data_table.ipynb>data table notebook</a>'\n",
              "            + ' to learn more about interactive tables.';\n",
              "          element.innerHTML = '';\n",
              "          dataTable['output_type'] = 'display_data';\n",
              "          await google.colab.output.renderOutput(dataTable, element);\n",
              "          const docLink = document.createElement('div');\n",
              "          docLink.innerHTML = docLinkHtml;\n",
              "          element.appendChild(docLink);\n",
              "        }\n",
              "      </script>\n",
              "    </div>\n",
              "  </div>\n",
              "  "
            ]
          },
          "metadata": {},
          "execution_count": 20
        }
      ],
      "source": [
        "data_merge = pd.merge(data1, data2, on=[\"ID\"],how=\"right\")\n",
        "data_merge.sample(5)"
      ]
    },
    {
      "cell_type": "code",
      "source": [
        "data_merge.describe()"
      ],
      "metadata": {
        "colab": {
          "base_uri": "https://localhost:8080/",
          "height": 364
        },
        "id": "br82mdLV5bWt",
        "outputId": "db5370ed-6c1a-4eff-9ea5-fd3760616237"
      },
      "id": "br82mdLV5bWt",
      "execution_count": null,
      "outputs": [
        {
          "output_type": "execute_result",
          "data": {
            "text/plain": [
              "                 ID           Woman             Age          Salary  \\\n",
              "count  1.000000e+06  1000000.000000  1000000.000000  1000000.000000   \n",
              "mean   2.500000e+06        0.516936       46.366170    65531.654000   \n",
              "std    2.886753e+05        0.499713       18.945324    61051.122343   \n",
              "min    2.000001e+06        0.000000       16.000000        0.000000   \n",
              "25%    2.250001e+06        0.000000       30.000000    20700.000000   \n",
              "50%    2.500000e+06        1.000000       46.000000    44000.000000   \n",
              "75%    2.750000e+06        1.000000       61.000000    91200.000000   \n",
              "max    3.000000e+06        1.000000       90.000000   250000.000000   \n",
              "\n",
              "           SeniorList    NbActivities       Referrals        Recency  \\\n",
              "count  1000000.000000  1000000.000000  1000000.000000  336334.000000   \n",
              "mean         4.582967        0.561413        0.560556       3.039636   \n",
              "std          3.325844        0.996803        1.054027       2.120722   \n",
              "min          0.000000        0.000000        0.000000       1.000000   \n",
              "25%          2.000000        0.000000        0.000000       1.000000   \n",
              "50%          4.000000        0.000000        0.000000       2.000000   \n",
              "75%          7.000000        1.000000        1.000000       4.000000   \n",
              "max         10.000000       10.000000       16.000000      10.000000   \n",
              "\n",
              "           Frequency      Seniority      TotalGift        MinGift  \\\n",
              "count  336334.000000  336334.000000  336334.000000  336334.000000   \n",
              "mean        1.666882       4.474148     104.454055      43.130251   \n",
              "std         1.052090       2.588119     303.760477     150.249476   \n",
              "min         1.000000       1.000000      10.000000      10.000000   \n",
              "25%         1.000000       2.000000      20.000000      15.000000   \n",
              "50%         1.000000       4.000000      40.000000      20.000000   \n",
              "75%         2.000000       6.000000      90.000000      30.000000   \n",
              "max        10.000000      10.000000   15150.000000   10000.000000   \n",
              "\n",
              "             MaxGift    GaveLastYear     AmtLastYear    GaveThisYear  \\\n",
              "count  336334.000000  1000000.000000  1000000.000000  1000000.000000   \n",
              "mean       85.897932        0.122101        7.673015        0.122232   \n",
              "std       283.581066        0.327403       82.224854        0.327554   \n",
              "min        10.000000        0.000000        0.000000        0.000000   \n",
              "25%        20.000000        0.000000        0.000000        0.000000   \n",
              "50%        30.000000        0.000000        0.000000        0.000000   \n",
              "75%        75.000000        0.000000        0.000000        0.000000   \n",
              "max     10000.000000        1.000000    10000.000000        1.000000   \n",
              "\n",
              "          AmtThisYear  \n",
              "count  1000000.000000  \n",
              "mean         7.741080  \n",
              "std         83.110552  \n",
              "min          0.000000  \n",
              "25%          0.000000  \n",
              "50%          0.000000  \n",
              "75%          0.000000  \n",
              "max      10000.000000  "
            ],
            "text/html": [
              "\n",
              "  <div id=\"df-22c4d1a7-580e-4255-b97c-3a38275cbe2f\">\n",
              "    <div class=\"colab-df-container\">\n",
              "      <div>\n",
              "<style scoped>\n",
              "    .dataframe tbody tr th:only-of-type {\n",
              "        vertical-align: middle;\n",
              "    }\n",
              "\n",
              "    .dataframe tbody tr th {\n",
              "        vertical-align: top;\n",
              "    }\n",
              "\n",
              "    .dataframe thead th {\n",
              "        text-align: right;\n",
              "    }\n",
              "</style>\n",
              "<table border=\"1\" class=\"dataframe\">\n",
              "  <thead>\n",
              "    <tr style=\"text-align: right;\">\n",
              "      <th></th>\n",
              "      <th>ID</th>\n",
              "      <th>Woman</th>\n",
              "      <th>Age</th>\n",
              "      <th>Salary</th>\n",
              "      <th>SeniorList</th>\n",
              "      <th>NbActivities</th>\n",
              "      <th>Referrals</th>\n",
              "      <th>Recency</th>\n",
              "      <th>Frequency</th>\n",
              "      <th>Seniority</th>\n",
              "      <th>TotalGift</th>\n",
              "      <th>MinGift</th>\n",
              "      <th>MaxGift</th>\n",
              "      <th>GaveLastYear</th>\n",
              "      <th>AmtLastYear</th>\n",
              "      <th>GaveThisYear</th>\n",
              "      <th>AmtThisYear</th>\n",
              "    </tr>\n",
              "  </thead>\n",
              "  <tbody>\n",
              "    <tr>\n",
              "      <th>count</th>\n",
              "      <td>1.000000e+06</td>\n",
              "      <td>1000000.000000</td>\n",
              "      <td>1000000.000000</td>\n",
              "      <td>1000000.000000</td>\n",
              "      <td>1000000.000000</td>\n",
              "      <td>1000000.000000</td>\n",
              "      <td>1000000.000000</td>\n",
              "      <td>336334.000000</td>\n",
              "      <td>336334.000000</td>\n",
              "      <td>336334.000000</td>\n",
              "      <td>336334.000000</td>\n",
              "      <td>336334.000000</td>\n",
              "      <td>336334.000000</td>\n",
              "      <td>1000000.000000</td>\n",
              "      <td>1000000.000000</td>\n",
              "      <td>1000000.000000</td>\n",
              "      <td>1000000.000000</td>\n",
              "    </tr>\n",
              "    <tr>\n",
              "      <th>mean</th>\n",
              "      <td>2.500000e+06</td>\n",
              "      <td>0.516936</td>\n",
              "      <td>46.366170</td>\n",
              "      <td>65531.654000</td>\n",
              "      <td>4.582967</td>\n",
              "      <td>0.561413</td>\n",
              "      <td>0.560556</td>\n",
              "      <td>3.039636</td>\n",
              "      <td>1.666882</td>\n",
              "      <td>4.474148</td>\n",
              "      <td>104.454055</td>\n",
              "      <td>43.130251</td>\n",
              "      <td>85.897932</td>\n",
              "      <td>0.122101</td>\n",
              "      <td>7.673015</td>\n",
              "      <td>0.122232</td>\n",
              "      <td>7.741080</td>\n",
              "    </tr>\n",
              "    <tr>\n",
              "      <th>std</th>\n",
              "      <td>2.886753e+05</td>\n",
              "      <td>0.499713</td>\n",
              "      <td>18.945324</td>\n",
              "      <td>61051.122343</td>\n",
              "      <td>3.325844</td>\n",
              "      <td>0.996803</td>\n",
              "      <td>1.054027</td>\n",
              "      <td>2.120722</td>\n",
              "      <td>1.052090</td>\n",
              "      <td>2.588119</td>\n",
              "      <td>303.760477</td>\n",
              "      <td>150.249476</td>\n",
              "      <td>283.581066</td>\n",
              "      <td>0.327403</td>\n",
              "      <td>82.224854</td>\n",
              "      <td>0.327554</td>\n",
              "      <td>83.110552</td>\n",
              "    </tr>\n",
              "    <tr>\n",
              "      <th>min</th>\n",
              "      <td>2.000001e+06</td>\n",
              "      <td>0.000000</td>\n",
              "      <td>16.000000</td>\n",
              "      <td>0.000000</td>\n",
              "      <td>0.000000</td>\n",
              "      <td>0.000000</td>\n",
              "      <td>0.000000</td>\n",
              "      <td>1.000000</td>\n",
              "      <td>1.000000</td>\n",
              "      <td>1.000000</td>\n",
              "      <td>10.000000</td>\n",
              "      <td>10.000000</td>\n",
              "      <td>10.000000</td>\n",
              "      <td>0.000000</td>\n",
              "      <td>0.000000</td>\n",
              "      <td>0.000000</td>\n",
              "      <td>0.000000</td>\n",
              "    </tr>\n",
              "    <tr>\n",
              "      <th>25%</th>\n",
              "      <td>2.250001e+06</td>\n",
              "      <td>0.000000</td>\n",
              "      <td>30.000000</td>\n",
              "      <td>20700.000000</td>\n",
              "      <td>2.000000</td>\n",
              "      <td>0.000000</td>\n",
              "      <td>0.000000</td>\n",
              "      <td>1.000000</td>\n",
              "      <td>1.000000</td>\n",
              "      <td>2.000000</td>\n",
              "      <td>20.000000</td>\n",
              "      <td>15.000000</td>\n",
              "      <td>20.000000</td>\n",
              "      <td>0.000000</td>\n",
              "      <td>0.000000</td>\n",
              "      <td>0.000000</td>\n",
              "      <td>0.000000</td>\n",
              "    </tr>\n",
              "    <tr>\n",
              "      <th>50%</th>\n",
              "      <td>2.500000e+06</td>\n",
              "      <td>1.000000</td>\n",
              "      <td>46.000000</td>\n",
              "      <td>44000.000000</td>\n",
              "      <td>4.000000</td>\n",
              "      <td>0.000000</td>\n",
              "      <td>0.000000</td>\n",
              "      <td>2.000000</td>\n",
              "      <td>1.000000</td>\n",
              "      <td>4.000000</td>\n",
              "      <td>40.000000</td>\n",
              "      <td>20.000000</td>\n",
              "      <td>30.000000</td>\n",
              "      <td>0.000000</td>\n",
              "      <td>0.000000</td>\n",
              "      <td>0.000000</td>\n",
              "      <td>0.000000</td>\n",
              "    </tr>\n",
              "    <tr>\n",
              "      <th>75%</th>\n",
              "      <td>2.750000e+06</td>\n",
              "      <td>1.000000</td>\n",
              "      <td>61.000000</td>\n",
              "      <td>91200.000000</td>\n",
              "      <td>7.000000</td>\n",
              "      <td>1.000000</td>\n",
              "      <td>1.000000</td>\n",
              "      <td>4.000000</td>\n",
              "      <td>2.000000</td>\n",
              "      <td>6.000000</td>\n",
              "      <td>90.000000</td>\n",
              "      <td>30.000000</td>\n",
              "      <td>75.000000</td>\n",
              "      <td>0.000000</td>\n",
              "      <td>0.000000</td>\n",
              "      <td>0.000000</td>\n",
              "      <td>0.000000</td>\n",
              "    </tr>\n",
              "    <tr>\n",
              "      <th>max</th>\n",
              "      <td>3.000000e+06</td>\n",
              "      <td>1.000000</td>\n",
              "      <td>90.000000</td>\n",
              "      <td>250000.000000</td>\n",
              "      <td>10.000000</td>\n",
              "      <td>10.000000</td>\n",
              "      <td>16.000000</td>\n",
              "      <td>10.000000</td>\n",
              "      <td>10.000000</td>\n",
              "      <td>10.000000</td>\n",
              "      <td>15150.000000</td>\n",
              "      <td>10000.000000</td>\n",
              "      <td>10000.000000</td>\n",
              "      <td>1.000000</td>\n",
              "      <td>10000.000000</td>\n",
              "      <td>1.000000</td>\n",
              "      <td>10000.000000</td>\n",
              "    </tr>\n",
              "  </tbody>\n",
              "</table>\n",
              "</div>\n",
              "      <button class=\"colab-df-convert\" onclick=\"convertToInteractive('df-22c4d1a7-580e-4255-b97c-3a38275cbe2f')\"\n",
              "              title=\"Convert this dataframe to an interactive table.\"\n",
              "              style=\"display:none;\">\n",
              "        \n",
              "  <svg xmlns=\"http://www.w3.org/2000/svg\" height=\"24px\"viewBox=\"0 0 24 24\"\n",
              "       width=\"24px\">\n",
              "    <path d=\"M0 0h24v24H0V0z\" fill=\"none\"/>\n",
              "    <path d=\"M18.56 5.44l.94 2.06.94-2.06 2.06-.94-2.06-.94-.94-2.06-.94 2.06-2.06.94zm-11 1L8.5 8.5l.94-2.06 2.06-.94-2.06-.94L8.5 2.5l-.94 2.06-2.06.94zm10 10l.94 2.06.94-2.06 2.06-.94-2.06-.94-.94-2.06-.94 2.06-2.06.94z\"/><path d=\"M17.41 7.96l-1.37-1.37c-.4-.4-.92-.59-1.43-.59-.52 0-1.04.2-1.43.59L10.3 9.45l-7.72 7.72c-.78.78-.78 2.05 0 2.83L4 21.41c.39.39.9.59 1.41.59.51 0 1.02-.2 1.41-.59l7.78-7.78 2.81-2.81c.8-.78.8-2.07 0-2.86zM5.41 20L4 18.59l7.72-7.72 1.47 1.35L5.41 20z\"/>\n",
              "  </svg>\n",
              "      </button>\n",
              "      \n",
              "  <style>\n",
              "    .colab-df-container {\n",
              "      display:flex;\n",
              "      flex-wrap:wrap;\n",
              "      gap: 12px;\n",
              "    }\n",
              "\n",
              "    .colab-df-convert {\n",
              "      background-color: #E8F0FE;\n",
              "      border: none;\n",
              "      border-radius: 50%;\n",
              "      cursor: pointer;\n",
              "      display: none;\n",
              "      fill: #1967D2;\n",
              "      height: 32px;\n",
              "      padding: 0 0 0 0;\n",
              "      width: 32px;\n",
              "    }\n",
              "\n",
              "    .colab-df-convert:hover {\n",
              "      background-color: #E2EBFA;\n",
              "      box-shadow: 0px 1px 2px rgba(60, 64, 67, 0.3), 0px 1px 3px 1px rgba(60, 64, 67, 0.15);\n",
              "      fill: #174EA6;\n",
              "    }\n",
              "\n",
              "    [theme=dark] .colab-df-convert {\n",
              "      background-color: #3B4455;\n",
              "      fill: #D2E3FC;\n",
              "    }\n",
              "\n",
              "    [theme=dark] .colab-df-convert:hover {\n",
              "      background-color: #434B5C;\n",
              "      box-shadow: 0px 1px 3px 1px rgba(0, 0, 0, 0.15);\n",
              "      filter: drop-shadow(0px 1px 2px rgba(0, 0, 0, 0.3));\n",
              "      fill: #FFFFFF;\n",
              "    }\n",
              "  </style>\n",
              "\n",
              "      <script>\n",
              "        const buttonEl =\n",
              "          document.querySelector('#df-22c4d1a7-580e-4255-b97c-3a38275cbe2f button.colab-df-convert');\n",
              "        buttonEl.style.display =\n",
              "          google.colab.kernel.accessAllowed ? 'block' : 'none';\n",
              "\n",
              "        async function convertToInteractive(key) {\n",
              "          const element = document.querySelector('#df-22c4d1a7-580e-4255-b97c-3a38275cbe2f');\n",
              "          const dataTable =\n",
              "            await google.colab.kernel.invokeFunction('convertToInteractive',\n",
              "                                                     [key], {});\n",
              "          if (!dataTable) return;\n",
              "\n",
              "          const docLinkHtml = 'Like what you see? Visit the ' +\n",
              "            '<a target=\"_blank\" href=https://colab.research.google.com/notebooks/data_table.ipynb>data table notebook</a>'\n",
              "            + ' to learn more about interactive tables.';\n",
              "          element.innerHTML = '';\n",
              "          dataTable['output_type'] = 'display_data';\n",
              "          await google.colab.output.renderOutput(dataTable, element);\n",
              "          const docLink = document.createElement('div');\n",
              "          docLink.innerHTML = docLinkHtml;\n",
              "          element.appendChild(docLink);\n",
              "        }\n",
              "      </script>\n",
              "    </div>\n",
              "  </div>\n",
              "  "
            ]
          },
          "metadata": {},
          "execution_count": 12
        }
      ]
    },
    {
      "cell_type": "code",
      "source": [
        "data_merge.info()"
      ],
      "metadata": {
        "colab": {
          "base_uri": "https://localhost:8080/"
        },
        "id": "mb70IRm2ZxRm",
        "outputId": "7a31febd-0bf9-46e5-deda-42566311e8fa"
      },
      "id": "mb70IRm2ZxRm",
      "execution_count": null,
      "outputs": [
        {
          "output_type": "stream",
          "name": "stdout",
          "text": [
            "<class 'pandas.core.frame.DataFrame'>\n",
            "Int64Index: 1000000 entries, 0 to 999999\n",
            "Data columns (total 21 columns):\n",
            " #   Column        Non-Null Count    Dtype  \n",
            "---  ------        --------------    -----  \n",
            " 0   ID            1000000 non-null  float64\n",
            " 1   LastName      999977 non-null   object \n",
            " 2   FirstName     999996 non-null   object \n",
            " 3   Woman         1000000 non-null  float64\n",
            " 4   Age           1000000 non-null  float64\n",
            " 5   Salary        1000000 non-null  float64\n",
            " 6   Education     1000000 non-null  object \n",
            " 7   City          1000000 non-null  object \n",
            " 8   SeniorList    1000000 non-null  float64\n",
            " 9   NbActivities  1000000 non-null  float64\n",
            " 10  Referrals     1000000 non-null  float64\n",
            " 11  Recency       336334 non-null   float64\n",
            " 12  Frequency     336334 non-null   float64\n",
            " 13  Seniority     336334 non-null   float64\n",
            " 14  TotalGift     336334 non-null   float64\n",
            " 15  MinGift       336334 non-null   float64\n",
            " 16  MaxGift       336334 non-null   float64\n",
            " 17  GaveLastYear  1000000 non-null  float64\n",
            " 18  AmtLastYear   1000000 non-null  float64\n",
            " 19  GaveThisYear  1000000 non-null  float64\n",
            " 20  AmtThisYear   1000000 non-null  float64\n",
            "dtypes: float64(17), object(4)\n",
            "memory usage: 167.8+ MB\n"
          ]
        }
      ]
    },
    {
      "cell_type": "markdown",
      "source": [
        "## Data Analysis"
      ],
      "metadata": {
        "id": "IFWuzvJQ5e-y"
      },
      "id": "IFWuzvJQ5e-y"
    },
    {
      "cell_type": "code",
      "source": [
        "cualitativas = [\"Woman\", \"Education\", \"City\",\"SeniorList\",\"GaveLastYear\",\"GaveThisYear\"]\n",
        "cuantitativas = [\"Age\", \"Salary\", \"NbActivities\", \"Referrals\", \"Recency\", \"Frequency\", \"Seniority\", \"TotalGift\", \"MinGift\", \"MaxGift\",\"AmtLastYear\",\"AmtThisYear\"]\n",
        "cuantitativas_sin_y = [\"Age\", \"Salary\", \"NbActivities\", \"Referrals\", \"Recency\", \"Frequency\", \"Seniority\", \"TotalGift\", \"MinGift\", \"MaxGift\",\"AmtLastYear\"]"
      ],
      "metadata": {
        "id": "QOqrkpzz5m3a"
      },
      "id": "QOqrkpzz5m3a",
      "execution_count": null,
      "outputs": []
    },
    {
      "cell_type": "code",
      "source": [
        "df = data_merge\n",
        "\n",
        "for i,el in enumerate(cuantitativas):\n",
        "    sns.barplot(x = df[el], y = df[\"AmtThisYear\"])\n",
        "    plt.show()"
      ],
      "metadata": {
        "id": "LCe_1Pqb9Gl9",
        "colab": {
          "base_uri": "https://localhost:8080/",
          "height": 1000
        },
        "outputId": "3ec7a82b-3216-495d-a50c-538d598d505f"
      },
      "id": "LCe_1Pqb9Gl9",
      "execution_count": null,
      "outputs": [
        {
          "output_type": "display_data",
          "data": {
            "text/plain": [
              "<Figure size 432x288 with 1 Axes>"
            ],
            "image/png": "[encoded data removed]"
          },
          "metadata": {
            "needs_background": "light"
          }
        },
        {
          "output_type": "display_data",
          "data": {
            "text/plain": [
              "<Figure size 432x288 with 1 Axes>"
            ],
            "image/png": "[encoded data removed]"
          },
          "metadata": {
            "needs_background": "light"
          }
        },
        {
          "output_type": "display_data",
          "data": {
            "text/plain": [
              "<Figure size 432x288 with 1 Axes>"
            ],
            "image/png": "[encoded data removed]"
          },
          "metadata": {
            "needs_background": "light"
          }
        },
        {
          "output_type": "display_data",
          "data": {
            "text/plain": [
              "<Figure size 432x288 with 1 Axes>"
            ],
            "image/png": "[encoded data removed]"
          },
          "metadata": {
            "needs_background": "light"
          }
        },
        {
          "output_type": "display_data",
          "data": {
            "text/plain": [
              "<Figure size 432x288 with 1 Axes>"
            ],
            "image/png": "[encoded data removed]"
          },
          "metadata": {
            "needs_background": "light"
          }
        },
        {
          "output_type": "display_data",
          "data": {
            "text/plain": [
              "<Figure size 432x288 with 1 Axes>"
            ],
            "image/png": "[encoded data removed]"
          },
          "metadata": {
            "needs_background": "light"
          }
        },
        {
          "output_type": "display_data",
          "data": {
            "text/plain": [
              "<Figure size 432x288 with 1 Axes>"
            ],
            "image/png": "[encoded data removed]"
          },
          "metadata": {
            "needs_background": "light"
          }
        },
        {
          "output_type": "display_data",
          "data": {
            "text/plain": [
              "<Figure size 432x288 with 1 Axes>"
            ],
            "image/png": "[encoded data removed]"
          },
          "metadata": {
            "needs_background": "light"
          }
        },
        {
          "output_type": "display_data",
          "data": {
            "text/plain": [
              "<Figure size 432x288 with 1 Axes>"
            ],
            "image/png": "[encoded data removed]"
          },
          "metadata": {
            "needs_background": "light"
          }
        },
        {
          "output_type": "display_data",
          "data": {
            "text/plain": [
              "<Figure size 432x288 with 1 Axes>"
            ],
            "image/png": "[encoded data removed]"
          },
          "metadata": {
            "needs_background": "light"
          }
        },
        {
          "output_type": "display_data",
          "data": {
            "text/plain": [
              "<Figure size 432x288 with 1 Axes>"
            ],
            "image/png": "[encoded data removed]"
          },
          "metadata": {
            "needs_background": "light"
          }
        },
        {
          "output_type": "display_data",
          "data": {
            "text/plain": [
              "<Figure size 432x288 with 1 Axes>"
            ],
            "image/png": "[encoded data removed]"
          },
          "metadata": {
            "needs_background": "light"
          }
        }
      ]
    },
    {
      "cell_type": "code",
      "source": [
        "for i,el in enumerate(cuantitativas):\n",
        "    sns.barplot(x = df[el], y = df[\"GaveThisYear\"])\n",
        "    plt.show()"
      ],
      "metadata": {
        "colab": {
          "base_uri": "https://localhost:8080/",
          "height": 1000
        },
        "id": "8T5_vRqmSytm",
        "outputId": "2a1c9cb0-c364-438f-8b97-d426d079ae34"
      },
      "id": "8T5_vRqmSytm",
      "execution_count": null,
      "outputs": [
        {
          "output_type": "display_data",
          "data": {
            "text/plain": [
              "<Figure size 432x288 with 1 Axes>"
            ],
            "image/png": "[encoded data removed]"
          },
          "metadata": {
            "needs_background": "light"
          }
        },
        {
          "output_type": "display_data",
          "data": {
            "text/plain": [
              "<Figure size 432x288 with 1 Axes>"
            ],
            "image/png": "[encoded data removed]"
          },
          "metadata": {
            "needs_background": "light"
          }
        },
        {
          "output_type": "display_data",
          "data": {
            "text/plain": [
              "<Figure size 432x288 with 1 Axes>"
            ],
            "image/png": "[encoded data removed]"
          },
          "metadata": {
            "needs_background": "light"
          }
        },
        {
          "output_type": "display_data",
          "data": {
            "text/plain": [
              "<Figure size 432x288 with 1 Axes>"
            ],
            "image/png": "[encoded data removed]"
          },
          "metadata": {
            "needs_background": "light"
          }
        },
        {
          "output_type": "display_data",
          "data": {
            "text/plain": [
              "<Figure size 432x288 with 1 Axes>"
            ],
            "image/png": "[encoded data removed]"
          },
          "metadata": {
            "needs_background": "light"
          }
        },
        {
          "output_type": "display_data",
          "data": {
            "text/plain": [
              "<Figure size 432x288 with 1 Axes>"
            ],
            "image/png": "[encoded data removed]"
          },
          "metadata": {
            "needs_background": "light"
          }
        },
        {
          "output_type": "display_data",
          "data": {
            "text/plain": [
              "<Figure size 432x288 with 1 Axes>"
            ],
            "image/png": "[encoded data removed]"
          },
          "metadata": {
            "needs_background": "light"
          }
        },
        {
          "output_type": "display_data",
          "data": {
            "text/plain": [
              "<Figure size 432x288 with 1 Axes>"
            ],
            "image/png": "[encoded data removed]"
          },
          "metadata": {
            "needs_background": "light"
          }
        },
        {
          "output_type": "display_data",
          "data": {
            "text/plain": [
              "<Figure size 432x288 with 1 Axes>"
            ],
            "image/png": "[encoded data removed]"
          },
          "metadata": {
            "needs_background": "light"
          }
        },
        {
          "output_type": "display_data",
          "data": {
            "text/plain": [
              "<Figure size 432x288 with 1 Axes>"
            ],
            "image/png": "[encoded data removed]"
          },
          "metadata": {
            "needs_background": "light"
          }
        },
        {
          "output_type": "display_data",
          "data": {
            "text/plain": [
              "<Figure size 432x288 with 1 Axes>"
            ],
            "image/png": "[encoded data removed]"
          },
          "metadata": {
            "needs_background": "light"
          }
        },
        {
          "output_type": "display_data",
          "data": {
            "text/plain": [
              "<Figure size 432x288 with 1 Axes>"
            ],
            "image/png": "[encoded data removed]"
          },
          "metadata": {
            "needs_background": "light"
          }
        }
      ]
    },
    {
      "cell_type": "code",
      "source": [
        "for i,el in enumerate(cualitativas):\n",
        "    sns.barplot(x = df[el], y = df[\"AmtThisYear\"])\n",
        "    plt.show()"
      ],
      "metadata": {
        "colab": {
          "base_uri": "https://localhost:8080/",
          "height": 1000
        },
        "id": "iYxTd9c2XA1T",
        "outputId": "b996152e-68b1-4321-8e34-8da9fa46e3ed"
      },
      "id": "iYxTd9c2XA1T",
      "execution_count": null,
      "outputs": [
        {
          "output_type": "display_data",
          "data": {
            "text/plain": [
              "<Figure size 432x288 with 1 Axes>"
            ],
            "image/png": "[encoded data removed]"
          },
          "metadata": {
            "needs_background": "light"
          }
        },
        {
          "output_type": "display_data",
          "data": {
            "text/plain": [
              "<Figure size 432x288 with 1 Axes>"
            ],
            "image/png": "[encoded data removed]"
          },
          "metadata": {
            "needs_background": "light"
          }
        },
        {
          "output_type": "display_data",
          "data": {
            "text/plain": [
              "<Figure size 432x288 with 1 Axes>"
            ],
            "image/png": "[encoded data removed]"
          },
          "metadata": {
            "needs_background": "light"
          }
        },
        {
          "output_type": "display_data",
          "data": {
            "text/plain": [
              "<Figure size 432x288 with 1 Axes>"
            ],
            "image/png": "[encoded data removed]"
          },
          "metadata": {
            "needs_background": "light"
          }
        },
        {
          "output_type": "display_data",
          "data": {
            "text/plain": [
              "<Figure size 432x288 with 1 Axes>"
            ],
            "image/png": "[encoded data removed]"
          },
          "metadata": {
            "needs_background": "light"
          }
        },
        {
          "output_type": "display_data",
          "data": {
            "text/plain": [
              "<Figure size 432x288 with 1 Axes>"
            ],
            "image/png": "[encoded data removed]"
          },
          "metadata": {
            "needs_background": "light"
          }
        }
      ]
    },
    {
      "cell_type": "code",
      "source": [
        "for i,el in enumerate(cualitativas):\n",
        "    sns.barplot(x = df[el], y = df[\"GaveThisYear\"])\n",
        "    plt.show()"
      ],
      "metadata": {
        "colab": {
          "base_uri": "https://localhost:8080/",
          "height": 1000
        },
        "id": "kHSVWKS9W4UV",
        "outputId": "c82530ff-defc-467d-88a2-e4a5b6b48fb0"
      },
      "id": "kHSVWKS9W4UV",
      "execution_count": null,
      "outputs": [
        {
          "output_type": "display_data",
          "data": {
            "text/plain": [
              "<Figure size 432x288 with 1 Axes>"
            ],
            "image/png": "[encoded data removed]"
          },
          "metadata": {
            "needs_background": "light"
          }
        },
        {
          "output_type": "display_data",
          "data": {
            "text/plain": [
              "<Figure size 432x288 with 1 Axes>"
            ],
            "image/png": "[encoded data removed]"
          },
          "metadata": {
            "needs_background": "light"
          }
        },
        {
          "output_type": "display_data",
          "data": {
            "text/plain": [
              "<Figure size 432x288 with 1 Axes>"
            ],
            "image/png": "[encoded data removed]"
          },
          "metadata": {
            "needs_background": "light"
          }
        },
        {
          "output_type": "display_data",
          "data": {
            "text/plain": [
              "<Figure size 432x288 with 1 Axes>"
            ],
            "image/png": "[encoded data removed]"
          },
          "metadata": {
            "needs_background": "light"
          }
        },
        {
          "output_type": "display_data",
          "data": {
            "text/plain": [
              "<Figure size 432x288 with 1 Axes>"
            ],
            "image/png": "[encoded data removed]"
          },
          "metadata": {
            "needs_background": "light"
          }
        },
        {
          "output_type": "display_data",
          "data": {
            "text/plain": [
              "<Figure size 432x288 with 1 Axes>"
            ],
            "image/png": "[encoded data removed]"
          },
          "metadata": {
            "needs_background": "light"
          }
        }
      ]
    },
    {
      "cell_type": "markdown",
      "id": "11f80a12-8482-4d72-8c10-656f5d1fe657",
      "metadata": {
        "id": "11f80a12-8482-4d72-8c10-656f5d1fe657"
      },
      "source": [
        "## Treat Missing Values\n",
        "\n",
        "> Please be aware that deleting all missing values can induce a selection bias. \n",
        "Some missing values are very informative. For example, when MinGift is missing, it means that the donor never gave in the past 10 years (leading to but excluding last year). Instead of deleting this information, replacing it by 0 is more appropriate!\n",
        "\n",
        "> A good understanding of the business case and the data can help you come up with more appropriate strategies to deal with missing values.\n"
      ]
    },
    {
      "cell_type": "code",
      "execution_count": null,
      "id": "9342cca8",
      "metadata": {
        "collapsed": true,
        "id": "9342cca8"
      },
      "outputs": [],
      "source": [
        "# In this case, we are replacing MinGift by 0.\n",
        "# You can do the same for what you think is reasonable for dealing with the other variables.\n",
        "def deal_missing_values(data): \n",
        "  contarLastYear = True\n",
        "\n",
        "  if contarLastYear:\n",
        "    # MinGift\n",
        "    data.loc[data[\"GaveLastYear\"] == 1 & (data[\"AmtLastYear\"] < data[\"MinGift\"]), \"MinGift\"] = data[\"AmtLastYear\"]\n",
        "    # data.loc[(data[\"GaveLastYear\"] == 1) & (np.isnan(data[\"MinGift\"])), \"MinGift\"] = data.loc[(data[\"GaveLastYear\"] == 1) & (np.isnan(data[\"MinGift\"])),\"AmtLastYear\"]\n",
        "    data.loc[(data[\"GaveLastYear\"] == 1) & (np.isnan(data[\"MinGift\"])), \"MinGift\"] = data[\"AmtLastYear\"]\n",
        "    data[['MinGift']] = data[['MinGift']].fillna(value=0)\n",
        "\n",
        "    # Recency\n",
        "    data.loc[data[\"GaveLastYear\"] == 0,\"Recency\"] += 1\n",
        "    data.loc[np.isnan(data[\"Recency\"]) & (data[\"GaveLastYear\"] == 0),\"Recency\"] = 12.0\n",
        "    data.loc[data[\"GaveLastYear\"] == 1,\"Recency\"] = 1.0\n",
        "\n",
        "    # Frequency CAMBIAR, sería 2 veces, no una, creo, tengo que ver si sí refleja la realidad\n",
        "    data.loc[data[\"GaveLastYear\"] == 1,\"Frequency\"] += 1\n",
        "    data.loc[np.isnan(data[\"Frequency\"]) & (data[\"GaveLastYear\"] == 1),\"Frequency\"] = 1\n",
        "    data[['Frequency']] = data[['Frequency']].fillna(value=0)\n",
        "\n",
        "    # Seniority CAMBIAR creo que sí se puede deducir\n",
        "    data[['Seniority']] = data[['Seniority']].fillna(round(data['Seniority'].mean()))\n",
        "\n",
        "    # TotalGift\n",
        "    data.loc[data[\"GaveLastYear\"] == 1,\"TotalGift\"] += data[\"AmtLastYear\"]\n",
        "    data.loc[np.isnan(data[\"TotalGift\"]) & (data[\"GaveLastYear\"] == 1),\"TotalGift\"] = data[\"AmtLastYear\"]\n",
        "    data[['TotalGift']] = data[['TotalGift']].fillna(value=0)\n",
        "\n",
        "    # MaxGift\n",
        "    data.loc[data[\"GaveLastYear\"] == 1 & (data[\"AmtLastYear\"] > data[\"MaxGift\"]), \"MaxGift\"] = data[\"AmtLastYear\"]\n",
        "    # data.loc[(data[\"GaveLastYear\"] == 1) & (np.isnan(data[\"MaxGift\"])), \"MaxGift\"] = data.loc[(data[\"GaveLastYear\"] == 1) & (np.isnan(data[\"MaxGift\"])),\"AmtLastYear\"]\n",
        "    data.loc[(data[\"GaveLastYear\"] == 1) & (np.isnan(data[\"MaxGift\"])), \"MaxGift\"] = data[\"AmtLastYear\"]\n",
        "    data[['MaxGift']] = data[['MaxGift']].fillna(value=0)\n",
        "\n",
        "  else:\n",
        "\n",
        "    #Sin Contar LastYear\n",
        "    data[['MinGift']] = data[['MinGift']].fillna(value=0)\n",
        "    data[['Recency']] = data[['Recency']].fillna(value=0)\n",
        "    data[['Frequency']] = data[['Frequency']].fillna(value=0)\n",
        "    data[['Seniority']] = data[['Seniority']].fillna(value=0)\n",
        "    data[['TotalGift']] = data[['TotalGift']].fillna(value=0)\n",
        "    data[['MaxGift']] = data[['MaxGift']].fillna(value=0)\n",
        "\n",
        "  return data\n",
        "\n",
        "# data.sample(3)"
      ]
    },
    {
      "cell_type": "markdown",
      "source": [
        "## Data standardize"
      ],
      "metadata": {
        "id": "_aqwFJ0FS-cz"
      },
      "id": "_aqwFJ0FS-cz"
    },
    {
      "cell_type": "code",
      "source": [
        "from sklearn.preprocessing import StandardScaler\n",
        "\n",
        "def standardize_data(data): \n",
        "  scaler = StandardScaler()\n",
        "  scaler.fit(data[cuantitativas_sin_y])\n",
        "  transformed = scaler.transform(data[cuantitativas_sin_y])\n",
        "\n",
        "  data[cuantitativas_sin_y] =  pd.DataFrame(transformed, columns = data[cuantitativas_sin_y].columns)\n",
        "\n",
        "  return data\n",
        "# data.head(10)"
      ],
      "metadata": {
        "id": "ptin7kaHS-Kw"
      },
      "id": "ptin7kaHS-Kw",
      "execution_count": null,
      "outputs": []
    },
    {
      "cell_type": "markdown",
      "source": [
        "## One Hot Encoding"
      ],
      "metadata": {
        "id": "sMNG6CApTb2q"
      },
      "id": "sMNG6CApTb2q"
    },
    {
      "cell_type": "code",
      "source": [
        "def one_hot_function(data): \n",
        "\n",
        "  data = pd.get_dummies(data, columns = ['Education', 'City'])\n",
        "  return data"
      ],
      "metadata": {
        "id": "ipXuAFa1TbM1"
      },
      "id": "ipXuAFa1TbM1",
      "execution_count": null,
      "outputs": []
    },
    {
      "cell_type": "code",
      "source": [
        "data_merge = deal_missing_values(data_merge)\n",
        "data_merge.tail()"
      ],
      "metadata": {
        "colab": {
          "base_uri": "https://localhost:8080/",
          "height": 386
        },
        "id": "T3XJOUsPlwl6",
        "outputId": "d5533055-f5f0-45e5-ecdc-52f5942f5785"
      },
      "id": "T3XJOUsPlwl6",
      "execution_count": null,
      "outputs": [
        {
          "output_type": "execute_result",
          "data": {
            "text/plain": [
              "               ID  LastName FirstName  Woman   Age   Salary  \\\n",
              "999995  2999996.0  SCHUBERT   FRANCES    1.0  29.0  15100.0   \n",
              "999996  2999997.0     LUGGE      MARY    1.0  22.0   7000.0   \n",
              "999997  2999998.0       ROY  REGINALD    0.0  17.0   1000.0   \n",
              "999998  2999999.0   LIBERTI    PAMELA    1.0  32.0  43900.0   \n",
              "999999  3000000.0      BELL     SYBIL    1.0  50.0  52400.0   \n",
              "\n",
              "                   Education      City  SeniorList  NbActivities  ...  \\\n",
              "999995           High School  Suburban         8.0           3.0  ...   \n",
              "999996           High School  Suburban        10.0           0.0  ...   \n",
              "999997           High School      City        10.0           1.0  ...   \n",
              "999998  University / College     Rural         0.0           0.0  ...   \n",
              "999999  University / College  Suburban         4.0           0.0  ...   \n",
              "\n",
              "        Recency  Frequency  Seniority  TotalGift  MinGift  MaxGift  \\\n",
              "999995      6.0        1.0        5.0       20.0     20.0      0.0   \n",
              "999996     12.0        0.0        4.0        0.0      0.0      0.0   \n",
              "999997      2.0        1.0        1.0       20.0     20.0      0.0   \n",
              "999998     12.0        0.0        4.0        0.0      0.0      0.0   \n",
              "999999     12.0        0.0        4.0        0.0      0.0      0.0   \n",
              "\n",
              "        GaveLastYear  AmtLastYear  GaveThisYear  AmtThisYear  \n",
              "999995           0.0          0.0           0.0          0.0  \n",
              "999996           0.0          0.0           0.0          0.0  \n",
              "999997           0.0          0.0           0.0          0.0  \n",
              "999998           0.0          0.0           0.0          0.0  \n",
              "999999           0.0          0.0           0.0          0.0  \n",
              "\n",
              "[5 rows x 21 columns]"
            ],
            "text/html": [
              "\n",
              "  <div id=\"df-5b8e88b2-3812-457f-9459-fe8389fe7c9b\">\n",
              "    <div class=\"colab-df-container\">\n",
              "      <div>\n",
              "<style scoped>\n",
              "    .dataframe tbody tr th:only-of-type {\n",
              "        vertical-align: middle;\n",
              "    }\n",
              "\n",
              "    .dataframe tbody tr th {\n",
              "        vertical-align: top;\n",
              "    }\n",
              "\n",
              "    .dataframe thead th {\n",
              "        text-align: right;\n",
              "    }\n",
              "</style>\n",
              "<table border=\"1\" class=\"dataframe\">\n",
              "  <thead>\n",
              "    <tr style=\"text-align: right;\">\n",
              "      <th></th>\n",
              "      <th>ID</th>\n",
              "      <th>LastName</th>\n",
              "      <th>FirstName</th>\n",
              "      <th>Woman</th>\n",
              "      <th>Age</th>\n",
              "      <th>Salary</th>\n",
              "      <th>Education</th>\n",
              "      <th>City</th>\n",
              "      <th>SeniorList</th>\n",
              "      <th>NbActivities</th>\n",
              "      <th>...</th>\n",
              "      <th>Recency</th>\n",
              "      <th>Frequency</th>\n",
              "      <th>Seniority</th>\n",
              "      <th>TotalGift</th>\n",
              "      <th>MinGift</th>\n",
              "      <th>MaxGift</th>\n",
              "      <th>GaveLastYear</th>\n",
              "      <th>AmtLastYear</th>\n",
              "      <th>GaveThisYear</th>\n",
              "      <th>AmtThisYear</th>\n",
              "    </tr>\n",
              "  </thead>\n",
              "  <tbody>\n",
              "    <tr>\n",
              "      <th>999995</th>\n",
              "      <td>2999996.0</td>\n",
              "      <td>SCHUBERT</td>\n",
              "      <td>FRANCES</td>\n",
              "      <td>1.0</td>\n",
              "      <td>29.0</td>\n",
              "      <td>15100.0</td>\n",
              "      <td>High School</td>\n",
              "      <td>Suburban</td>\n",
              "      <td>8.0</td>\n",
              "      <td>3.0</td>\n",
              "      <td>...</td>\n",
              "      <td>6.0</td>\n",
              "      <td>1.0</td>\n",
              "      <td>5.0</td>\n",
              "      <td>20.0</td>\n",
              "      <td>20.0</td>\n",
              "      <td>0.0</td>\n",
              "      <td>0.0</td>\n",
              "      <td>0.0</td>\n",
              "      <td>0.0</td>\n",
              "      <td>0.0</td>\n",
              "    </tr>\n",
              "    <tr>\n",
              "      <th>999996</th>\n",
              "      <td>2999997.0</td>\n",
              "      <td>LUGGE</td>\n",
              "      <td>MARY</td>\n",
              "      <td>1.0</td>\n",
              "      <td>22.0</td>\n",
              "      <td>7000.0</td>\n",
              "      <td>High School</td>\n",
              "      <td>Suburban</td>\n",
              "      <td>10.0</td>\n",
              "      <td>0.0</td>\n",
              "      <td>...</td>\n",
              "      <td>12.0</td>\n",
              "      <td>0.0</td>\n",
              "      <td>4.0</td>\n",
              "      <td>0.0</td>\n",
              "      <td>0.0</td>\n",
              "      <td>0.0</td>\n",
              "      <td>0.0</td>\n",
              "      <td>0.0</td>\n",
              "      <td>0.0</td>\n",
              "      <td>0.0</td>\n",
              "    </tr>\n",
              "    <tr>\n",
              "      <th>999997</th>\n",
              "      <td>2999998.0</td>\n",
              "      <td>ROY</td>\n",
              "      <td>REGINALD</td>\n",
              "      <td>0.0</td>\n",
              "      <td>17.0</td>\n",
              "      <td>1000.0</td>\n",
              "      <td>High School</td>\n",
              "      <td>City</td>\n",
              "      <td>10.0</td>\n",
              "      <td>1.0</td>\n",
              "      <td>...</td>\n",
              "      <td>2.0</td>\n",
              "      <td>1.0</td>\n",
              "      <td>1.0</td>\n",
              "      <td>20.0</td>\n",
              "      <td>20.0</td>\n",
              "      <td>0.0</td>\n",
              "      <td>0.0</td>\n",
              "      <td>0.0</td>\n",
              "      <td>0.0</td>\n",
              "      <td>0.0</td>\n",
              "    </tr>\n",
              "    <tr>\n",
              "      <th>999998</th>\n",
              "      <td>2999999.0</td>\n",
              "      <td>LIBERTI</td>\n",
              "      <td>PAMELA</td>\n",
              "      <td>1.0</td>\n",
              "      <td>32.0</td>\n",
              "      <td>43900.0</td>\n",
              "      <td>University / College</td>\n",
              "      <td>Rural</td>\n",
              "      <td>0.0</td>\n",
              "      <td>0.0</td>\n",
              "      <td>...</td>\n",
              "      <td>12.0</td>\n",
              "      <td>0.0</td>\n",
              "      <td>4.0</td>\n",
              "      <td>0.0</td>\n",
              "      <td>0.0</td>\n",
              "      <td>0.0</td>\n",
              "      <td>0.0</td>\n",
              "      <td>0.0</td>\n",
              "      <td>0.0</td>\n",
              "      <td>0.0</td>\n",
              "    </tr>\n",
              "    <tr>\n",
              "      <th>999999</th>\n",
              "      <td>3000000.0</td>\n",
              "      <td>BELL</td>\n",
              "      <td>SYBIL</td>\n",
              "      <td>1.0</td>\n",
              "      <td>50.0</td>\n",
              "      <td>52400.0</td>\n",
              "      <td>University / College</td>\n",
              "      <td>Suburban</td>\n",
              "      <td>4.0</td>\n",
              "      <td>0.0</td>\n",
              "      <td>...</td>\n",
              "      <td>12.0</td>\n",
              "      <td>0.0</td>\n",
              "      <td>4.0</td>\n",
              "      <td>0.0</td>\n",
              "      <td>0.0</td>\n",
              "      <td>0.0</td>\n",
              "      <td>0.0</td>\n",
              "      <td>0.0</td>\n",
              "      <td>0.0</td>\n",
              "      <td>0.0</td>\n",
              "    </tr>\n",
              "  </tbody>\n",
              "</table>\n",
              "<p>5 rows × 21 columns</p>\n",
              "</div>\n",
              "      <button class=\"colab-df-convert\" onclick=\"convertToInteractive('df-5b8e88b2-3812-457f-9459-fe8389fe7c9b')\"\n",
              "              title=\"Convert this dataframe to an interactive table.\"\n",
              "              style=\"display:none;\">\n",
              "        \n",
              "  <svg xmlns=\"http://www.w3.org/2000/svg\" height=\"24px\"viewBox=\"0 0 24 24\"\n",
              "       width=\"24px\">\n",
              "    <path d=\"M0 0h24v24H0V0z\" fill=\"none\"/>\n",
              "    <path d=\"M18.56 5.44l.94 2.06.94-2.06 2.06-.94-2.06-.94-.94-2.06-.94 2.06-2.06.94zm-11 1L8.5 8.5l.94-2.06 2.06-.94-2.06-.94L8.5 2.5l-.94 2.06-2.06.94zm10 10l.94 2.06.94-2.06 2.06-.94-2.06-.94-.94-2.06-.94 2.06-2.06.94z\"/><path d=\"M17.41 7.96l-1.37-1.37c-.4-.4-.92-.59-1.43-.59-.52 0-1.04.2-1.43.59L10.3 9.45l-7.72 7.72c-.78.78-.78 2.05 0 2.83L4 21.41c.39.39.9.59 1.41.59.51 0 1.02-.2 1.41-.59l7.78-7.78 2.81-2.81c.8-.78.8-2.07 0-2.86zM5.41 20L4 18.59l7.72-7.72 1.47 1.35L5.41 20z\"/>\n",
              "  </svg>\n",
              "      </button>\n",
              "      \n",
              "  <style>\n",
              "    .colab-df-container {\n",
              "      display:flex;\n",
              "      flex-wrap:wrap;\n",
              "      gap: 12px;\n",
              "    }\n",
              "\n",
              "    .colab-df-convert {\n",
              "      background-color: #E8F0FE;\n",
              "      border: none;\n",
              "      border-radius: 50%;\n",
              "      cursor: pointer;\n",
              "      display: none;\n",
              "      fill: #1967D2;\n",
              "      height: 32px;\n",
              "      padding: 0 0 0 0;\n",
              "      width: 32px;\n",
              "    }\n",
              "\n",
              "    .colab-df-convert:hover {\n",
              "      background-color: #E2EBFA;\n",
              "      box-shadow: 0px 1px 2px rgba(60, 64, 67, 0.3), 0px 1px 3px 1px rgba(60, 64, 67, 0.15);\n",
              "      fill: #174EA6;\n",
              "    }\n",
              "\n",
              "    [theme=dark] .colab-df-convert {\n",
              "      background-color: #3B4455;\n",
              "      fill: #D2E3FC;\n",
              "    }\n",
              "\n",
              "    [theme=dark] .colab-df-convert:hover {\n",
              "      background-color: #434B5C;\n",
              "      box-shadow: 0px 1px 3px 1px rgba(0, 0, 0, 0.15);\n",
              "      filter: drop-shadow(0px 1px 2px rgba(0, 0, 0, 0.3));\n",
              "      fill: #FFFFFF;\n",
              "    }\n",
              "  </style>\n",
              "\n",
              "      <script>\n",
              "        const buttonEl =\n",
              "          document.querySelector('#df-5b8e88b2-3812-457f-9459-fe8389fe7c9b button.colab-df-convert');\n",
              "        buttonEl.style.display =\n",
              "          google.colab.kernel.accessAllowed ? 'block' : 'none';\n",
              "\n",
              "        async function convertToInteractive(key) {\n",
              "          const element = document.querySelector('#df-5b8e88b2-3812-457f-9459-fe8389fe7c9b');\n",
              "          const dataTable =\n",
              "            await google.colab.kernel.invokeFunction('convertToInteractive',\n",
              "                                                     [key], {});\n",
              "          if (!dataTable) return;\n",
              "\n",
              "          const docLinkHtml = 'Like what you see? Visit the ' +\n",
              "            '<a target=\"_blank\" href=https://colab.research.google.com/notebooks/data_table.ipynb>data table notebook</a>'\n",
              "            + ' to learn more about interactive tables.';\n",
              "          element.innerHTML = '';\n",
              "          dataTable['output_type'] = 'display_data';\n",
              "          await google.colab.output.renderOutput(dataTable, element);\n",
              "          const docLink = document.createElement('div');\n",
              "          docLink.innerHTML = docLinkHtml;\n",
              "          element.appendChild(docLink);\n",
              "        }\n",
              "      </script>\n",
              "    </div>\n",
              "  </div>\n",
              "  "
            ]
          },
          "metadata": {},
          "execution_count": 25
        }
      ]
    },
    {
      "cell_type": "code",
      "source": [
        "data_merge = standardize_data(data_merge)\n",
        "data_merge.tail(10)"
      ],
      "metadata": {
        "colab": {
          "base_uri": "https://localhost:8080/",
          "height": 630
        },
        "id": "DHkRSByylwds",
        "outputId": "caca2e66-88cf-450e-85ee-1c0e28c2b856"
      },
      "id": "DHkRSByylwds",
      "execution_count": null,
      "outputs": [
        {
          "output_type": "execute_result",
          "data": {
            "text/plain": [
              "               ID  LastName FirstName  Woman       Age    Salary  \\\n",
              "999990  2999991.0  COSTANZO     KATHY    1.0  0.930775  1.041232   \n",
              "999991  2999992.0   SCOGGIN    GERALD    0.0  1.141909 -0.853902   \n",
              "999992  2999993.0   WEITZEL      LIZA    1.0  0.297373  0.572772   \n",
              "999993  2999994.0     CLARE   MELINDA    1.0 -0.599946 -0.598378   \n",
              "999994  2999995.0     WHITE   RICHARD    0.0  1.141909 -0.806401   \n",
              "999995  2999996.0  SCHUBERT   FRANCES    1.0 -0.916647 -0.826057   \n",
              "999996  2999997.0     LUGGE      MARY    1.0 -1.286132 -0.958732   \n",
              "999997  2999998.0       ROY  REGINALD    0.0 -1.550049 -1.057011   \n",
              "999998  2999999.0   LIBERTI    PAMELA    1.0 -0.758297 -0.354321   \n",
              "999999  3000000.0      BELL     SYBIL    1.0  0.191806 -0.215093   \n",
              "\n",
              "                   Education      City  SeniorList  NbActivities  ...  \\\n",
              "999990           High School  Suburban         3.0     -0.563214  ...   \n",
              "999991           High School      City         0.0     -0.563214  ...   \n",
              "999992  University / College  Suburban         2.0     -0.563214  ...   \n",
              "999993           High School  Suburban        10.0     -0.563214  ...   \n",
              "999994           High School      City         8.0     -0.563214  ...   \n",
              "999995           High School  Suburban         8.0      2.446410  ...   \n",
              "999996           High School  Suburban        10.0     -0.563214  ...   \n",
              "999997           High School      City        10.0      0.439994  ...   \n",
              "999998  University / College     Rural         0.0     -0.563214  ...   \n",
              "999999  University / College  Suburban         4.0     -0.563214  ...   \n",
              "\n",
              "         Recency  Frequency  Seniority  TotalGift   MinGift   MaxGift  \\\n",
              "999990 -1.642039   0.288302  -0.105083  -0.112467  0.030015  0.067855   \n",
              "999991  0.770124  -0.620394  -0.105083  -0.211103 -0.168130 -0.106515   \n",
              "999992  0.770124  -0.620394  -0.105083  -0.211103 -0.168130 -0.106515   \n",
              "999993  0.770124  -0.620394  -0.105083  -0.211103 -0.168130 -0.106515   \n",
              "999994  0.770124  -0.620394  -0.105083  -0.211103 -0.168130 -0.106515   \n",
              "999995 -0.545601   0.288302   0.553859  -0.112467  0.030015 -0.106515   \n",
              "999996  0.770124  -0.620394  -0.105083  -0.211103 -0.168130 -0.106515   \n",
              "999997 -1.422751   0.288302  -2.081909  -0.112467  0.030015 -0.106515   \n",
              "999998  0.770124  -0.620394  -0.105083  -0.211103 -0.168130 -0.106515   \n",
              "999999  0.770124  -0.620394  -0.105083  -0.211103 -0.168130 -0.106515   \n",
              "\n",
              "        GaveLastYear  AmtLastYear  GaveThisYear  AmtThisYear  \n",
              "999990           1.0     0.149918           0.0          0.0  \n",
              "999991           0.0    -0.093318           0.0          0.0  \n",
              "999992           0.0    -0.093318           0.0          0.0  \n",
              "999993           0.0    -0.093318           0.0          0.0  \n",
              "999994           0.0    -0.093318           0.0          0.0  \n",
              "999995           0.0    -0.093318           0.0          0.0  \n",
              "999996           0.0    -0.093318           0.0          0.0  \n",
              "999997           0.0    -0.093318           0.0          0.0  \n",
              "999998           0.0    -0.093318           0.0          0.0  \n",
              "999999           0.0    -0.093318           0.0          0.0  \n",
              "\n",
              "[10 rows x 21 columns]"
            ],
            "text/html": [
              "\n",
              "  <div id=\"df-656d8719-a8f8-4bda-b267-fb47832f3705\">\n",
              "    <div class=\"colab-df-container\">\n",
              "      <div>\n",
              "<style scoped>\n",
              "    .dataframe tbody tr th:only-of-type {\n",
              "        vertical-align: middle;\n",
              "    }\n",
              "\n",
              "    .dataframe tbody tr th {\n",
              "        vertical-align: top;\n",
              "    }\n",
              "\n",
              "    .dataframe thead th {\n",
              "        text-align: right;\n",
              "    }\n",
              "</style>\n",
              "<table border=\"1\" class=\"dataframe\">\n",
              "  <thead>\n",
              "    <tr style=\"text-align: right;\">\n",
              "      <th></th>\n",
              "      <th>ID</th>\n",
              "      <th>LastName</th>\n",
              "      <th>FirstName</th>\n",
              "      <th>Woman</th>\n",
              "      <th>Age</th>\n",
              "      <th>Salary</th>\n",
              "      <th>Education</th>\n",
              "      <th>City</th>\n",
              "      <th>SeniorList</th>\n",
              "      <th>NbActivities</th>\n",
              "      <th>...</th>\n",
              "      <th>Recency</th>\n",
              "      <th>Frequency</th>\n",
              "      <th>Seniority</th>\n",
              "      <th>TotalGift</th>\n",
              "      <th>MinGift</th>\n",
              "      <th>MaxGift</th>\n",
              "      <th>GaveLastYear</th>\n",
              "      <th>AmtLastYear</th>\n",
              "      <th>GaveThisYear</th>\n",
              "      <th>AmtThisYear</th>\n",
              "    </tr>\n",
              "  </thead>\n",
              "  <tbody>\n",
              "    <tr>\n",
              "      <th>999990</th>\n",
              "      <td>2999991.0</td>\n",
              "      <td>COSTANZO</td>\n",
              "      <td>KATHY</td>\n",
              "      <td>1.0</td>\n",
              "      <td>0.930775</td>\n",
              "      <td>1.041232</td>\n",
              "      <td>High School</td>\n",
              "      <td>Suburban</td>\n",
              "      <td>3.0</td>\n",
              "      <td>-0.563214</td>\n",
              "      <td>...</td>\n",
              "      <td>-1.642039</td>\n",
              "      <td>0.288302</td>\n",
              "      <td>-0.105083</td>\n",
              "      <td>-0.112467</td>\n",
              "      <td>0.030015</td>\n",
              "      <td>0.067855</td>\n",
              "      <td>1.0</td>\n",
              "      <td>0.149918</td>\n",
              "      <td>0.0</td>\n",
              "      <td>0.0</td>\n",
              "    </tr>\n",
              "    <tr>\n",
              "      <th>999991</th>\n",
              "      <td>2999992.0</td>\n",
              "      <td>SCOGGIN</td>\n",
              "      <td>GERALD</td>\n",
              "      <td>0.0</td>\n",
              "      <td>1.141909</td>\n",
              "      <td>-0.853902</td>\n",
              "      <td>High School</td>\n",
              "      <td>City</td>\n",
              "      <td>0.0</td>\n",
              "      <td>-0.563214</td>\n",
              "      <td>...</td>\n",
              "      <td>0.770124</td>\n",
              "      <td>-0.620394</td>\n",
              "      <td>-0.105083</td>\n",
              "      <td>-0.211103</td>\n",
              "      <td>-0.168130</td>\n",
              "      <td>-0.106515</td>\n",
              "      <td>0.0</td>\n",
              "      <td>-0.093318</td>\n",
              "      <td>0.0</td>\n",
              "      <td>0.0</td>\n",
              "    </tr>\n",
              "    <tr>\n",
              "      <th>999992</th>\n",
              "      <td>2999993.0</td>\n",
              "      <td>WEITZEL</td>\n",
              "      <td>LIZA</td>\n",
              "      <td>1.0</td>\n",
              "      <td>0.297373</td>\n",
              "      <td>0.572772</td>\n",
              "      <td>University / College</td>\n",
              "      <td>Suburban</td>\n",
              "      <td>2.0</td>\n",
              "      <td>-0.563214</td>\n",
              "      <td>...</td>\n",
              "      <td>0.770124</td>\n",
              "      <td>-0.620394</td>\n",
              "      <td>-0.105083</td>\n",
              "      <td>-0.211103</td>\n",
              "      <td>-0.168130</td>\n",
              "      <td>-0.106515</td>\n",
              "      <td>0.0</td>\n",
              "      <td>-0.093318</td>\n",
              "      <td>0.0</td>\n",
              "      <td>0.0</td>\n",
              "    </tr>\n",
              "    <tr>\n",
              "      <th>999993</th>\n",
              "      <td>2999994.0</td>\n",
              "      <td>CLARE</td>\n",
              "      <td>MELINDA</td>\n",
              "      <td>1.0</td>\n",
              "      <td>-0.599946</td>\n",
              "      <td>-0.598378</td>\n",
              "      <td>High School</td>\n",
              "      <td>Suburban</td>\n",
              "      <td>10.0</td>\n",
              "      <td>-0.563214</td>\n",
              "      <td>...</td>\n",
              "      <td>0.770124</td>\n",
              "      <td>-0.620394</td>\n",
              "      <td>-0.105083</td>\n",
              "      <td>-0.211103</td>\n",
              "      <td>-0.168130</td>\n",
              "      <td>-0.106515</td>\n",
              "      <td>0.0</td>\n",
              "      <td>-0.093318</td>\n",
              "      <td>0.0</td>\n",
              "      <td>0.0</td>\n",
              "    </tr>\n",
              "    <tr>\n",
              "      <th>999994</th>\n",
              "      <td>2999995.0</td>\n",
              "      <td>WHITE</td>\n",
              "      <td>RICHARD</td>\n",
              "      <td>0.0</td>\n",
              "      <td>1.141909</td>\n",
              "      <td>-0.806401</td>\n",
              "      <td>High School</td>\n",
              "      <td>City</td>\n",
              "      <td>8.0</td>\n",
              "      <td>-0.563214</td>\n",
              "      <td>...</td>\n",
              "      <td>0.770124</td>\n",
              "      <td>-0.620394</td>\n",
              "      <td>-0.105083</td>\n",
              "      <td>-0.211103</td>\n",
              "      <td>-0.168130</td>\n",
              "      <td>-0.106515</td>\n",
              "      <td>0.0</td>\n",
              "      <td>-0.093318</td>\n",
              "      <td>0.0</td>\n",
              "      <td>0.0</td>\n",
              "    </tr>\n",
              "    <tr>\n",
              "      <th>999995</th>\n",
              "      <td>2999996.0</td>\n",
              "      <td>SCHUBERT</td>\n",
              "      <td>FRANCES</td>\n",
              "      <td>1.0</td>\n",
              "      <td>-0.916647</td>\n",
              "      <td>-0.826057</td>\n",
              "      <td>High School</td>\n",
              "      <td>Suburban</td>\n",
              "      <td>8.0</td>\n",
              "      <td>2.446410</td>\n",
              "      <td>...</td>\n",
              "      <td>-0.545601</td>\n",
              "      <td>0.288302</td>\n",
              "      <td>0.553859</td>\n",
              "      <td>-0.112467</td>\n",
              "      <td>0.030015</td>\n",
              "      <td>-0.106515</td>\n",
              "      <td>0.0</td>\n",
              "      <td>-0.093318</td>\n",
              "      <td>0.0</td>\n",
              "      <td>0.0</td>\n",
              "    </tr>\n",
              "    <tr>\n",
              "      <th>999996</th>\n",
              "      <td>2999997.0</td>\n",
              "      <td>LUGGE</td>\n",
              "      <td>MARY</td>\n",
              "      <td>1.0</td>\n",
              "      <td>-1.286132</td>\n",
              "      <td>-0.958732</td>\n",
              "      <td>High School</td>\n",
              "      <td>Suburban</td>\n",
              "      <td>10.0</td>\n",
              "      <td>-0.563214</td>\n",
              "      <td>...</td>\n",
              "      <td>0.770124</td>\n",
              "      <td>-0.620394</td>\n",
              "      <td>-0.105083</td>\n",
              "      <td>-0.211103</td>\n",
              "      <td>-0.168130</td>\n",
              "      <td>-0.106515</td>\n",
              "      <td>0.0</td>\n",
              "      <td>-0.093318</td>\n",
              "      <td>0.0</td>\n",
              "      <td>0.0</td>\n",
              "    </tr>\n",
              "    <tr>\n",
              "      <th>999997</th>\n",
              "      <td>2999998.0</td>\n",
              "      <td>ROY</td>\n",
              "      <td>REGINALD</td>\n",
              "      <td>0.0</td>\n",
              "      <td>-1.550049</td>\n",
              "      <td>-1.057011</td>\n",
              "      <td>High School</td>\n",
              "      <td>City</td>\n",
              "      <td>10.0</td>\n",
              "      <td>0.439994</td>\n",
              "      <td>...</td>\n",
              "      <td>-1.422751</td>\n",
              "      <td>0.288302</td>\n",
              "      <td>-2.081909</td>\n",
              "      <td>-0.112467</td>\n",
              "      <td>0.030015</td>\n",
              "      <td>-0.106515</td>\n",
              "      <td>0.0</td>\n",
              "      <td>-0.093318</td>\n",
              "      <td>0.0</td>\n",
              "      <td>0.0</td>\n",
              "    </tr>\n",
              "    <tr>\n",
              "      <th>999998</th>\n",
              "      <td>2999999.0</td>\n",
              "      <td>LIBERTI</td>\n",
              "      <td>PAMELA</td>\n",
              "      <td>1.0</td>\n",
              "      <td>-0.758297</td>\n",
              "      <td>-0.354321</td>\n",
              "      <td>University / College</td>\n",
              "      <td>Rural</td>\n",
              "      <td>0.0</td>\n",
              "      <td>-0.563214</td>\n",
              "      <td>...</td>\n",
              "      <td>0.770124</td>\n",
              "      <td>-0.620394</td>\n",
              "      <td>-0.105083</td>\n",
              "      <td>-0.211103</td>\n",
              "      <td>-0.168130</td>\n",
              "      <td>-0.106515</td>\n",
              "      <td>0.0</td>\n",
              "      <td>-0.093318</td>\n",
              "      <td>0.0</td>\n",
              "      <td>0.0</td>\n",
              "    </tr>\n",
              "    <tr>\n",
              "      <th>999999</th>\n",
              "      <td>3000000.0</td>\n",
              "      <td>BELL</td>\n",
              "      <td>SYBIL</td>\n",
              "      <td>1.0</td>\n",
              "      <td>0.191806</td>\n",
              "      <td>-0.215093</td>\n",
              "      <td>University / College</td>\n",
              "      <td>Suburban</td>\n",
              "      <td>4.0</td>\n",
              "      <td>-0.563214</td>\n",
              "      <td>...</td>\n",
              "      <td>0.770124</td>\n",
              "      <td>-0.620394</td>\n",
              "      <td>-0.105083</td>\n",
              "      <td>-0.211103</td>\n",
              "      <td>-0.168130</td>\n",
              "      <td>-0.106515</td>\n",
              "      <td>0.0</td>\n",
              "      <td>-0.093318</td>\n",
              "      <td>0.0</td>\n",
              "      <td>0.0</td>\n",
              "    </tr>\n",
              "  </tbody>\n",
              "</table>\n",
              "<p>10 rows × 21 columns</p>\n",
              "</div>\n",
              "      <button class=\"colab-df-convert\" onclick=\"convertToInteractive('df-656d8719-a8f8-4bda-b267-fb47832f3705')\"\n",
              "              title=\"Convert this dataframe to an interactive table.\"\n",
              "              style=\"display:none;\">\n",
              "        \n",
              "  <svg xmlns=\"http://www.w3.org/2000/svg\" height=\"24px\"viewBox=\"0 0 24 24\"\n",
              "       width=\"24px\">\n",
              "    <path d=\"M0 0h24v24H0V0z\" fill=\"none\"/>\n",
              "    <path d=\"M18.56 5.44l.94 2.06.94-2.06 2.06-.94-2.06-.94-.94-2.06-.94 2.06-2.06.94zm-11 1L8.5 8.5l.94-2.06 2.06-.94-2.06-.94L8.5 2.5l-.94 2.06-2.06.94zm10 10l.94 2.06.94-2.06 2.06-.94-2.06-.94-.94-2.06-.94 2.06-2.06.94z\"/><path d=\"M17.41 7.96l-1.37-1.37c-.4-.4-.92-.59-1.43-.59-.52 0-1.04.2-1.43.59L10.3 9.45l-7.72 7.72c-.78.78-.78 2.05 0 2.83L4 21.41c.39.39.9.59 1.41.59.51 0 1.02-.2 1.41-.59l7.78-7.78 2.81-2.81c.8-.78.8-2.07 0-2.86zM5.41 20L4 18.59l7.72-7.72 1.47 1.35L5.41 20z\"/>\n",
              "  </svg>\n",
              "      </button>\n",
              "      \n",
              "  <style>\n",
              "    .colab-df-container {\n",
              "      display:flex;\n",
              "      flex-wrap:wrap;\n",
              "      gap: 12px;\n",
              "    }\n",
              "\n",
              "    .colab-df-convert {\n",
              "      background-color: #E8F0FE;\n",
              "      border: none;\n",
              "      border-radius: 50%;\n",
              "      cursor: pointer;\n",
              "      display: none;\n",
              "      fill: #1967D2;\n",
              "      height: 32px;\n",
              "      padding: 0 0 0 0;\n",
              "      width: 32px;\n",
              "    }\n",
              "\n",
              "    .colab-df-convert:hover {\n",
              "      background-color: #E2EBFA;\n",
              "      box-shadow: 0px 1px 2px rgba(60, 64, 67, 0.3), 0px 1px 3px 1px rgba(60, 64, 67, 0.15);\n",
              "      fill: #174EA6;\n",
              "    }\n",
              "\n",
              "    [theme=dark] .colab-df-convert {\n",
              "      background-color: #3B4455;\n",
              "      fill: #D2E3FC;\n",
              "    }\n",
              "\n",
              "    [theme=dark] .colab-df-convert:hover {\n",
              "      background-color: #434B5C;\n",
              "      box-shadow: 0px 1px 3px 1px rgba(0, 0, 0, 0.15);\n",
              "      filter: drop-shadow(0px 1px 2px rgba(0, 0, 0, 0.3));\n",
              "      fill: #FFFFFF;\n",
              "    }\n",
              "  </style>\n",
              "\n",
              "      <script>\n",
              "        const buttonEl =\n",
              "          document.querySelector('#df-656d8719-a8f8-4bda-b267-fb47832f3705 button.colab-df-convert');\n",
              "        buttonEl.style.display =\n",
              "          google.colab.kernel.accessAllowed ? 'block' : 'none';\n",
              "\n",
              "        async function convertToInteractive(key) {\n",
              "          const element = document.querySelector('#df-656d8719-a8f8-4bda-b267-fb47832f3705');\n",
              "          const dataTable =\n",
              "            await google.colab.kernel.invokeFunction('convertToInteractive',\n",
              "                                                     [key], {});\n",
              "          if (!dataTable) return;\n",
              "\n",
              "          const docLinkHtml = 'Like what you see? Visit the ' +\n",
              "            '<a target=\"_blank\" href=https://colab.research.google.com/notebooks/data_table.ipynb>data table notebook</a>'\n",
              "            + ' to learn more about interactive tables.';\n",
              "          element.innerHTML = '';\n",
              "          dataTable['output_type'] = 'display_data';\n",
              "          await google.colab.output.renderOutput(dataTable, element);\n",
              "          const docLink = document.createElement('div');\n",
              "          docLink.innerHTML = docLinkHtml;\n",
              "          element.appendChild(docLink);\n",
              "        }\n",
              "      </script>\n",
              "    </div>\n",
              "  </div>\n",
              "  "
            ]
          },
          "metadata": {},
          "execution_count": 26
        }
      ]
    },
    {
      "cell_type": "code",
      "source": [
        "data_merge = one_hot_function(data_merge)\n",
        "data_merge.head(5)"
      ],
      "metadata": {
        "id": "jn3MEM0AlVmf",
        "colab": {
          "base_uri": "https://localhost:8080/",
          "height": 317
        },
        "outputId": "c8dcbe6d-8d3d-4898-97e9-650ebbf2dcda"
      },
      "id": "jn3MEM0AlVmf",
      "execution_count": null,
      "outputs": [
        {
          "output_type": "execute_result",
          "data": {
            "text/plain": [
              "          ID  LastName FirstName  Woman       Age    Salary  SeniorList  \\\n",
              "0  2000001.0    ROMMES    RODNEY    0.0 -1.127781  0.682516         2.0   \n",
              "1  2000002.0   RAMIREZ    SHARON    1.0 -0.441596 -0.814591         4.0   \n",
              "2  2000003.0    TSOSIE     KAREN    1.0 -0.494379 -0.133194         5.0   \n",
              "3  2000004.0       LEE      MARY    1.0  1.669744 -0.685191         3.0   \n",
              "4  2000005.0  HUMPHRES     ANGIE    1.0 -0.652730  0.104312         8.0   \n",
              "\n",
              "   NbActivities  Referrals   Recency  ...  AmtLastYear  GaveThisYear  \\\n",
              "0     -0.563214  -0.531824 -1.422751  ...    -0.093318           0.0   \n",
              "1      0.439994   0.416919  0.770124  ...    -0.093318           0.0   \n",
              "2     -0.563214  -0.531824  0.770124  ...    -0.093318           0.0   \n",
              "3     -0.563214  -0.531824  0.770124  ...    -0.093318           0.0   \n",
              "4     -0.563214  -0.531824  0.770124  ...    -0.093318           0.0   \n",
              "\n",
              "   AmtThisYear  Education_Elementary  Education_High School  \\\n",
              "0          0.0                     0                      0   \n",
              "1          0.0                     0                      1   \n",
              "2          0.0                     0                      0   \n",
              "3          0.0                     0                      1   \n",
              "4          0.0                     0                      0   \n",
              "\n",
              "   Education_University / College  City_City  City_Downtown  City_Rural  \\\n",
              "0                               1          1              0           0   \n",
              "1                               0          0              0           1   \n",
              "2                               1          0              0           1   \n",
              "3                               0          0              0           1   \n",
              "4                               1          0              0           1   \n",
              "\n",
              "   City_Suburban  \n",
              "0              0  \n",
              "1              0  \n",
              "2              0  \n",
              "3              0  \n",
              "4              0  \n",
              "\n",
              "[5 rows x 26 columns]"
            ],
            "text/html": [
              "\n",
              "  <div id=\"df-68bedd19-736f-4458-b100-d54af5db18a9\">\n",
              "    <div class=\"colab-df-container\">\n",
              "      <div>\n",
              "<style scoped>\n",
              "    .dataframe tbody tr th:only-of-type {\n",
              "        vertical-align: middle;\n",
              "    }\n",
              "\n",
              "    .dataframe tbody tr th {\n",
              "        vertical-align: top;\n",
              "    }\n",
              "\n",
              "    .dataframe thead th {\n",
              "        text-align: right;\n",
              "    }\n",
              "</style>\n",
              "<table border=\"1\" class=\"dataframe\">\n",
              "  <thead>\n",
              "    <tr style=\"text-align: right;\">\n",
              "      <th></th>\n",
              "      <th>ID</th>\n",
              "      <th>LastName</th>\n",
              "      <th>FirstName</th>\n",
              "      <th>Woman</th>\n",
              "      <th>Age</th>\n",
              "      <th>Salary</th>\n",
              "      <th>SeniorList</th>\n",
              "      <th>NbActivities</th>\n",
              "      <th>Referrals</th>\n",
              "      <th>Recency</th>\n",
              "      <th>...</th>\n",
              "      <th>AmtLastYear</th>\n",
              "      <th>GaveThisYear</th>\n",
              "      <th>AmtThisYear</th>\n",
              "      <th>Education_Elementary</th>\n",
              "      <th>Education_High School</th>\n",
              "      <th>Education_University / College</th>\n",
              "      <th>City_City</th>\n",
              "      <th>City_Downtown</th>\n",
              "      <th>City_Rural</th>\n",
              "      <th>City_Suburban</th>\n",
              "    </tr>\n",
              "  </thead>\n",
              "  <tbody>\n",
              "    <tr>\n",
              "      <th>0</th>\n",
              "      <td>2000001.0</td>\n",
              "      <td>ROMMES</td>\n",
              "      <td>RODNEY</td>\n",
              "      <td>0.0</td>\n",
              "      <td>-1.127781</td>\n",
              "      <td>0.682516</td>\n",
              "      <td>2.0</td>\n",
              "      <td>-0.563214</td>\n",
              "      <td>-0.531824</td>\n",
              "      <td>-1.422751</td>\n",
              "      <td>...</td>\n",
              "      <td>-0.093318</td>\n",
              "      <td>0.0</td>\n",
              "      <td>0.0</td>\n",
              "      <td>0</td>\n",
              "      <td>0</td>\n",
              "      <td>1</td>\n",
              "      <td>1</td>\n",
              "      <td>0</td>\n",
              "      <td>0</td>\n",
              "      <td>0</td>\n",
              "    </tr>\n",
              "    <tr>\n",
              "      <th>1</th>\n",
              "      <td>2000002.0</td>\n",
              "      <td>RAMIREZ</td>\n",
              "      <td>SHARON</td>\n",
              "      <td>1.0</td>\n",
              "      <td>-0.441596</td>\n",
              "      <td>-0.814591</td>\n",
              "      <td>4.0</td>\n",
              "      <td>0.439994</td>\n",
              "      <td>0.416919</td>\n",
              "      <td>0.770124</td>\n",
              "      <td>...</td>\n",
              "      <td>-0.093318</td>\n",
              "      <td>0.0</td>\n",
              "      <td>0.0</td>\n",
              "      <td>0</td>\n",
              "      <td>1</td>\n",
              "      <td>0</td>\n",
              "      <td>0</td>\n",
              "      <td>0</td>\n",
              "      <td>1</td>\n",
              "      <td>0</td>\n",
              "    </tr>\n",
              "    <tr>\n",
              "      <th>2</th>\n",
              "      <td>2000003.0</td>\n",
              "      <td>TSOSIE</td>\n",
              "      <td>KAREN</td>\n",
              "      <td>1.0</td>\n",
              "      <td>-0.494379</td>\n",
              "      <td>-0.133194</td>\n",
              "      <td>5.0</td>\n",
              "      <td>-0.563214</td>\n",
              "      <td>-0.531824</td>\n",
              "      <td>0.770124</td>\n",
              "      <td>...</td>\n",
              "      <td>-0.093318</td>\n",
              "      <td>0.0</td>\n",
              "      <td>0.0</td>\n",
              "      <td>0</td>\n",
              "      <td>0</td>\n",
              "      <td>1</td>\n",
              "      <td>0</td>\n",
              "      <td>0</td>\n",
              "      <td>1</td>\n",
              "      <td>0</td>\n",
              "    </tr>\n",
              "    <tr>\n",
              "      <th>3</th>\n",
              "      <td>2000004.0</td>\n",
              "      <td>LEE</td>\n",
              "      <td>MARY</td>\n",
              "      <td>1.0</td>\n",
              "      <td>1.669744</td>\n",
              "      <td>-0.685191</td>\n",
              "      <td>3.0</td>\n",
              "      <td>-0.563214</td>\n",
              "      <td>-0.531824</td>\n",
              "      <td>0.770124</td>\n",
              "      <td>...</td>\n",
              "      <td>-0.093318</td>\n",
              "      <td>0.0</td>\n",
              "      <td>0.0</td>\n",
              "      <td>0</td>\n",
              "      <td>1</td>\n",
              "      <td>0</td>\n",
              "      <td>0</td>\n",
              "      <td>0</td>\n",
              "      <td>1</td>\n",
              "      <td>0</td>\n",
              "    </tr>\n",
              "    <tr>\n",
              "      <th>4</th>\n",
              "      <td>2000005.0</td>\n",
              "      <td>HUMPHRES</td>\n",
              "      <td>ANGIE</td>\n",
              "      <td>1.0</td>\n",
              "      <td>-0.652730</td>\n",
              "      <td>0.104312</td>\n",
              "      <td>8.0</td>\n",
              "      <td>-0.563214</td>\n",
              "      <td>-0.531824</td>\n",
              "      <td>0.770124</td>\n",
              "      <td>...</td>\n",
              "      <td>-0.093318</td>\n",
              "      <td>0.0</td>\n",
              "      <td>0.0</td>\n",
              "      <td>0</td>\n",
              "      <td>0</td>\n",
              "      <td>1</td>\n",
              "      <td>0</td>\n",
              "      <td>0</td>\n",
              "      <td>1</td>\n",
              "      <td>0</td>\n",
              "    </tr>\n",
              "  </tbody>\n",
              "</table>\n",
              "<p>5 rows × 26 columns</p>\n",
              "</div>\n",
              "      <button class=\"colab-df-convert\" onclick=\"convertToInteractive('df-68bedd19-736f-4458-b100-d54af5db18a9')\"\n",
              "              title=\"Convert this dataframe to an interactive table.\"\n",
              "              style=\"display:none;\">\n",
              "        \n",
              "  <svg xmlns=\"http://www.w3.org/2000/svg\" height=\"24px\"viewBox=\"0 0 24 24\"\n",
              "       width=\"24px\">\n",
              "    <path d=\"M0 0h24v24H0V0z\" fill=\"none\"/>\n",
              "    <path d=\"M18.56 5.44l.94 2.06.94-2.06 2.06-.94-2.06-.94-.94-2.06-.94 2.06-2.06.94zm-11 1L8.5 8.5l.94-2.06 2.06-.94-2.06-.94L8.5 2.5l-.94 2.06-2.06.94zm10 10l.94 2.06.94-2.06 2.06-.94-2.06-.94-.94-2.06-.94 2.06-2.06.94z\"/><path d=\"M17.41 7.96l-1.37-1.37c-.4-.4-.92-.59-1.43-.59-.52 0-1.04.2-1.43.59L10.3 9.45l-7.72 7.72c-.78.78-.78 2.05 0 2.83L4 21.41c.39.39.9.59 1.41.59.51 0 1.02-.2 1.41-.59l7.78-7.78 2.81-2.81c.8-.78.8-2.07 0-2.86zM5.41 20L4 18.59l7.72-7.72 1.47 1.35L5.41 20z\"/>\n",
              "  </svg>\n",
              "      </button>\n",
              "      \n",
              "  <style>\n",
              "    .colab-df-container {\n",
              "      display:flex;\n",
              "      flex-wrap:wrap;\n",
              "      gap: 12px;\n",
              "    }\n",
              "\n",
              "    .colab-df-convert {\n",
              "      background-color: #E8F0FE;\n",
              "      border: none;\n",
              "      border-radius: 50%;\n",
              "      cursor: pointer;\n",
              "      display: none;\n",
              "      fill: #1967D2;\n",
              "      height: 32px;\n",
              "      padding: 0 0 0 0;\n",
              "      width: 32px;\n",
              "    }\n",
              "\n",
              "    .colab-df-convert:hover {\n",
              "      background-color: #E2EBFA;\n",
              "      box-shadow: 0px 1px 2px rgba(60, 64, 67, 0.3), 0px 1px 3px 1px rgba(60, 64, 67, 0.15);\n",
              "      fill: #174EA6;\n",
              "    }\n",
              "\n",
              "    [theme=dark] .colab-df-convert {\n",
              "      background-color: #3B4455;\n",
              "      fill: #D2E3FC;\n",
              "    }\n",
              "\n",
              "    [theme=dark] .colab-df-convert:hover {\n",
              "      background-color: #434B5C;\n",
              "      box-shadow: 0px 1px 3px 1px rgba(0, 0, 0, 0.15);\n",
              "      filter: drop-shadow(0px 1px 2px rgba(0, 0, 0, 0.3));\n",
              "      fill: #FFFFFF;\n",
              "    }\n",
              "  </style>\n",
              "\n",
              "      <script>\n",
              "        const buttonEl =\n",
              "          document.querySelector('#df-68bedd19-736f-4458-b100-d54af5db18a9 button.colab-df-convert');\n",
              "        buttonEl.style.display =\n",
              "          google.colab.kernel.accessAllowed ? 'block' : 'none';\n",
              "\n",
              "        async function convertToInteractive(key) {\n",
              "          const element = document.querySelector('#df-68bedd19-736f-4458-b100-d54af5db18a9');\n",
              "          const dataTable =\n",
              "            await google.colab.kernel.invokeFunction('convertToInteractive',\n",
              "                                                     [key], {});\n",
              "          if (!dataTable) return;\n",
              "\n",
              "          const docLinkHtml = 'Like what you see? Visit the ' +\n",
              "            '<a target=\"_blank\" href=https://colab.research.google.com/notebooks/data_table.ipynb>data table notebook</a>'\n",
              "            + ' to learn more about interactive tables.';\n",
              "          element.innerHTML = '';\n",
              "          dataTable['output_type'] = 'display_data';\n",
              "          await google.colab.output.renderOutput(dataTable, element);\n",
              "          const docLink = document.createElement('div');\n",
              "          docLink.innerHTML = docLinkHtml;\n",
              "          element.appendChild(docLink);\n",
              "        }\n",
              "      </script>\n",
              "    </div>\n",
              "  </div>\n",
              "  "
            ]
          },
          "metadata": {},
          "execution_count": 27
        }
      ]
    },
    {
      "cell_type": "code",
      "source": [
        "data_merge.info()"
      ],
      "metadata": {
        "colab": {
          "base_uri": "https://localhost:8080/"
        },
        "id": "oz3Ozv0dbxZG",
        "outputId": "83418695-589d-465a-a140-1216e9dfd6bb"
      },
      "id": "oz3Ozv0dbxZG",
      "execution_count": null,
      "outputs": [
        {
          "output_type": "stream",
          "name": "stdout",
          "text": [
            "<class 'pandas.core.frame.DataFrame'>\n",
            "Int64Index: 1000000 entries, 0 to 999999\n",
            "Data columns (total 26 columns):\n",
            " #   Column                          Non-Null Count    Dtype  \n",
            "---  ------                          --------------    -----  \n",
            " 0   ID                              1000000 non-null  float64\n",
            " 1   LastName                        999977 non-null   object \n",
            " 2   FirstName                       999996 non-null   object \n",
            " 3   Woman                           1000000 non-null  float64\n",
            " 4   Age                             1000000 non-null  float64\n",
            " 5   Salary                          1000000 non-null  float64\n",
            " 6   SeniorList                      1000000 non-null  float64\n",
            " 7   NbActivities                    1000000 non-null  float64\n",
            " 8   Referrals                       1000000 non-null  float64\n",
            " 9   Recency                         1000000 non-null  float64\n",
            " 10  Frequency                       1000000 non-null  float64\n",
            " 11  Seniority                       1000000 non-null  float64\n",
            " 12  TotalGift                       1000000 non-null  float64\n",
            " 13  MinGift                         1000000 non-null  float64\n",
            " 14  MaxGift                         1000000 non-null  float64\n",
            " 15  GaveLastYear                    1000000 non-null  float64\n",
            " 16  AmtLastYear                     1000000 non-null  float64\n",
            " 17  GaveThisYear                    1000000 non-null  float64\n",
            " 18  AmtThisYear                     1000000 non-null  float64\n",
            " 19  Education_Elementary            1000000 non-null  uint8  \n",
            " 20  Education_High School           1000000 non-null  uint8  \n",
            " 21  Education_University / College  1000000 non-null  uint8  \n",
            " 22  City_City                       1000000 non-null  uint8  \n",
            " 23  City_Downtown                   1000000 non-null  uint8  \n",
            " 24  City_Rural                      1000000 non-null  uint8  \n",
            " 25  City_Suburban                   1000000 non-null  uint8  \n",
            "dtypes: float64(17), object(2), uint8(7)\n",
            "memory usage: 191.5+ MB\n"
          ]
        }
      ]
    },
    {
      "cell_type": "markdown",
      "id": "9b861046-5968-4601-bd4b-b6510f1bf5b9",
      "metadata": {
        "id": "9b861046-5968-4601-bd4b-b6510f1bf5b9"
      },
      "source": [
        "## Data Partition"
      ]
    },
    {
      "cell_type": "code",
      "execution_count": null,
      "id": "f4bf6498-b18c-400d-9202-bb466d1272df",
      "metadata": {
        "collapsed": true,
        "id": "f4bf6498-b18c-400d-9202-bb466d1272df",
        "outputId": "a6b5b656-cd9c-4ed5-dd45-322e95d86419",
        "colab": {
          "base_uri": "https://localhost:8080/",
          "height": 223
        }
      },
      "outputs": [
        {
          "output_type": "execute_result",
          "data": {
            "text/plain": [
              "               ID  LastName  FirstName  Woman       Age    Salary  SeniorList  \\\n",
              "679768  2679769.0    JORDAN  MAGDALENA    1.0 -0.494379  0.273023         1.0   \n",
              "611459  2611460.0  CRAWFORD     JOEANN    1.0 -0.124895  1.462191         1.0   \n",
              "\n",
              "        NbActivities  Referrals   Recency  ...  AmtLastYear  GaveThisYear  \\\n",
              "679768     -0.563214  -0.531824  0.770124  ...    -0.093318           0.0   \n",
              "611459      0.439994   0.416919  0.770124  ...    -0.093318           0.0   \n",
              "\n",
              "        AmtThisYear  Education_Elementary  Education_High School  \\\n",
              "679768          0.0                     0                      0   \n",
              "611459          0.0                     0                      1   \n",
              "\n",
              "        Education_University / College  City_City  City_Downtown  City_Rural  \\\n",
              "679768                               1          1              0           0   \n",
              "611459                               0          1              0           0   \n",
              "\n",
              "        City_Suburban  \n",
              "679768              0  \n",
              "611459              0  \n",
              "\n",
              "[2 rows x 26 columns]"
            ],
            "text/html": [
              "\n",
              "  <div id=\"df-55d9171c-e6a7-40e6-ba60-be7505007fe0\">\n",
              "    <div class=\"colab-df-container\">\n",
              "      <div>\n",
              "<style scoped>\n",
              "    .dataframe tbody tr th:only-of-type {\n",
              "        vertical-align: middle;\n",
              "    }\n",
              "\n",
              "    .dataframe tbody tr th {\n",
              "        vertical-align: top;\n",
              "    }\n",
              "\n",
              "    .dataframe thead th {\n",
              "        text-align: right;\n",
              "    }\n",
              "</style>\n",
              "<table border=\"1\" class=\"dataframe\">\n",
              "  <thead>\n",
              "    <tr style=\"text-align: right;\">\n",
              "      <th></th>\n",
              "      <th>ID</th>\n",
              "      <th>LastName</th>\n",
              "      <th>FirstName</th>\n",
              "      <th>Woman</th>\n",
              "      <th>Age</th>\n",
              "      <th>Salary</th>\n",
              "      <th>SeniorList</th>\n",
              "      <th>NbActivities</th>\n",
              "      <th>Referrals</th>\n",
              "      <th>Recency</th>\n",
              "      <th>...</th>\n",
              "      <th>AmtLastYear</th>\n",
              "      <th>GaveThisYear</th>\n",
              "      <th>AmtThisYear</th>\n",
              "      <th>Education_Elementary</th>\n",
              "      <th>Education_High School</th>\n",
              "      <th>Education_University / College</th>\n",
              "      <th>City_City</th>\n",
              "      <th>City_Downtown</th>\n",
              "      <th>City_Rural</th>\n",
              "      <th>City_Suburban</th>\n",
              "    </tr>\n",
              "  </thead>\n",
              "  <tbody>\n",
              "    <tr>\n",
              "      <th>679768</th>\n",
              "      <td>2679769.0</td>\n",
              "      <td>JORDAN</td>\n",
              "      <td>MAGDALENA</td>\n",
              "      <td>1.0</td>\n",
              "      <td>-0.494379</td>\n",
              "      <td>0.273023</td>\n",
              "      <td>1.0</td>\n",
              "      <td>-0.563214</td>\n",
              "      <td>-0.531824</td>\n",
              "      <td>0.770124</td>\n",
              "      <td>...</td>\n",
              "      <td>-0.093318</td>\n",
              "      <td>0.0</td>\n",
              "      <td>0.0</td>\n",
              "      <td>0</td>\n",
              "      <td>0</td>\n",
              "      <td>1</td>\n",
              "      <td>1</td>\n",
              "      <td>0</td>\n",
              "      <td>0</td>\n",
              "      <td>0</td>\n",
              "    </tr>\n",
              "    <tr>\n",
              "      <th>611459</th>\n",
              "      <td>2611460.0</td>\n",
              "      <td>CRAWFORD</td>\n",
              "      <td>JOEANN</td>\n",
              "      <td>1.0</td>\n",
              "      <td>-0.124895</td>\n",
              "      <td>1.462191</td>\n",
              "      <td>1.0</td>\n",
              "      <td>0.439994</td>\n",
              "      <td>0.416919</td>\n",
              "      <td>0.770124</td>\n",
              "      <td>...</td>\n",
              "      <td>-0.093318</td>\n",
              "      <td>0.0</td>\n",
              "      <td>0.0</td>\n",
              "      <td>0</td>\n",
              "      <td>1</td>\n",
              "      <td>0</td>\n",
              "      <td>1</td>\n",
              "      <td>0</td>\n",
              "      <td>0</td>\n",
              "      <td>0</td>\n",
              "    </tr>\n",
              "  </tbody>\n",
              "</table>\n",
              "<p>2 rows × 26 columns</p>\n",
              "</div>\n",
              "      <button class=\"colab-df-convert\" onclick=\"convertToInteractive('df-55d9171c-e6a7-40e6-ba60-be7505007fe0')\"\n",
              "              title=\"Convert this dataframe to an interactive table.\"\n",
              "              style=\"display:none;\">\n",
              "        \n",
              "  <svg xmlns=\"http://www.w3.org/2000/svg\" height=\"24px\"viewBox=\"0 0 24 24\"\n",
              "       width=\"24px\">\n",
              "    <path d=\"M0 0h24v24H0V0z\" fill=\"none\"/>\n",
              "    <path d=\"M18.56 5.44l.94 2.06.94-2.06 2.06-.94-2.06-.94-.94-2.06-.94 2.06-2.06.94zm-11 1L8.5 8.5l.94-2.06 2.06-.94-2.06-.94L8.5 2.5l-.94 2.06-2.06.94zm10 10l.94 2.06.94-2.06 2.06-.94-2.06-.94-.94-2.06-.94 2.06-2.06.94z\"/><path d=\"M17.41 7.96l-1.37-1.37c-.4-.4-.92-.59-1.43-.59-.52 0-1.04.2-1.43.59L10.3 9.45l-7.72 7.72c-.78.78-.78 2.05 0 2.83L4 21.41c.39.39.9.59 1.41.59.51 0 1.02-.2 1.41-.59l7.78-7.78 2.81-2.81c.8-.78.8-2.07 0-2.86zM5.41 20L4 18.59l7.72-7.72 1.47 1.35L5.41 20z\"/>\n",
              "  </svg>\n",
              "      </button>\n",
              "      \n",
              "  <style>\n",
              "    .colab-df-container {\n",
              "      display:flex;\n",
              "      flex-wrap:wrap;\n",
              "      gap: 12px;\n",
              "    }\n",
              "\n",
              "    .colab-df-convert {\n",
              "      background-color: #E8F0FE;\n",
              "      border: none;\n",
              "      border-radius: 50%;\n",
              "      cursor: pointer;\n",
              "      display: none;\n",
              "      fill: #1967D2;\n",
              "      height: 32px;\n",
              "      padding: 0 0 0 0;\n",
              "      width: 32px;\n",
              "    }\n",
              "\n",
              "    .colab-df-convert:hover {\n",
              "      background-color: #E2EBFA;\n",
              "      box-shadow: 0px 1px 2px rgba(60, 64, 67, 0.3), 0px 1px 3px 1px rgba(60, 64, 67, 0.15);\n",
              "      fill: #174EA6;\n",
              "    }\n",
              "\n",
              "    [theme=dark] .colab-df-convert {\n",
              "      background-color: #3B4455;\n",
              "      fill: #D2E3FC;\n",
              "    }\n",
              "\n",
              "    [theme=dark] .colab-df-convert:hover {\n",
              "      background-color: #434B5C;\n",
              "      box-shadow: 0px 1px 3px 1px rgba(0, 0, 0, 0.15);\n",
              "      filter: drop-shadow(0px 1px 2px rgba(0, 0, 0, 0.3));\n",
              "      fill: #FFFFFF;\n",
              "    }\n",
              "  </style>\n",
              "\n",
              "      <script>\n",
              "        const buttonEl =\n",
              "          document.querySelector('#df-55d9171c-e6a7-40e6-ba60-be7505007fe0 button.colab-df-convert');\n",
              "        buttonEl.style.display =\n",
              "          google.colab.kernel.accessAllowed ? 'block' : 'none';\n",
              "\n",
              "        async function convertToInteractive(key) {\n",
              "          const element = document.querySelector('#df-55d9171c-e6a7-40e6-ba60-be7505007fe0');\n",
              "          const dataTable =\n",
              "            await google.colab.kernel.invokeFunction('convertToInteractive',\n",
              "                                                     [key], {});\n",
              "          if (!dataTable) return;\n",
              "\n",
              "          const docLinkHtml = 'Like what you see? Visit the ' +\n",
              "            '<a target=\"_blank\" href=https://colab.research.google.com/notebooks/data_table.ipynb>data table notebook</a>'\n",
              "            + ' to learn more about interactive tables.';\n",
              "          element.innerHTML = '';\n",
              "          dataTable['output_type'] = 'display_data';\n",
              "          await google.colab.output.renderOutput(dataTable, element);\n",
              "          const docLink = document.createElement('div');\n",
              "          docLink.innerHTML = docLinkHtml;\n",
              "          element.appendChild(docLink);\n",
              "        }\n",
              "      </script>\n",
              "    </div>\n",
              "  </div>\n",
              "  "
            ]
          },
          "metadata": {},
          "execution_count": 28
        }
      ],
      "source": [
        "# The code below is an illustration on how to sample data on train and validation samples.\n",
        "# You could use another library or a built-in function to perform sampling.\n",
        "\n",
        "from sklearn.model_selection import train_test_split\n",
        "train, validation = train_test_split(data_merge, test_size=0.2, random_state=12345) \n",
        "\n",
        "train.sample(2)"
      ]
    },
    {
      "cell_type": "markdown",
      "id": "3396591b",
      "metadata": {
        "id": "3396591b"
      },
      "source": [
        "## Prebuilt Models\n",
        "***\n",
        "\n",
        "### **Linear Regression Model**\n",
        "\n",
        "\n",
        "> The [sk-learn library](https://scikit-learn.org/stable/index.html ) offers more advanced models.\n"
      ]
    },
    {
      "cell_type": "code",
      "execution_count": null,
      "id": "0833fb2d-554c-4e3b-933c-9a35828fd912",
      "metadata": {
        "collapsed": true,
        "id": "0833fb2d-554c-4e3b-933c-9a35828fd912"
      },
      "outputs": [],
      "source": [
        "from sklearn import linear_model\n",
        "dummies_name = ['Education_Elementary', 'Education_High School', 'Education_University / College', 'City_City', 'City_Downtown', 'City_Rural', 'City_Suburban']\n",
        "train_columns = ['Age', 'Salary','MinGift','TotalGift', 'GaveLastYear', 'AmtLastYear','Woman', 'Frequency', 'NbActivities'] + dummies_name \n",
        "#comment: it's numpy array\n",
        "X_train = train[train_columns] \n",
        "Y_train = train['AmtThisYear']\n",
        "X_valid = validation[train_columns] \n",
        "Y_valid = validation['AmtThisYear']\n",
        "\n",
        "regr = linear_model.LinearRegression()\n",
        "regr.fit(X_train,Y_train)\n",
        "regr_predict=regr.predict(X_valid)"
      ]
    },
    {
      "cell_type": "code",
      "source": [
        "#you can change the criteria\n",
        "\n",
        "import numpy as np\n",
        "from sklearn import metrics\n",
        "#MAE\n",
        "print(metrics.mean_absolute_error(Y_valid,regr_predict))\n",
        "#MSE\n",
        "print(metrics.mean_squared_error(Y_valid,regr_predict))\n",
        "#RMSE\n",
        "print(np.sqrt(metrics.mean_squared_error(Y_valid,regr_predict)))"
      ],
      "metadata": {
        "colab": {
          "base_uri": "https://localhost:8080/"
        },
        "id": "URzkdIUDpboa",
        "outputId": "8f5a6487-e778-4595-8df7-b9c23ccd0b32"
      },
      "id": "URzkdIUDpboa",
      "execution_count": null,
      "outputs": [
        {
          "output_type": "stream",
          "name": "stdout",
          "text": [
            "13.172941932296917\n",
            "7725.083843528719\n",
            "87.89245612411067\n"
          ]
        }
      ]
    },
    {
      "cell_type": "markdown",
      "id": "12c58819",
      "metadata": {
        "id": "12c58819"
      },
      "source": [
        "## **Regression Tree Model**"
      ]
    },
    {
      "cell_type": "code",
      "execution_count": null,
      "id": "7fa631af",
      "metadata": {
        "id": "7fa631af"
      },
      "outputs": [],
      "source": [
        "from sklearn.tree import DecisionTreeRegressor\n",
        "\n",
        "X_train = train[train_columns] \n",
        "Y_train = train['AmtThisYear']\n",
        "X_valid = validation[train_columns] \n",
        "Y_valid = validation['AmtThisYear']\n",
        "\n",
        "DT_model = DecisionTreeRegressor(max_depth=5).fit(X_train,Y_train)\n",
        "\n",
        "DT_predict = DT_model.predict(X_valid) #Predictions on Testing data\n"
      ]
    },
    {
      "cell_type": "code",
      "source": [
        "#you can change the criteria\n",
        "#MAE\n",
        "print(metrics.mean_absolute_error(Y_valid,DT_predict))\n",
        "#MSE\n",
        "print(metrics.mean_squared_error(Y_valid,DT_predict))\n",
        "#RMSE\n",
        "print(np.sqrt(metrics.mean_squared_error(Y_valid,DT_predict)))"
      ],
      "metadata": {
        "colab": {
          "base_uri": "https://localhost:8080/"
        },
        "id": "NS80Kz63pj_C",
        "outputId": "d951d748-55e3-4e30-f3e3-26122bb06ad4"
      },
      "id": "NS80Kz63pj_C",
      "execution_count": null,
      "outputs": [
        {
          "output_type": "stream",
          "name": "stdout",
          "text": [
            "13.246204986446951\n",
            "7727.935302238072\n",
            "87.90867592131093\n"
          ]
        }
      ]
    },
    {
      "cell_type": "markdown",
      "id": "b8d6ab43",
      "metadata": {
        "id": "b8d6ab43"
      },
      "source": [
        "### **Other models may also be helpful for this game**\n",
        "\n",
        "Reference: https://scikit-learn.org/stable/supervised_learning.html\n",
        "\n",
        "***\n"
      ]
    },
    {
      "cell_type": "code",
      "source": [
        "import xgboost as xgb"
      ],
      "metadata": {
        "id": "7TY8ip5v_epw"
      },
      "id": "7TY8ip5v_epw",
      "execution_count": null,
      "outputs": []
    },
    {
      "cell_type": "code",
      "source": [
        "xgb_model = xgb.XGBRegressor(objective=\"reg:linear\", random_state=42)\n",
        "\n",
        "xgb_model.fit(X_train,Y_train)\n",
        "\n",
        "xgb_predict = xgb_model.predict(X_valid)"
      ],
      "metadata": {
        "colab": {
          "base_uri": "https://localhost:8080/"
        },
        "id": "jmIjaHMS_g-K",
        "outputId": "5a8922f7-7910-4705-fe59-5d45cfd71f42"
      },
      "id": "jmIjaHMS_g-K",
      "execution_count": null,
      "outputs": [
        {
          "output_type": "stream",
          "name": "stdout",
          "text": [
            "[06:19:32] WARNING: /workspace/src/objective/regression_obj.cu:152: reg:linear is now deprecated in favor of reg:squarederror.\n"
          ]
        }
      ]
    },
    {
      "cell_type": "code",
      "source": [
        "#MAE\n",
        "print(metrics.mean_absolute_error(Y_valid,xgb_predict))\n",
        "#MSE\n",
        "print(metrics.mean_squared_error(Y_valid,xgb_predict))\n",
        "#RMSE\n",
        "print(np.sqrt(metrics.mean_squared_error(Y_valid,xgb_predict)))"
      ],
      "metadata": {
        "colab": {
          "base_uri": "https://localhost:8080/"
        },
        "id": "J4vtHRD2_5iX",
        "outputId": "fc03c9a1-1dd4-4604-aea3-9664e2a3f6f7"
      },
      "id": "J4vtHRD2_5iX",
      "execution_count": null,
      "outputs": [
        {
          "output_type": "stream",
          "name": "stdout",
          "text": [
            "13.221210259863586\n",
            "7729.601705445292\n",
            "87.91815344651691\n"
          ]
        }
      ]
    },
    {
      "cell_type": "code",
      "source": [
        "from sklearn.ensemble import AdaBoostRegressor"
      ],
      "metadata": {
        "id": "AHDUCmQYH7v-"
      },
      "id": "AHDUCmQYH7v-",
      "execution_count": null,
      "outputs": []
    },
    {
      "cell_type": "code",
      "source": [
        "ada_reg = AdaBoostRegressor(base_estimator=None, learning_rate=1.0, loss='linear',\n",
        "         n_estimators=100, random_state=42) \n",
        "\n",
        "ada_reg.fit(X_train,Y_train)\n",
        "\n",
        "ada_reg_predict = ada_reg.predict(X_valid)"
      ],
      "metadata": {
        "id": "roS-OE_nH_aF"
      },
      "id": "roS-OE_nH_aF",
      "execution_count": null,
      "outputs": []
    },
    {
      "cell_type": "code",
      "source": [
        "#MAE\n",
        "print(metrics.mean_absolute_error(Y_valid,ada_reg_predict))\n",
        "#MSE\n",
        "print(metrics.mean_squared_error(Y_valid,ada_reg_predict))\n",
        "#RMSE\n",
        "print(np.sqrt(metrics.mean_squared_error(Y_valid,ada_reg_predict)))"
      ],
      "metadata": {
        "id": "0bVQqTybJjLj",
        "colab": {
          "base_uri": "https://localhost:8080/"
        },
        "outputId": "89ab18a0-1d34-45a2-964e-de88748a2819"
      },
      "id": "0bVQqTybJjLj",
      "execution_count": null,
      "outputs": [
        {
          "output_type": "stream",
          "name": "stdout",
          "text": [
            "75.38583425889972\n",
            "22705.480341856437\n",
            "150.68337778884717\n"
          ]
        }
      ]
    },
    {
      "cell_type": "code",
      "source": [
        "from sklearn.ensemble import RandomForestRegressor"
      ],
      "metadata": {
        "id": "OH80MgFhJtvE"
      },
      "id": "OH80MgFhJtvE",
      "execution_count": null,
      "outputs": []
    },
    {
      "cell_type": "code",
      "source": [
        "rfr = RandomForestRegressor(max_depth = 10) \n",
        "\n",
        "rfr.fit(X_train,Y_train)\n",
        "\n",
        "rfr_predict = rfr.predict(X_valid)"
      ],
      "metadata": {
        "id": "3kuArl8RJv-W"
      },
      "id": "3kuArl8RJv-W",
      "execution_count": null,
      "outputs": []
    },
    {
      "cell_type": "code",
      "source": [
        "#MAE\n",
        "print(metrics.mean_absolute_error(Y_valid,rfr_predict))\n",
        "#MSE\n",
        "print(metrics.mean_squared_error(Y_valid,rfr_predict))\n",
        "#RMSE\n",
        "print(np.sqrt(metrics.mean_squared_error(Y_valid,rfr_predict)))"
      ],
      "metadata": {
        "colab": {
          "base_uri": "https://localhost:8080/"
        },
        "id": "etKV5CHejJtJ",
        "outputId": "16923f4d-9f14-4e01-8699-7c38c9473270"
      },
      "id": "etKV5CHejJtJ",
      "execution_count": null,
      "outputs": [
        {
          "output_type": "stream",
          "name": "stdout",
          "text": [
            "13.324196515772266\n",
            "7921.96843857422\n",
            "89.00544049986057\n"
          ]
        }
      ]
    },
    {
      "cell_type": "markdown",
      "id": "20aed00e",
      "metadata": {
        "id": "20aed00e"
      },
      "source": [
        "## Scoring New Data\n",
        "\n",
        "### Prepare data for scoring"
      ]
    },
    {
      "cell_type": "code",
      "execution_count": null,
      "id": "0d04c91b",
      "metadata": {
        "id": "0d04c91b"
      },
      "outputs": [],
      "source": [
        "data3 = sas_session.sasdata2dataframe(\n",
        "table='score_rd1',\n",
        "libref='cortex'\n",
        ")\n",
        "data4 = sas_session.sasdata2dataframe(\n",
        "table='score',\n",
        "libref='cortex'\n",
        ")"
      ]
    },
    {
      "cell_type": "markdown",
      "id": "e961f185-38c6-4d2a-b1f5-1b142c9b6d30",
      "metadata": {
        "id": "e961f185-38c6-4d2a-b1f5-1b142c9b6d30"
      },
      "source": [
        " ### Score new data based on your champion model\n",
        " \n",
        "> Pick your champion model from previous steps and use it to predict next year donations. \n",
        " \n",
        "> In this case, the linear regression model performed better than the regression tree based on the MSE criterion."
      ]
    },
    {
      "cell_type": "code",
      "execution_count": null,
      "id": "f6cf3e45",
      "metadata": {
        "id": "f6cf3e45",
        "colab": {
          "base_uri": "https://localhost:8080/",
          "height": 787
        },
        "outputId": "ca895d92-d412-450e-d76d-39506a348bc4"
      },
      "outputs": [
        {
          "output_type": "execute_result",
          "data": {
            "text/plain": [
              "               ID  GaveLastYear  AmtLastYear     LastName  FirstName  Woman  \\\n",
              "175256  2175257.0           0.0    -0.093142        HIMES     DANIEL    0.0   \n",
              "115125  2115126.0           0.0    -0.093142        SHAMO    WILLIAM    0.0   \n",
              "350425  2350426.0           1.0     0.267823       PETERS       JOHN    0.0   \n",
              "711882  2711883.0           0.0    -0.093142      WAITERS  CASSANDRA    1.0   \n",
              "54520   2054521.0           0.0    -0.093142   THURKETTLE   VIRGINIA    1.0   \n",
              "734737  2734738.0           0.0    -0.093142        DEBOR     DENISE    1.0   \n",
              "998946  2998947.0           0.0    -0.093142     SCHNABLE     EDWARD    0.0   \n",
              "713014  2713015.0           0.0    -0.093142       HODGES    SHIRLEY    1.0   \n",
              "813171  2813172.0           0.0    -0.093142       COLOME      FRANK    0.0   \n",
              "26045   2026046.0           0.0    -0.093142     STREETER      COREY    0.0   \n",
              "737958  2737959.0           0.0    -0.093142  SANCHEZSOTO      DAVID    0.0   \n",
              "72105   2072106.0           0.0    -0.093142       GUERRA        FAY    1.0   \n",
              "856185  2856186.0           1.0     0.147501      CHAPMAN       MARY    1.0   \n",
              "16670   2016671.0           0.0    -0.093142      STEVENS      LOUIS    0.0   \n",
              "418756  2418757.0           0.0    -0.093142       LESTER     TANNER    0.0   \n",
              "582374  2582375.0           0.0    -0.093142        MAIGA    KENNETH    0.0   \n",
              "508608  2508609.0           0.0    -0.093142    HUMPHRIES       EARL    0.0   \n",
              "175518  2175519.0           0.0    -0.093142    ABDULAZIZ  ELIZABETH    1.0   \n",
              "738829  2738830.0           0.0    -0.093142       BRITON      LOURA    1.0   \n",
              "435004  2435005.0           0.0    -0.093142       HOLLIS       GREG    0.0   \n",
              "\n",
              "             Age    Salary  SeniorList  NbActivities  ...  TotalGift  \\\n",
              "175256 -0.652730 -0.885024         6.0     -0.563214  ...  -0.227472   \n",
              "115125 -0.969431  0.515443         8.0      1.443202  ...  -0.227472   \n",
              "350425 -0.652730 -0.143022         1.0     -0.563214  ...  -0.092462   \n",
              "711882 -0.547163 -1.065201         0.0     -0.563214  ...  -0.227472   \n",
              "54520   0.086239 -0.459151         8.0     -0.563214  ...  -0.227472   \n",
              "734737  2.197579 -0.745796         2.0     -0.563214  ...  -0.227472   \n",
              "998946 -0.811080  1.319687         5.0      0.439994  ...  -0.227472   \n",
              "713014  2.039229  0.489235         7.0     -0.563214  ...  -0.227472   \n",
              "813171  0.719641 -0.852264         5.0     -0.563214  ...  -0.227472   \n",
              "26045   1.564177 -0.868644         1.0     -0.563214  ...  -0.227472   \n",
              "737958  0.983559 -0.095521         7.0      0.439994  ...  -0.047458   \n",
              "72105   1.247476 -0.662259         0.0     -0.563214  ...  -0.227472   \n",
              "856185  2.197579 -0.965284         1.0     -0.563214  ...  -0.047458   \n",
              "16670   1.616961 -0.876834         0.0     -0.563214  ...  -0.227472   \n",
              "418756  0.139023  1.958496         6.0     -0.563214  ...   1.662667   \n",
              "582374  1.669744 -0.768728         2.0     -0.563214  ...  -0.227472   \n",
              "508608 -1.338915 -0.072589         7.0     -0.563214  ...  -0.159967   \n",
              "175518  0.666858 -0.278974         5.0     -0.563214  ...  -0.227472   \n",
              "738829  1.564177  0.579324        10.0      0.439994  ...   0.357571   \n",
              "435004  1.986445 -0.773641         1.0     -0.563214  ...  -0.227472   \n",
              "\n",
              "         MinGift   MaxGift  Education_Elementary  Education_High School  \\\n",
              "175256 -0.180125 -0.104401                     0                      0   \n",
              "115125 -0.180125 -0.104401                     0                      0   \n",
              "350425  0.112627  0.128149                     0                      0   \n",
              "711882 -0.180125 -0.104401                     0                      1   \n",
              "54520  -0.180125 -0.104401                     0                      1   \n",
              "734737 -0.180125 -0.104401                     0                      1   \n",
              "998946 -0.180125 -0.104401                     0                      0   \n",
              "713014 -0.180125 -0.104401                     0                      0   \n",
              "813171 -0.180125 -0.104401                     0                      0   \n",
              "26045  -0.180125 -0.104401                     0                      0   \n",
              "737958  0.210211 -0.104401                     0                      0   \n",
              "72105  -0.180125 -0.104401                     1                      0   \n",
              "856185  0.015043  0.050632                     0                      0   \n",
              "16670  -0.180125 -0.104401                     0                      1   \n",
              "418756  0.015043 -0.104401                     0                      0   \n",
              "582374 -0.180125 -0.104401                     0                      1   \n",
              "508608 -0.033749 -0.104401                     0                      0   \n",
              "175518 -0.180125 -0.104401                     0                      0   \n",
              "738829 -0.082541 -0.104401                     0                      0   \n",
              "435004 -0.180125 -0.104401                     0                      0   \n",
              "\n",
              "        Education_University / College  City_City  City_Downtown  City_Rural  \\\n",
              "175256                               1          1              0           0   \n",
              "115125                               1          1              0           0   \n",
              "350425                               1          1              0           0   \n",
              "711882                               0          1              0           0   \n",
              "54520                                0          1              0           0   \n",
              "734737                               0          0              1           0   \n",
              "998946                               1          1              0           0   \n",
              "713014                               1          0              0           1   \n",
              "813171                               1          0              1           0   \n",
              "26045                                1          0              0           0   \n",
              "737958                               1          0              1           0   \n",
              "72105                                0          0              0           1   \n",
              "856185                               1          0              1           0   \n",
              "16670                                0          0              1           0   \n",
              "418756                               1          1              0           0   \n",
              "582374                               0          0              1           0   \n",
              "508608                               1          0              0           0   \n",
              "175518                               1          1              0           0   \n",
              "738829                               1          0              0           0   \n",
              "435004                               1          0              0           1   \n",
              "\n",
              "        City_Suburban  \n",
              "175256              0  \n",
              "115125              0  \n",
              "350425              0  \n",
              "711882              0  \n",
              "54520               0  \n",
              "734737              0  \n",
              "998946              0  \n",
              "713014              0  \n",
              "813171              0  \n",
              "26045               1  \n",
              "737958              0  \n",
              "72105               0  \n",
              "856185              0  \n",
              "16670               0  \n",
              "418756              0  \n",
              "582374              0  \n",
              "508608              1  \n",
              "175518              0  \n",
              "738829              1  \n",
              "435004              0  \n",
              "\n",
              "[20 rows x 24 columns]"
            ],
            "text/html": [
              "\n",
              "  <div id=\"df-ba63551e-ef92-4b68-9d6c-314f98e82dce\">\n",
              "    <div class=\"colab-df-container\">\n",
              "      <div>\n",
              "<style scoped>\n",
              "    .dataframe tbody tr th:only-of-type {\n",
              "        vertical-align: middle;\n",
              "    }\n",
              "\n",
              "    .dataframe tbody tr th {\n",
              "        vertical-align: top;\n",
              "    }\n",
              "\n",
              "    .dataframe thead th {\n",
              "        text-align: right;\n",
              "    }\n",
              "</style>\n",
              "<table border=\"1\" class=\"dataframe\">\n",
              "  <thead>\n",
              "    <tr style=\"text-align: right;\">\n",
              "      <th></th>\n",
              "      <th>ID</th>\n",
              "      <th>GaveLastYear</th>\n",
              "      <th>AmtLastYear</th>\n",
              "      <th>LastName</th>\n",
              "      <th>FirstName</th>\n",
              "      <th>Woman</th>\n",
              "      <th>Age</th>\n",
              "      <th>Salary</th>\n",
              "      <th>SeniorList</th>\n",
              "      <th>NbActivities</th>\n",
              "      <th>...</th>\n",
              "      <th>TotalGift</th>\n",
              "      <th>MinGift</th>\n",
              "      <th>MaxGift</th>\n",
              "      <th>Education_Elementary</th>\n",
              "      <th>Education_High School</th>\n",
              "      <th>Education_University / College</th>\n",
              "      <th>City_City</th>\n",
              "      <th>City_Downtown</th>\n",
              "      <th>City_Rural</th>\n",
              "      <th>City_Suburban</th>\n",
              "    </tr>\n",
              "  </thead>\n",
              "  <tbody>\n",
              "    <tr>\n",
              "      <th>175256</th>\n",
              "      <td>2175257.0</td>\n",
              "      <td>0.0</td>\n",
              "      <td>-0.093142</td>\n",
              "      <td>HIMES</td>\n",
              "      <td>DANIEL</td>\n",
              "      <td>0.0</td>\n",
              "      <td>-0.652730</td>\n",
              "      <td>-0.885024</td>\n",
              "      <td>6.0</td>\n",
              "      <td>-0.563214</td>\n",
              "      <td>...</td>\n",
              "      <td>-0.227472</td>\n",
              "      <td>-0.180125</td>\n",
              "      <td>-0.104401</td>\n",
              "      <td>0</td>\n",
              "      <td>0</td>\n",
              "      <td>1</td>\n",
              "      <td>1</td>\n",
              "      <td>0</td>\n",
              "      <td>0</td>\n",
              "      <td>0</td>\n",
              "    </tr>\n",
              "    <tr>\n",
              "      <th>115125</th>\n",
              "      <td>2115126.0</td>\n",
              "      <td>0.0</td>\n",
              "      <td>-0.093142</td>\n",
              "      <td>SHAMO</td>\n",
              "      <td>WILLIAM</td>\n",
              "      <td>0.0</td>\n",
              "      <td>-0.969431</td>\n",
              "      <td>0.515443</td>\n",
              "      <td>8.0</td>\n",
              "      <td>1.443202</td>\n",
              "      <td>...</td>\n",
              "      <td>-0.227472</td>\n",
              "      <td>-0.180125</td>\n",
              "      <td>-0.104401</td>\n",
              "      <td>0</td>\n",
              "      <td>0</td>\n",
              "      <td>1</td>\n",
              "      <td>1</td>\n",
              "      <td>0</td>\n",
              "      <td>0</td>\n",
              "      <td>0</td>\n",
              "    </tr>\n",
              "    <tr>\n",
              "      <th>350425</th>\n",
              "      <td>2350426.0</td>\n",
              "      <td>1.0</td>\n",
              "      <td>0.267823</td>\n",
              "      <td>PETERS</td>\n",
              "      <td>JOHN</td>\n",
              "      <td>0.0</td>\n",
              "      <td>-0.652730</td>\n",
              "      <td>-0.143022</td>\n",
              "      <td>1.0</td>\n",
              "      <td>-0.563214</td>\n",
              "      <td>...</td>\n",
              "      <td>-0.092462</td>\n",
              "      <td>0.112627</td>\n",
              "      <td>0.128149</td>\n",
              "      <td>0</td>\n",
              "      <td>0</td>\n",
              "      <td>1</td>\n",
              "      <td>1</td>\n",
              "      <td>0</td>\n",
              "      <td>0</td>\n",
              "      <td>0</td>\n",
              "    </tr>\n",
              "    <tr>\n",
              "      <th>711882</th>\n",
              "      <td>2711883.0</td>\n",
              "      <td>0.0</td>\n",
              "      <td>-0.093142</td>\n",
              "      <td>WAITERS</td>\n",
              "      <td>CASSANDRA</td>\n",
              "      <td>1.0</td>\n",
              "      <td>-0.547163</td>\n",
              "      <td>-1.065201</td>\n",
              "      <td>0.0</td>\n",
              "      <td>-0.563214</td>\n",
              "      <td>...</td>\n",
              "      <td>-0.227472</td>\n",
              "      <td>-0.180125</td>\n",
              "      <td>-0.104401</td>\n",
              "      <td>0</td>\n",
              "      <td>1</td>\n",
              "      <td>0</td>\n",
              "      <td>1</td>\n",
              "      <td>0</td>\n",
              "      <td>0</td>\n",
              "      <td>0</td>\n",
              "    </tr>\n",
              "    <tr>\n",
              "      <th>54520</th>\n",
              "      <td>2054521.0</td>\n",
              "      <td>0.0</td>\n",
              "      <td>-0.093142</td>\n",
              "      <td>THURKETTLE</td>\n",
              "      <td>VIRGINIA</td>\n",
              "      <td>1.0</td>\n",
              "      <td>0.086239</td>\n",
              "      <td>-0.459151</td>\n",
              "      <td>8.0</td>\n",
              "      <td>-0.563214</td>\n",
              "      <td>...</td>\n",
              "      <td>-0.227472</td>\n",
              "      <td>-0.180125</td>\n",
              "      <td>-0.104401</td>\n",
              "      <td>0</td>\n",
              "      <td>1</td>\n",
              "      <td>0</td>\n",
              "      <td>1</td>\n",
              "      <td>0</td>\n",
              "      <td>0</td>\n",
              "      <td>0</td>\n",
              "    </tr>\n",
              "    <tr>\n",
              "      <th>734737</th>\n",
              "      <td>2734738.0</td>\n",
              "      <td>0.0</td>\n",
              "      <td>-0.093142</td>\n",
              "      <td>DEBOR</td>\n",
              "      <td>DENISE</td>\n",
              "      <td>1.0</td>\n",
              "      <td>2.197579</td>\n",
              "      <td>-0.745796</td>\n",
              "      <td>2.0</td>\n",
              "      <td>-0.563214</td>\n",
              "      <td>...</td>\n",
              "      <td>-0.227472</td>\n",
              "      <td>-0.180125</td>\n",
              "      <td>-0.104401</td>\n",
              "      <td>0</td>\n",
              "      <td>1</td>\n",
              "      <td>0</td>\n",
              "      <td>0</td>\n",
              "      <td>1</td>\n",
              "      <td>0</td>\n",
              "      <td>0</td>\n",
              "    </tr>\n",
              "    <tr>\n",
              "      <th>998946</th>\n",
              "      <td>2998947.0</td>\n",
              "      <td>0.0</td>\n",
              "      <td>-0.093142</td>\n",
              "      <td>SCHNABLE</td>\n",
              "      <td>EDWARD</td>\n",
              "      <td>0.0</td>\n",
              "      <td>-0.811080</td>\n",
              "      <td>1.319687</td>\n",
              "      <td>5.0</td>\n",
              "      <td>0.439994</td>\n",
              "      <td>...</td>\n",
              "      <td>-0.227472</td>\n",
              "      <td>-0.180125</td>\n",
              "      <td>-0.104401</td>\n",
              "      <td>0</td>\n",
              "      <td>0</td>\n",
              "      <td>1</td>\n",
              "      <td>1</td>\n",
              "      <td>0</td>\n",
              "      <td>0</td>\n",
              "      <td>0</td>\n",
              "    </tr>\n",
              "    <tr>\n",
              "      <th>713014</th>\n",
              "      <td>2713015.0</td>\n",
              "      <td>0.0</td>\n",
              "      <td>-0.093142</td>\n",
              "      <td>HODGES</td>\n",
              "      <td>SHIRLEY</td>\n",
              "      <td>1.0</td>\n",
              "      <td>2.039229</td>\n",
              "      <td>0.489235</td>\n",
              "      <td>7.0</td>\n",
              "      <td>-0.563214</td>\n",
              "      <td>...</td>\n",
              "      <td>-0.227472</td>\n",
              "      <td>-0.180125</td>\n",
              "      <td>-0.104401</td>\n",
              "      <td>0</td>\n",
              "      <td>0</td>\n",
              "      <td>1</td>\n",
              "      <td>0</td>\n",
              "      <td>0</td>\n",
              "      <td>1</td>\n",
              "      <td>0</td>\n",
              "    </tr>\n",
              "    <tr>\n",
              "      <th>813171</th>\n",
              "      <td>2813172.0</td>\n",
              "      <td>0.0</td>\n",
              "      <td>-0.093142</td>\n",
              "      <td>COLOME</td>\n",
              "      <td>FRANK</td>\n",
              "      <td>0.0</td>\n",
              "      <td>0.719641</td>\n",
              "      <td>-0.852264</td>\n",
              "      <td>5.0</td>\n",
              "      <td>-0.563214</td>\n",
              "      <td>...</td>\n",
              "      <td>-0.227472</td>\n",
              "      <td>-0.180125</td>\n",
              "      <td>-0.104401</td>\n",
              "      <td>0</td>\n",
              "      <td>0</td>\n",
              "      <td>1</td>\n",
              "      <td>0</td>\n",
              "      <td>1</td>\n",
              "      <td>0</td>\n",
              "      <td>0</td>\n",
              "    </tr>\n",
              "    <tr>\n",
              "      <th>26045</th>\n",
              "      <td>2026046.0</td>\n",
              "      <td>0.0</td>\n",
              "      <td>-0.093142</td>\n",
              "      <td>STREETER</td>\n",
              "      <td>COREY</td>\n",
              "      <td>0.0</td>\n",
              "      <td>1.564177</td>\n",
              "      <td>-0.868644</td>\n",
              "      <td>1.0</td>\n",
              "      <td>-0.563214</td>\n",
              "      <td>...</td>\n",
              "      <td>-0.227472</td>\n",
              "      <td>-0.180125</td>\n",
              "      <td>-0.104401</td>\n",
              "      <td>0</td>\n",
              "      <td>0</td>\n",
              "      <td>1</td>\n",
              "      <td>0</td>\n",
              "      <td>0</td>\n",
              "      <td>0</td>\n",
              "      <td>1</td>\n",
              "    </tr>\n",
              "    <tr>\n",
              "      <th>737958</th>\n",
              "      <td>2737959.0</td>\n",
              "      <td>0.0</td>\n",
              "      <td>-0.093142</td>\n",
              "      <td>SANCHEZSOTO</td>\n",
              "      <td>DAVID</td>\n",
              "      <td>0.0</td>\n",
              "      <td>0.983559</td>\n",
              "      <td>-0.095521</td>\n",
              "      <td>7.0</td>\n",
              "      <td>0.439994</td>\n",
              "      <td>...</td>\n",
              "      <td>-0.047458</td>\n",
              "      <td>0.210211</td>\n",
              "      <td>-0.104401</td>\n",
              "      <td>0</td>\n",
              "      <td>0</td>\n",
              "      <td>1</td>\n",
              "      <td>0</td>\n",
              "      <td>1</td>\n",
              "      <td>0</td>\n",
              "      <td>0</td>\n",
              "    </tr>\n",
              "    <tr>\n",
              "      <th>72105</th>\n",
              "      <td>2072106.0</td>\n",
              "      <td>0.0</td>\n",
              "      <td>-0.093142</td>\n",
              "      <td>GUERRA</td>\n",
              "      <td>FAY</td>\n",
              "      <td>1.0</td>\n",
              "      <td>1.247476</td>\n",
              "      <td>-0.662259</td>\n",
              "      <td>0.0</td>\n",
              "      <td>-0.563214</td>\n",
              "      <td>...</td>\n",
              "      <td>-0.227472</td>\n",
              "      <td>-0.180125</td>\n",
              "      <td>-0.104401</td>\n",
              "      <td>1</td>\n",
              "      <td>0</td>\n",
              "      <td>0</td>\n",
              "      <td>0</td>\n",
              "      <td>0</td>\n",
              "      <td>1</td>\n",
              "      <td>0</td>\n",
              "    </tr>\n",
              "    <tr>\n",
              "      <th>856185</th>\n",
              "      <td>2856186.0</td>\n",
              "      <td>1.0</td>\n",
              "      <td>0.147501</td>\n",
              "      <td>CHAPMAN</td>\n",
              "      <td>MARY</td>\n",
              "      <td>1.0</td>\n",
              "      <td>2.197579</td>\n",
              "      <td>-0.965284</td>\n",
              "      <td>1.0</td>\n",
              "      <td>-0.563214</td>\n",
              "      <td>...</td>\n",
              "      <td>-0.047458</td>\n",
              "      <td>0.015043</td>\n",
              "      <td>0.050632</td>\n",
              "      <td>0</td>\n",
              "      <td>0</td>\n",
              "      <td>1</td>\n",
              "      <td>0</td>\n",
              "      <td>1</td>\n",
              "      <td>0</td>\n",
              "      <td>0</td>\n",
              "    </tr>\n",
              "    <tr>\n",
              "      <th>16670</th>\n",
              "      <td>2016671.0</td>\n",
              "      <td>0.0</td>\n",
              "      <td>-0.093142</td>\n",
              "      <td>STEVENS</td>\n",
              "      <td>LOUIS</td>\n",
              "      <td>0.0</td>\n",
              "      <td>1.616961</td>\n",
              "      <td>-0.876834</td>\n",
              "      <td>0.0</td>\n",
              "      <td>-0.563214</td>\n",
              "      <td>...</td>\n",
              "      <td>-0.227472</td>\n",
              "      <td>-0.180125</td>\n",
              "      <td>-0.104401</td>\n",
              "      <td>0</td>\n",
              "      <td>1</td>\n",
              "      <td>0</td>\n",
              "      <td>0</td>\n",
              "      <td>1</td>\n",
              "      <td>0</td>\n",
              "      <td>0</td>\n",
              "    </tr>\n",
              "    <tr>\n",
              "      <th>418756</th>\n",
              "      <td>2418757.0</td>\n",
              "      <td>0.0</td>\n",
              "      <td>-0.093142</td>\n",
              "      <td>LESTER</td>\n",
              "      <td>TANNER</td>\n",
              "      <td>0.0</td>\n",
              "      <td>0.139023</td>\n",
              "      <td>1.958496</td>\n",
              "      <td>6.0</td>\n",
              "      <td>-0.563214</td>\n",
              "      <td>...</td>\n",
              "      <td>1.662667</td>\n",
              "      <td>0.015043</td>\n",
              "      <td>-0.104401</td>\n",
              "      <td>0</td>\n",
              "      <td>0</td>\n",
              "      <td>1</td>\n",
              "      <td>1</td>\n",
              "      <td>0</td>\n",
              "      <td>0</td>\n",
              "      <td>0</td>\n",
              "    </tr>\n",
              "    <tr>\n",
              "      <th>582374</th>\n",
              "      <td>2582375.0</td>\n",
              "      <td>0.0</td>\n",
              "      <td>-0.093142</td>\n",
              "      <td>MAIGA</td>\n",
              "      <td>KENNETH</td>\n",
              "      <td>0.0</td>\n",
              "      <td>1.669744</td>\n",
              "      <td>-0.768728</td>\n",
              "      <td>2.0</td>\n",
              "      <td>-0.563214</td>\n",
              "      <td>...</td>\n",
              "      <td>-0.227472</td>\n",
              "      <td>-0.180125</td>\n",
              "      <td>-0.104401</td>\n",
              "      <td>0</td>\n",
              "      <td>1</td>\n",
              "      <td>0</td>\n",
              "      <td>0</td>\n",
              "      <td>1</td>\n",
              "      <td>0</td>\n",
              "      <td>0</td>\n",
              "    </tr>\n",
              "    <tr>\n",
              "      <th>508608</th>\n",
              "      <td>2508609.0</td>\n",
              "      <td>0.0</td>\n",
              "      <td>-0.093142</td>\n",
              "      <td>HUMPHRIES</td>\n",
              "      <td>EARL</td>\n",
              "      <td>0.0</td>\n",
              "      <td>-1.338915</td>\n",
              "      <td>-0.072589</td>\n",
              "      <td>7.0</td>\n",
              "      <td>-0.563214</td>\n",
              "      <td>...</td>\n",
              "      <td>-0.159967</td>\n",
              "      <td>-0.033749</td>\n",
              "      <td>-0.104401</td>\n",
              "      <td>0</td>\n",
              "      <td>0</td>\n",
              "      <td>1</td>\n",
              "      <td>0</td>\n",
              "      <td>0</td>\n",
              "      <td>0</td>\n",
              "      <td>1</td>\n",
              "    </tr>\n",
              "    <tr>\n",
              "      <th>175518</th>\n",
              "      <td>2175519.0</td>\n",
              "      <td>0.0</td>\n",
              "      <td>-0.093142</td>\n",
              "      <td>ABDULAZIZ</td>\n",
              "      <td>ELIZABETH</td>\n",
              "      <td>1.0</td>\n",
              "      <td>0.666858</td>\n",
              "      <td>-0.278974</td>\n",
              "      <td>5.0</td>\n",
              "      <td>-0.563214</td>\n",
              "      <td>...</td>\n",
              "      <td>-0.227472</td>\n",
              "      <td>-0.180125</td>\n",
              "      <td>-0.104401</td>\n",
              "      <td>0</td>\n",
              "      <td>0</td>\n",
              "      <td>1</td>\n",
              "      <td>1</td>\n",
              "      <td>0</td>\n",
              "      <td>0</td>\n",
              "      <td>0</td>\n",
              "    </tr>\n",
              "    <tr>\n",
              "      <th>738829</th>\n",
              "      <td>2738830.0</td>\n",
              "      <td>0.0</td>\n",
              "      <td>-0.093142</td>\n",
              "      <td>BRITON</td>\n",
              "      <td>LOURA</td>\n",
              "      <td>1.0</td>\n",
              "      <td>1.564177</td>\n",
              "      <td>0.579324</td>\n",
              "      <td>10.0</td>\n",
              "      <td>0.439994</td>\n",
              "      <td>...</td>\n",
              "      <td>0.357571</td>\n",
              "      <td>-0.082541</td>\n",
              "      <td>-0.104401</td>\n",
              "      <td>0</td>\n",
              "      <td>0</td>\n",
              "      <td>1</td>\n",
              "      <td>0</td>\n",
              "      <td>0</td>\n",
              "      <td>0</td>\n",
              "      <td>1</td>\n",
              "    </tr>\n",
              "    <tr>\n",
              "      <th>435004</th>\n",
              "      <td>2435005.0</td>\n",
              "      <td>0.0</td>\n",
              "      <td>-0.093142</td>\n",
              "      <td>HOLLIS</td>\n",
              "      <td>GREG</td>\n",
              "      <td>0.0</td>\n",
              "      <td>1.986445</td>\n",
              "      <td>-0.773641</td>\n",
              "      <td>1.0</td>\n",
              "      <td>-0.563214</td>\n",
              "      <td>...</td>\n",
              "      <td>-0.227472</td>\n",
              "      <td>-0.180125</td>\n",
              "      <td>-0.104401</td>\n",
              "      <td>0</td>\n",
              "      <td>0</td>\n",
              "      <td>1</td>\n",
              "      <td>0</td>\n",
              "      <td>0</td>\n",
              "      <td>1</td>\n",
              "      <td>0</td>\n",
              "    </tr>\n",
              "  </tbody>\n",
              "</table>\n",
              "<p>20 rows × 24 columns</p>\n",
              "</div>\n",
              "      <button class=\"colab-df-convert\" onclick=\"convertToInteractive('df-ba63551e-ef92-4b68-9d6c-314f98e82dce')\"\n",
              "              title=\"Convert this dataframe to an interactive table.\"\n",
              "              style=\"display:none;\">\n",
              "        \n",
              "  <svg xmlns=\"http://www.w3.org/2000/svg\" height=\"24px\"viewBox=\"0 0 24 24\"\n",
              "       width=\"24px\">\n",
              "    <path d=\"M0 0h24v24H0V0z\" fill=\"none\"/>\n",
              "    <path d=\"M18.56 5.44l.94 2.06.94-2.06 2.06-.94-2.06-.94-.94-2.06-.94 2.06-2.06.94zm-11 1L8.5 8.5l.94-2.06 2.06-.94-2.06-.94L8.5 2.5l-.94 2.06-2.06.94zm10 10l.94 2.06.94-2.06 2.06-.94-2.06-.94-.94-2.06-.94 2.06-2.06.94z\"/><path d=\"M17.41 7.96l-1.37-1.37c-.4-.4-.92-.59-1.43-.59-.52 0-1.04.2-1.43.59L10.3 9.45l-7.72 7.72c-.78.78-.78 2.05 0 2.83L4 21.41c.39.39.9.59 1.41.59.51 0 1.02-.2 1.41-.59l7.78-7.78 2.81-2.81c.8-.78.8-2.07 0-2.86zM5.41 20L4 18.59l7.72-7.72 1.47 1.35L5.41 20z\"/>\n",
              "  </svg>\n",
              "      </button>\n",
              "      \n",
              "  <style>\n",
              "    .colab-df-container {\n",
              "      display:flex;\n",
              "      flex-wrap:wrap;\n",
              "      gap: 12px;\n",
              "    }\n",
              "\n",
              "    .colab-df-convert {\n",
              "      background-color: #E8F0FE;\n",
              "      border: none;\n",
              "      border-radius: 50%;\n",
              "      cursor: pointer;\n",
              "      display: none;\n",
              "      fill: #1967D2;\n",
              "      height: 32px;\n",
              "      padding: 0 0 0 0;\n",
              "      width: 32px;\n",
              "    }\n",
              "\n",
              "    .colab-df-convert:hover {\n",
              "      background-color: #E2EBFA;\n",
              "      box-shadow: 0px 1px 2px rgba(60, 64, 67, 0.3), 0px 1px 3px 1px rgba(60, 64, 67, 0.15);\n",
              "      fill: #174EA6;\n",
              "    }\n",
              "\n",
              "    [theme=dark] .colab-df-convert {\n",
              "      background-color: #3B4455;\n",
              "      fill: #D2E3FC;\n",
              "    }\n",
              "\n",
              "    [theme=dark] .colab-df-convert:hover {\n",
              "      background-color: #434B5C;\n",
              "      box-shadow: 0px 1px 3px 1px rgba(0, 0, 0, 0.15);\n",
              "      filter: drop-shadow(0px 1px 2px rgba(0, 0, 0, 0.3));\n",
              "      fill: #FFFFFF;\n",
              "    }\n",
              "  </style>\n",
              "\n",
              "      <script>\n",
              "        const buttonEl =\n",
              "          document.querySelector('#df-ba63551e-ef92-4b68-9d6c-314f98e82dce button.colab-df-convert');\n",
              "        buttonEl.style.display =\n",
              "          google.colab.kernel.accessAllowed ? 'block' : 'none';\n",
              "\n",
              "        async function convertToInteractive(key) {\n",
              "          const element = document.querySelector('#df-ba63551e-ef92-4b68-9d6c-314f98e82dce');\n",
              "          const dataTable =\n",
              "            await google.colab.kernel.invokeFunction('convertToInteractive',\n",
              "                                                     [key], {});\n",
              "          if (!dataTable) return;\n",
              "\n",
              "          const docLinkHtml = 'Like what you see? Visit the ' +\n",
              "            '<a target=\"_blank\" href=https://colab.research.google.com/notebooks/data_table.ipynb>data table notebook</a>'\n",
              "            + ' to learn more about interactive tables.';\n",
              "          element.innerHTML = '';\n",
              "          dataTable['output_type'] = 'display_data';\n",
              "          await google.colab.output.renderOutput(dataTable, element);\n",
              "          const docLink = document.createElement('div');\n",
              "          docLink.innerHTML = docLinkHtml;\n",
              "          element.appendChild(docLink);\n",
              "        }\n",
              "      </script>\n",
              "    </div>\n",
              "  </div>\n",
              "  "
            ]
          },
          "metadata": {},
          "execution_count": 117
        }
      ],
      "source": [
        "scoring_data = pd.merge(data3, data4, on=[\"ID\"],how=\"right\")\n",
        "\n",
        "# Perform the same strategy for handling missing values for the score dataset.\n",
        "\n",
        "scoring_data = deal_missing_values(scoring_data)\n",
        "scoring_data = standardize_data(scoring_data)\n",
        "scoring_data = one_hot_function(scoring_data)\n",
        "scoring_data.sample(20)"
      ]
    },
    {
      "cell_type": "code",
      "execution_count": null,
      "id": "05b14516",
      "metadata": {
        "id": "05b14516"
      },
      "outputs": [],
      "source": [
        "# In this case, based on MSE (Mean Squared Error) criterion,\n",
        "# the linear regression model performed better than the regression tree.\n",
        "\n",
        "# X = scoring_data[['Age', 'Salary','MinGift', 'GaveLastYear','AmtLastYear','Woman', 'NbActivities'] + dummies_name]  \n",
        "X = scoring_data[train_columns]  \n",
        "regr_predict_end=regr.predict(X)\n",
        "# tree_predict_end = DT_model.predict(X)\n",
        "\n",
        "scoring_data['Prediction'] = regr_predict_end\n",
        "# scoring_data['Prediction'] = tree_predict_end\n",
        "scoring_data.sort_values(by=['Prediction'], inplace=True,ascending=False)\n",
        "# scoring_data.head(50)"
      ]
    },
    {
      "cell_type": "markdown",
      "id": "d86a874a",
      "metadata": {
        "id": "d86a874a"
      },
      "source": [
        "## Exporting Results to a CSV File"
      ]
    },
    {
      "cell_type": "code",
      "execution_count": null,
      "id": "669e8465",
      "metadata": {
        "id": "669e8465"
      },
      "outputs": [],
      "source": [
        "# Result= scoring_data[['ID','Prediction']]\n",
        "Result= scoring_data[['ID']]\n",
        "#Result.to_csv('Round1_Output.csv', index=False)"
      ]
    },
    {
      "cell_type": "code",
      "execution_count": null,
      "id": "21e1beed-b3ee-4c65-af88-fdaa5b5f0ce7",
      "metadata": {
        "id": "21e1beed-b3ee-4c65-af88-fdaa5b5f0ce7"
      },
      "outputs": [],
      "source": [
        "# Define your cutoff and choose a number of rows to submit to the leaderboard\n",
        "\n",
        "NB = 60000\n",
        "submission = Result.head(NB)\n",
        "submission.to_csv('Round1 No Recency2.csv', index=False)"
      ]
    },
    {
      "cell_type": "code",
      "execution_count": null,
      "id": "ad8ae500-d118-4ffe-9db4-616bf09b9d85",
      "metadata": {
        "id": "ad8ae500-d118-4ffe-9db4-616bf09b9d85"
      },
      "outputs": [],
      "source": [
        "# Reminder: Please note that you need only one column (the list of donors' IDs) to submit to the leaderboard.\n"
      ]
    },
    {
      "cell_type": "code",
      "execution_count": null,
      "id": "3105759d",
      "metadata": {
        "id": "3105759d",
        "colab": {
          "base_uri": "https://localhost:8080/"
        },
        "outputId": "02acfde7-6dd3-4830-a3a3-d19c3256d944"
      },
      "outputs": [
        {
          "output_type": "stream",
          "name": "stdout",
          "text": [
            "ID\n",
            "2631674.0\n",
            "2334250.0\n",
            "2265980.0\n",
            "2420891.0\n",
            "2954314.0\n",
            "2371231.0\n",
            "2416111.0\n",
            "2094131.0\n",
            "2100799.0\n"
          ]
        }
      ],
      "source": [
        "!head Round1\\ Output2.csv"
      ]
    }
  ],
  "metadata": {
    "kernelspec": {
      "display_name": "Python 3",
      "language": "python",
      "name": "python3"
    },
    "language_info": {
      "codemirror_mode": {
        "name": "ipython",
        "version": 3
      },
      "file_extension": ".py",
      "mimetype": "text/x-python",
      "name": "python",
      "nbconvert_exporter": "python",
      "pygments_lexer": "ipython3",
      "version": "3.8.8"
    },
    "colab": {
      "provenance": []
    },
    "accelerator": "GPU",
    "gpuClass": "standard"
  },
  "nbformat": 4,
  "nbformat_minor": 5
}